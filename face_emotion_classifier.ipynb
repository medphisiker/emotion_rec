{
  "cells": [
    {
      "cell_type": "markdown",
      "metadata": {
        "id": "J3QWLAxDSZKB"
      },
      "source": [
        "# Transfer Learning Using PyTorch Lightning ⚡️"
      ]
    },
    {
      "cell_type": "markdown",
      "metadata": {
        "id": "btliUYFBTRad"
      },
      "source": [
        "## Setting up PyTorch Lightning\n",
        "\n",
        "For this tutorial, we need PyTorch Lightning"
      ]
    },
    {
      "cell_type": "code",
      "execution_count": 1,
      "metadata": {},
      "outputs": [
        {
          "name": "stdout",
          "output_type": "stream",
          "text": [
            "Sun Apr 30 19:50:48 2023       \n",
            "+-----------------------------------------------------------------------------+\n",
            "| NVIDIA-SMI 515.86.01    Driver Version: 515.86.01    CUDA Version: 11.7     |\n",
            "|-------------------------------+----------------------+----------------------+\n",
            "| GPU  Name        Persistence-M| Bus-Id        Disp.A | Volatile Uncorr. ECC |\n",
            "| Fan  Temp  Perf  Pwr:Usage/Cap|         Memory-Usage | GPU-Util  Compute M. |\n",
            "|                               |                      |               MIG M. |\n",
            "|===============================+======================+======================|\n",
            "|   0  NVIDIA A10          Off  | 00000000:01:00.0 Off |                  Off |\n",
            "|  0%   56C    P0    68W / 150W |   3195MiB / 24564MiB |    100%      Default |\n",
            "|                               |                      |                  N/A |\n",
            "+-------------------------------+----------------------+----------------------+\n",
            "                                                                               \n",
            "+-----------------------------------------------------------------------------+\n",
            "| Processes:                                                                  |\n",
            "|  GPU   GI   CI        PID   Type   Process name                  GPU Memory |\n",
            "|        ID   ID                                                   Usage      |\n",
            "|=============================================================================|\n",
            "|    0   N/A  N/A   4151326      C   /usr/bin/python3                 3193MiB |\n",
            "+-----------------------------------------------------------------------------+\n"
          ]
        }
      ],
      "source": [
        "!nvidia-smi"
      ]
    },
    {
      "cell_type": "code",
      "execution_count": 2,
      "metadata": {},
      "outputs": [],
      "source": [
        "# Завершить все процессы, использующие ГПУ в нашей ОС\n",
        "!fuser -k /dev/nvidia[0]"
      ]
    },
    {
      "cell_type": "code",
      "execution_count": 3,
      "metadata": {
        "id": "S9pJ49LSTh-V"
      },
      "outputs": [],
      "source": [
        "import os\n",
        "\n",
        "import numpy as np\n",
        "import pandas as pd\n",
        "import pytorch_lightning as pl\n",
        "import torch\n",
        "import torchvision.models as models\n",
        "from PIL import Image\n",
        "# your favorite machine learning tracking tool\n",
        "from pytorch_lightning.loggers import TensorBoardLogger\n",
        "from sklearn.model_selection import train_test_split\n",
        "from torch import nn\n",
        "from torch.nn import functional as F\n",
        "from torch.utils.data import DataLoader, Dataset\n",
        "\n",
        "from torchvision import transforms\n"
      ]
    },
    {
      "cell_type": "markdown",
      "metadata": {
        "id": "RlOc1qJqULTF"
      },
      "source": [
        "## The Dataset 💿\n",
        "\n"
      ]
    },
    {
      "cell_type": "code",
      "execution_count": 4,
      "metadata": {},
      "outputs": [],
      "source": [
        "class ClassificationDataset(Dataset):\n",
        "    \"\"\"\n",
        "    Датасет с картинками, который производит изменения размера картинок,\n",
        "    аугментации и преобразование в тензоры PyTorch\n",
        "    \"\"\"\n",
        "    def __init__(self, img_paths, target, mode, rescale_size):\n",
        "        super().__init__()\n",
        "        # список файлов для загрузки\n",
        "        self.files = img_paths\n",
        "        \n",
        "        # изменяем размер картинок датасета на указанный\n",
        "        self.rescale_size = rescale_size\n",
        "        \n",
        "        # режим работы\n",
        "        self.mode = mode\n",
        "        self.available_modes = ['train', 'val', 'test']\n",
        "\n",
        "        if self.mode not in self.available_modes:\n",
        "            print(f\"{self.mode} is not correct; correct modes: {self.available_modes}\")\n",
        "            raise NameError\n",
        "\n",
        "        self.len_ = len(self.files)\n",
        "\n",
        "        if self.mode != 'test':\n",
        "            self.target = target\n",
        "                      \n",
        "    def __len__(self):\n",
        "        return self.len_\n",
        "      \n",
        "    def load_sample(self, file):\n",
        "        image = Image.open(file)\n",
        "        image.load()\n",
        "        return image\n",
        "  \n",
        "    def __getitem__(self, index):\n",
        "        # для преобразования изображений в тензоры PyTorch и нормализации входа\n",
        "        transform = transforms.Compose([\n",
        "            transforms.Resize(self.rescale_size),\n",
        "            transforms.ToTensor(),\n",
        "            # mean и std для набора данных ImageNet на котором были обучены \n",
        "            # предобученные сети из torchvision\n",
        "            transforms.Normalize(mean=[0.485, 0.456, 0.406],\n",
        "                                 std=[0.229, 0.224, 0.225])\n",
        "            ])\n",
        "        \n",
        "            # transforms.Normalize делается для того, чтобы подогнать наши \n",
        "            # данные под данные на которых были предобучены наши нейронные сети\n",
        "            # из torchvision.models они были обученные  на наборе данных \n",
        "            # ImageNet в документации по самому torchvision.models так же \n",
        "            # сказано https://pytorch.org/docs/stable/torchvision/models.html\n",
        "\n",
        "            # All pre-trained models expect input images normalized in the same way,\n",
        "            # i.e. mini-batches of 3-channel RGB images of shape (3 x H x W), \n",
        "            # where H and W are expected to be at least 224. The images have to be\n",
        "            # loaded in to a range of [0, 1] and then normalized using mean = [0.485, 0.456, 0.406]\n",
        "            # and std = [0.229, 0.224, 0.225]. You can use the following transform to normalize:\n",
        "            \n",
        "            # И ниже код от самих разработчиков PyTorch\n",
        "            # normalize = transforms.Normalize(mean=[0.485, 0.456, 0.406],\n",
        "            #                      std=[0.229, 0.224, 0.225])\n",
        "\n",
        "        # трансформация с аугментацией для обучающей выборки средствами PyTorch\n",
        "        transform_augment = transforms.Compose([\n",
        "            transforms.Resize(size=self.rescale_size),\n",
        "            transforms.RandomHorizontalFlip(),\n",
        "            transforms.RandomVerticalFlip(),\n",
        "            transforms.ColorJitter(hue=.1, saturation=.1),\n",
        "            transforms.ToTensor(),\n",
        "            # mean и std для набора данных ImageNet на котором были обучены \n",
        "            # предобученные сети из torchvision\n",
        "            transforms.Normalize(mean=[0.485, 0.456, 0.406],\n",
        "                                 std=[0.229, 0.224, 0.225])\n",
        "            ])\n",
        "\n",
        "        x = self.load_sample(self.files[index])\n",
        "        #x = np.array(x / 255, dtype='float32') *см. примечание ниже\n",
        "\n",
        "        # У нас тр режима датасета \n",
        "        # DATA_MODES = ['train', 'val', 'test']\n",
        "        # train - обучающая выборка на которой мы обучаем нейросеть \n",
        "        # (есть картинки и ответы к ним)\n",
        "        # val - валидационная выборка на которой мы тестируем как хорошо\n",
        "        #  нейросеть обучилась! (есть картинки и ответы к ним)\n",
        "        # test - тестовая выборка на которой мы предсказываем ответы для\n",
        "        #  скора в соревновании (есть картинки ответов нет!)\n",
        "\n",
        "        if self.mode == 'test': # если тестовая выборка у нас нет ответов и\n",
        "            x = transform(x)    # датасет не должен аугментировать картинки\n",
        "            return x\n",
        "        else:\n",
        "            if self.mode == 'train': # аугментируем обучающую выборку\n",
        "                x = transform_augment(x)\n",
        "            else:\n",
        "                x = transform(x) # не аугментируем валидационную выборку\n",
        "\n",
        "            # для train или val выборок у нас есть ответы по классам\n",
        "            y = self.target[index].item()\n",
        "\n",
        "            return x, y"
      ]
    },
    {
      "cell_type": "code",
      "execution_count": 5,
      "metadata": {
        "id": "yaF_kykKUFpk"
      },
      "outputs": [],
      "source": [
        "class ClassificationDataModule(pl.LightningDataModule):\n",
        "    def __init__(self, df_train_all, img_path_col, target_col, df_test, val_size, rescale_size, batch_size, num_workers):\n",
        "        super().__init__()\n",
        "\n",
        "        # задаем параметры даталоадера\n",
        "        self.rescale_size = rescale_size\n",
        "        self.batch_size = batch_size\n",
        "        self.num_workers = num_workers\n",
        "\n",
        "        # задаем данные датасета\n",
        "        train, val = train_test_split(df_train_all,\n",
        "                                      test_size=val_size,\n",
        "                                      random_state=42,\n",
        "                                      stratify=df_train_all[target_col].values)\n",
        "\n",
        "        train_paths = train[img_path_col].values\n",
        "        train_target = train[target_col].values\n",
        "        self.val_paths = val[img_path_col].values\n",
        "        self.val_target = val[target_col].values\n",
        "        test_paths = df_test[img_path_col].values\n",
        "\n",
        "        self.train = ClassificationDataset(train_paths,\n",
        "                                       train_target,\n",
        "                                       mode='train',\n",
        "                                       rescale_size=self.rescale_size)\n",
        "\n",
        "        self.val = ClassificationDataset(self.val_paths,\n",
        "                                     self.val_target,\n",
        "                                     mode='val',\n",
        "                                     rescale_size=self.rescale_size)\n",
        "\n",
        "        self.test = ClassificationDataset(test_paths,\n",
        "                                      None,\n",
        "                                      mode='test',\n",
        "                                      rescale_size=self.rescale_size)\n",
        "\n",
        "    def prepare_data(self):\n",
        "        pass\n",
        "\n",
        "    def train_dataloader(self):\n",
        "        return DataLoader(self.train,\n",
        "                          batch_size=self.batch_size,\n",
        "                          shuffle=True,\n",
        "                          num_workers=self.num_workers)\n",
        "\n",
        "    def val_dataloader(self):\n",
        "        return DataLoader(self.val,\n",
        "                          batch_size=self.batch_size,\n",
        "                          shuffle=False,\n",
        "                          num_workers=self.num_workers)\n",
        "\n",
        "    def test_by_val_dataloader(self):\n",
        "        test_val = ClassificationDataset(self.val_paths,\n",
        "                                     None,\n",
        "                                     mode='test',\n",
        "                                     rescale_size=self.rescale_size)\n",
        "\n",
        "        return DataLoader(test_val,\n",
        "                          batch_size=self.batch_size,\n",
        "                          shuffle=False,\n",
        "                          num_workers=self.num_workers)\n",
        "\n",
        "    def test_dataloader(self):\n",
        "        return DataLoader(self.test,\n",
        "                          batch_size=self.batch_size,\n",
        "                          shuffle=False,\n",
        "                          num_workers=self.num_workers)\n"
      ]
    },
    {
      "cell_type": "markdown",
      "metadata": {},
      "source": [
        "## Загрузка данных"
      ]
    },
    {
      "cell_type": "code",
      "execution_count": 6,
      "metadata": {},
      "outputs": [],
      "source": [
        "train_all = pd.read_csv('RAVDESS_frames_set/train.csv')\n",
        "test = pd.read_csv('RAVDESS_frames_set/test.csv')"
      ]
    },
    {
      "cell_type": "code",
      "execution_count": 7,
      "metadata": {},
      "outputs": [],
      "source": [
        "def df_change_paths(df, path, path_col):\n",
        "    df[path_col] =  path + '/' + df[path_col]"
      ]
    },
    {
      "cell_type": "code",
      "execution_count": 8,
      "metadata": {},
      "outputs": [],
      "source": [
        "# меняем пути у train и test\n",
        "path2datset = 'RAVDESS_frames_set'\n",
        "df_change_paths(train_all, path2datset, path_col = 'image_path')\n",
        "df_change_paths(test, path2datset, path_col = 'image_path')"
      ]
    },
    {
      "cell_type": "code",
      "execution_count": 9,
      "metadata": {},
      "outputs": [],
      "source": [
        "train_all.emotion_class -= 1\n",
        "test.emotion_class -= 1"
      ]
    },
    {
      "cell_type": "code",
      "execution_count": 10,
      "metadata": {},
      "outputs": [
        {
          "data": {
            "text/html": [
              "<div>\n",
              "<style scoped>\n",
              "    .dataframe tbody tr th:only-of-type {\n",
              "        vertical-align: middle;\n",
              "    }\n",
              "\n",
              "    .dataframe tbody tr th {\n",
              "        vertical-align: top;\n",
              "    }\n",
              "\n",
              "    .dataframe thead th {\n",
              "        text-align: right;\n",
              "    }\n",
              "</style>\n",
              "<table border=\"1\" class=\"dataframe\">\n",
              "  <thead>\n",
              "    <tr style=\"text-align: right;\">\n",
              "      <th></th>\n",
              "      <th>image_path</th>\n",
              "      <th>emotion_class</th>\n",
              "    </tr>\n",
              "  </thead>\n",
              "  <tbody>\n",
              "    <tr>\n",
              "      <th>0</th>\n",
              "      <td>RAVDESS_frames_set/train/02-01-01-01-01-01-01_...</td>\n",
              "      <td>0</td>\n",
              "    </tr>\n",
              "    <tr>\n",
              "      <th>1</th>\n",
              "      <td>RAVDESS_frames_set/train/02-01-01-01-01-01-01_...</td>\n",
              "      <td>0</td>\n",
              "    </tr>\n",
              "    <tr>\n",
              "      <th>2</th>\n",
              "      <td>RAVDESS_frames_set/train/02-01-01-01-01-01-01_...</td>\n",
              "      <td>0</td>\n",
              "    </tr>\n",
              "    <tr>\n",
              "      <th>3</th>\n",
              "      <td>RAVDESS_frames_set/train/02-01-01-01-01-01-01_...</td>\n",
              "      <td>0</td>\n",
              "    </tr>\n",
              "    <tr>\n",
              "      <th>4</th>\n",
              "      <td>RAVDESS_frames_set/train/02-01-01-01-01-01-01_...</td>\n",
              "      <td>0</td>\n",
              "    </tr>\n",
              "    <tr>\n",
              "      <th>...</th>\n",
              "      <td>...</td>\n",
              "      <td>...</td>\n",
              "    </tr>\n",
              "    <tr>\n",
              "      <th>46066</th>\n",
              "      <td>RAVDESS_frames_set/train/02-02-06-02-02-02-19_...</td>\n",
              "      <td>5</td>\n",
              "    </tr>\n",
              "    <tr>\n",
              "      <th>46067</th>\n",
              "      <td>RAVDESS_frames_set/train/02-02-06-02-02-02-19_...</td>\n",
              "      <td>5</td>\n",
              "    </tr>\n",
              "    <tr>\n",
              "      <th>46068</th>\n",
              "      <td>RAVDESS_frames_set/train/02-02-06-02-02-02-19_...</td>\n",
              "      <td>5</td>\n",
              "    </tr>\n",
              "    <tr>\n",
              "      <th>46069</th>\n",
              "      <td>RAVDESS_frames_set/train/02-02-06-02-02-02-19_...</td>\n",
              "      <td>5</td>\n",
              "    </tr>\n",
              "    <tr>\n",
              "      <th>46070</th>\n",
              "      <td>RAVDESS_frames_set/train/02-02-06-02-02-02-19_...</td>\n",
              "      <td>5</td>\n",
              "    </tr>\n",
              "  </tbody>\n",
              "</table>\n",
              "<p>46071 rows × 2 columns</p>\n",
              "</div>"
            ],
            "text/plain": [
              "                                              image_path  emotion_class\n",
              "0      RAVDESS_frames_set/train/02-01-01-01-01-01-01_...              0\n",
              "1      RAVDESS_frames_set/train/02-01-01-01-01-01-01_...              0\n",
              "2      RAVDESS_frames_set/train/02-01-01-01-01-01-01_...              0\n",
              "3      RAVDESS_frames_set/train/02-01-01-01-01-01-01_...              0\n",
              "4      RAVDESS_frames_set/train/02-01-01-01-01-01-01_...              0\n",
              "...                                                  ...            ...\n",
              "46066  RAVDESS_frames_set/train/02-02-06-02-02-02-19_...              5\n",
              "46067  RAVDESS_frames_set/train/02-02-06-02-02-02-19_...              5\n",
              "46068  RAVDESS_frames_set/train/02-02-06-02-02-02-19_...              5\n",
              "46069  RAVDESS_frames_set/train/02-02-06-02-02-02-19_...              5\n",
              "46070  RAVDESS_frames_set/train/02-02-06-02-02-02-19_...              5\n",
              "\n",
              "[46071 rows x 2 columns]"
            ]
          },
          "execution_count": 10,
          "metadata": {},
          "output_type": "execute_result"
        }
      ],
      "source": [
        "train_all"
      ]
    },
    {
      "cell_type": "code",
      "execution_count": 11,
      "metadata": {},
      "outputs": [
        {
          "data": {
            "text/html": [
              "<div>\n",
              "<style scoped>\n",
              "    .dataframe tbody tr th:only-of-type {\n",
              "        vertical-align: middle;\n",
              "    }\n",
              "\n",
              "    .dataframe tbody tr th {\n",
              "        vertical-align: top;\n",
              "    }\n",
              "\n",
              "    .dataframe thead th {\n",
              "        text-align: right;\n",
              "    }\n",
              "</style>\n",
              "<table border=\"1\" class=\"dataframe\">\n",
              "  <thead>\n",
              "    <tr style=\"text-align: right;\">\n",
              "      <th></th>\n",
              "      <th>image_path</th>\n",
              "      <th>emotion_class</th>\n",
              "    </tr>\n",
              "  </thead>\n",
              "  <tbody>\n",
              "    <tr>\n",
              "      <th>0</th>\n",
              "      <td>RAVDESS_frames_set/test/02-01-01-01-01-01-20_f...</td>\n",
              "      <td>0</td>\n",
              "    </tr>\n",
              "    <tr>\n",
              "      <th>1</th>\n",
              "      <td>RAVDESS_frames_set/test/02-01-01-01-01-01-20_f...</td>\n",
              "      <td>0</td>\n",
              "    </tr>\n",
              "    <tr>\n",
              "      <th>2</th>\n",
              "      <td>RAVDESS_frames_set/test/02-01-01-01-01-01-20_f...</td>\n",
              "      <td>0</td>\n",
              "    </tr>\n",
              "    <tr>\n",
              "      <th>3</th>\n",
              "      <td>RAVDESS_frames_set/test/02-01-01-01-01-01-20_f...</td>\n",
              "      <td>0</td>\n",
              "    </tr>\n",
              "    <tr>\n",
              "      <th>4</th>\n",
              "      <td>RAVDESS_frames_set/test/02-01-01-01-01-01-20_f...</td>\n",
              "      <td>0</td>\n",
              "    </tr>\n",
              "    <tr>\n",
              "      <th>...</th>\n",
              "      <td>...</td>\n",
              "      <td>...</td>\n",
              "    </tr>\n",
              "    <tr>\n",
              "      <th>12900</th>\n",
              "      <td>RAVDESS_frames_set/test/02-02-06-02-02-02-24_f...</td>\n",
              "      <td>5</td>\n",
              "    </tr>\n",
              "    <tr>\n",
              "      <th>12901</th>\n",
              "      <td>RAVDESS_frames_set/test/02-02-06-02-02-02-24_f...</td>\n",
              "      <td>5</td>\n",
              "    </tr>\n",
              "    <tr>\n",
              "      <th>12902</th>\n",
              "      <td>RAVDESS_frames_set/test/02-02-06-02-02-02-24_f...</td>\n",
              "      <td>5</td>\n",
              "    </tr>\n",
              "    <tr>\n",
              "      <th>12903</th>\n",
              "      <td>RAVDESS_frames_set/test/02-02-06-02-02-02-24_f...</td>\n",
              "      <td>5</td>\n",
              "    </tr>\n",
              "    <tr>\n",
              "      <th>12904</th>\n",
              "      <td>RAVDESS_frames_set/test/02-02-06-02-02-02-24_f...</td>\n",
              "      <td>5</td>\n",
              "    </tr>\n",
              "  </tbody>\n",
              "</table>\n",
              "<p>12905 rows × 2 columns</p>\n",
              "</div>"
            ],
            "text/plain": [
              "                                              image_path  emotion_class\n",
              "0      RAVDESS_frames_set/test/02-01-01-01-01-01-20_f...              0\n",
              "1      RAVDESS_frames_set/test/02-01-01-01-01-01-20_f...              0\n",
              "2      RAVDESS_frames_set/test/02-01-01-01-01-01-20_f...              0\n",
              "3      RAVDESS_frames_set/test/02-01-01-01-01-01-20_f...              0\n",
              "4      RAVDESS_frames_set/test/02-01-01-01-01-01-20_f...              0\n",
              "...                                                  ...            ...\n",
              "12900  RAVDESS_frames_set/test/02-02-06-02-02-02-24_f...              5\n",
              "12901  RAVDESS_frames_set/test/02-02-06-02-02-02-24_f...              5\n",
              "12902  RAVDESS_frames_set/test/02-02-06-02-02-02-24_f...              5\n",
              "12903  RAVDESS_frames_set/test/02-02-06-02-02-02-24_f...              5\n",
              "12904  RAVDESS_frames_set/test/02-02-06-02-02-02-24_f...              5\n",
              "\n",
              "[12905 rows x 2 columns]"
            ]
          },
          "execution_count": 11,
          "metadata": {},
          "output_type": "execute_result"
        }
      ],
      "source": [
        "test"
      ]
    },
    {
      "cell_type": "code",
      "execution_count": 12,
      "metadata": {},
      "outputs": [
        {
          "data": {
            "text/plain": [
              "8"
            ]
          },
          "execution_count": 12,
          "metadata": {},
          "output_type": "execute_result"
        }
      ],
      "source": [
        "# число различных эмоций в датасете\n",
        "emotion_num = len(train_all.emotion_class.unique())\n",
        "emotion_num"
      ]
    },
    {
      "cell_type": "markdown",
      "metadata": {
        "id": "ZwY6LvI2VfrT"
      },
      "source": [
        "## LightingModule - Define the System\n",
        "\n",
        "Let us look at the model definition to see how transfer learning can be used with PyTorch Lightning.\n",
        "In the `LitModel` class, we can use the pre-trained model provided by Torchvision as a feature extractor for our classification model. Here we are using ResNet-18. A list of pre-trained models provided by PyTorch Lightning can be found here.\n",
        "- When `pretrained=True`, we use the pre-trained weights; otherwise, the weights are initialized randomly.\n",
        "- If `.eval()` is used, then the layers are frozen. \n",
        "- A single `Linear` layer is used as the output layer. We can have multiple layers stacked over the `feature_extractor`.\n",
        "\n",
        "Setting the `transfer` argument to `True` will enable transfer learning."
      ]
    },
    {
      "cell_type": "code",
      "execution_count": 13,
      "metadata": {},
      "outputs": [
        {
          "data": {
            "text/plain": [
              "tensor([[ 0.1380,  0.6685, -0.0073, -1.0130, -0.0760],\n",
              "        [-1.0171, -1.2225, -0.5208,  1.6187, -1.2939],\n",
              "        [ 0.5455, -0.1512,  0.6499,  0.4628,  0.1536]], requires_grad=True)"
            ]
          },
          "execution_count": 13,
          "metadata": {},
          "output_type": "execute_result"
        }
      ],
      "source": [
        "input = torch.randn(3, 5, requires_grad=True)\n",
        "input"
      ]
    },
    {
      "cell_type": "code",
      "execution_count": 14,
      "metadata": {},
      "outputs": [
        {
          "data": {
            "text/plain": [
              "tensor([3, 2, 1])"
            ]
          },
          "execution_count": 14,
          "metadata": {},
          "output_type": "execute_result"
        }
      ],
      "source": [
        "target = torch.randint(5, (3,), dtype=torch.int64)\n",
        "target"
      ]
    },
    {
      "cell_type": "code",
      "execution_count": 15,
      "metadata": {},
      "outputs": [
        {
          "data": {
            "text/plain": [
              "tensor(2.4108, grad_fn=<NllLossBackward0>)"
            ]
          },
          "execution_count": 15,
          "metadata": {},
          "output_type": "execute_result"
        }
      ],
      "source": [
        "loss = F.cross_entropy(input, target)\n",
        "loss"
      ]
    },
    {
      "cell_type": "code",
      "execution_count": 16,
      "metadata": {},
      "outputs": [],
      "source": [
        "out = torch.tensor([[-0.0321, -1.0382, -0.7115,  0.7244, -0.7180, -0.2087,  0.0209,  0.0369],\n",
        "        [-0.0024, -0.5507, -0.3870,  0.3491, -0.3878, -0.0760,  0.0271,  0.0739],\n",
        "        [-0.0069, -0.9884, -0.6649,  0.6924, -0.6594, -0.1798,  0.0361,  0.0328],\n",
        "        [ 0.0922, -1.1948, -0.7246,  0.7769, -0.7256, -0.1863,  0.0324,  0.0058],\n",
        "        [-0.0534, -0.2918, -0.2282,  0.1992, -0.2340, -0.0500,  0.0134,  0.0788],\n",
        "        [ 0.0070, -0.5273, -0.3537,  0.3760, -0.3911, -0.0876,  0.0190,  0.0090],\n",
        "        [-0.0278, -0.7287, -0.4794,  0.4743, -0.5034, -0.1076,  0.0267,  0.0425],\n",
        "        [ 0.0318, -1.2083, -0.7701,  0.8049, -0.7718, -0.2089,  0.0230, -0.0132],\n",
        "        [ 0.0558, -1.1303, -0.6720,  0.7225, -0.6775, -0.1675,  0.0325,  0.0153],\n",
        "        [-0.0657, -0.2824, -0.2243,  0.2136, -0.2409, -0.0474,  0.0126,  0.0745],\n",
        "        [ 0.0642, -1.0512, -0.6611,  0.7036, -0.6611, -0.1644,  0.0534,  0.0330],\n",
        "        [ 0.1440, -1.3713, -0.8318,  0.9156, -0.7692, -0.1917,  0.0347, -0.0290],\n",
        "        [-0.0380, -0.8143, -0.5513,  0.5606, -0.5839, -0.1679,  0.0308,  0.0403],\n",
        "        [ 0.0055, -1.1752, -0.7871,  0.8346, -0.7540, -0.2137,  0.0396,  0.0598],\n",
        "        [-0.0323, -0.7066, -0.4911,  0.4632, -0.5065, -0.1124,  0.0352,  0.0799],\n",
        "        [-0.0554, -0.8554, -0.6004,  0.5979, -0.6116, -0.1651,  0.0388,  0.0546],\n",
        "        [-0.0385, -0.7008, -0.4919,  0.5020, -0.5277, -0.1252,  0.0274,  0.0439],\n",
        "        [ 0.0144, -0.9584, -0.6493,  0.6484, -0.6353, -0.1721,  0.0303,  0.0598],\n",
        "        [-0.0905, -0.6633, -0.4926,  0.4549, -0.5012, -0.1172,  0.0310,  0.0421],\n",
        "        [-0.0271, -0.6183, -0.4416,  0.3999, -0.4378, -0.1092,  0.0195,  0.0759],\n",
        "        [-0.0338, -0.8055, -0.5456,  0.5482, -0.5660, -0.1484,  0.0277,  0.0629],\n",
        "        [-0.0451, -0.6427, -0.4526,  0.4330, -0.4652, -0.0958,  0.0293,  0.0704],\n",
        "        [-0.0135, -1.0196, -0.6846,  0.6959, -0.6850, -0.1709,  0.0477,  0.0208],\n",
        "        [ 0.0477, -1.2471, -0.7868,  0.7833, -0.7770, -0.2172,  0.0394,  0.0556],\n",
        "        [-0.0091, -0.8365, -0.5416,  0.5573, -0.5385, -0.1515,  0.0388,  0.0417],\n",
        "        [-0.0310, -0.8139, -0.5449,  0.5329, -0.5604, -0.1194,  0.0346,  0.0432],\n",
        "        [ 0.0157, -0.3765, -0.2324,  0.2606, -0.2426, -0.0699,  0.0044,  0.0647],\n",
        "        [ 0.0169, -1.1366, -0.7709,  0.7835, -0.7525, -0.2466,  0.0579,  0.0631],\n",
        "        [ 0.0419, -0.6248, -0.3796,  0.4086, -0.3953, -0.1043, -0.0045,  0.0551],\n",
        "        [ 0.0504, -1.1780, -0.7580,  0.7657, -0.7583, -0.1753,  0.0274,  0.0339],\n",
        "        [-0.0788, -0.6606, -0.4857,  0.4642, -0.4780, -0.1462,  0.0250,  0.1079],\n",
        "        [-0.0533, -0.6496, -0.4577,  0.4518, -0.4914, -0.1007,  0.0521,  0.0592],\n",
        "        [-0.0704, -0.8194, -0.5587,  0.5605, -0.5910, -0.1405,  0.0219,  0.0616],\n",
        "        [-0.1002, -0.6163, -0.4834,  0.4599, -0.4877, -0.1401,  0.0229,  0.0602],\n",
        "        [-0.0413, -0.2325, -0.1655,  0.1614, -0.1652, -0.0178,  0.0241,  0.0709],\n",
        "        [-0.1018, -0.4221, -0.3094,  0.3434, -0.3424, -0.0714,  0.0537,  0.0353],\n",
        "        [ 0.0877, -1.0659, -0.6560,  0.6979, -0.6647, -0.1628,  0.0199,  0.0058],\n",
        "        [-0.0404, -0.8831, -0.6130,  0.6082, -0.6054, -0.1751,  0.0354,  0.0470],\n",
        "        [-0.0501, -0.5791, -0.4244,  0.4027, -0.4349, -0.0889,  0.0215,  0.0587],\n",
        "        [-0.0822, -0.6191, -0.4727,  0.4546, -0.4753, -0.1357,  0.0378,  0.1100],\n",
        "        [ 0.0100, -1.0770, -0.7276,  0.7320, -0.7233, -0.1707,  0.0386,  0.0227],\n",
        "        [-0.0487, -1.0118, -0.6577,  0.6767, -0.6843, -0.1578,  0.0182,  0.0447],\n",
        "        [-0.0112, -1.1541, -0.7592,  0.7821, -0.7401, -0.2303,  0.0533,  0.0479],\n",
        "        [ 0.0114, -0.9795, -0.6581,  0.6355, -0.6725, -0.1406,  0.0427,  0.0321],\n",
        "        [-0.0837, -1.0428, -0.7224,  0.7063, -0.7020, -0.2393,  0.0356,  0.0876],\n",
        "        [ 0.1489, -1.3303, -0.8414,  0.9072, -0.7458, -0.1881,  0.0222, -0.0260],\n",
        "        [-0.0626, -0.8245, -0.5859,  0.5497, -0.5896, -0.1203,  0.0340,  0.0517],\n",
        "        [-0.0016, -0.5245, -0.3520,  0.3409, -0.3415, -0.0737,  0.0251,  0.0543],\n",
        "        [ 0.0031, -0.8085, -0.5626,  0.5262, -0.5669, -0.1417,  0.0283,  0.0578],\n",
        "        [-0.0222, -0.9438, -0.6256,  0.6261, -0.6406, -0.1683,  0.0686,  0.0636],\n",
        "        [ 0.0308, -0.8014, -0.5251,  0.5018, -0.5143, -0.1316,  0.0365,  0.0562],\n",
        "        [-0.1929, -1.2074, -0.9424,  0.8939, -0.9101, -0.2981,  0.0041,  0.0069],\n",
        "        [-0.0494, -0.7700, -0.5415,  0.5242, -0.5586, -0.1321,  0.0431,  0.0766],\n",
        "        [ 0.0968, -1.1558, -0.7197,  0.7415, -0.7049, -0.1926,  0.0132,  0.0235],\n",
        "        [-0.0410, -0.8225, -0.5739,  0.5566, -0.5756, -0.1549,  0.0467,  0.0690],\n",
        "        [-0.0439, -0.5402, -0.3693,  0.3561, -0.3895, -0.0919,  0.0272,  0.0369],\n",
        "        [ 0.0036, -1.1455, -0.7487,  0.8022, -0.7256, -0.2098,  0.0244,  0.0362],\n",
        "        [-0.0245, -0.4078, -0.2667,  0.2854, -0.2814, -0.0723,  0.0223,  0.0692],\n",
        "        [-0.1347, -0.8496, -0.6390,  0.6255, -0.6419, -0.1836,  0.0359,  0.0259],\n",
        "        [-0.0596, -0.7628, -0.5499,  0.5334, -0.5549, -0.1461,  0.0484,  0.0588],\n",
        "        [ 0.1139, -1.2621, -0.7826,  0.8372, -0.7372, -0.2252,  0.0023, -0.0035],\n",
        "        [-0.0067, -0.6005, -0.4122,  0.3939, -0.4126, -0.0929,  0.0276,  0.0641],\n",
        "        [-0.0110, -0.5046, -0.3548,  0.3473, -0.3673, -0.0693,  0.0288,  0.0511],\n",
        "        [-0.0722, -0.3077, -0.2520,  0.2330, -0.2573, -0.0632,  0.0281,  0.0831]])"
      ]
    },
    {
      "cell_type": "code",
      "execution_count": 17,
      "metadata": {},
      "outputs": [
        {
          "data": {
            "text/plain": [
              "torch.Size([64, 8])"
            ]
          },
          "execution_count": 17,
          "metadata": {},
          "output_type": "execute_result"
        }
      ],
      "source": [
        "out.shape"
      ]
    },
    {
      "cell_type": "code",
      "execution_count": 18,
      "metadata": {},
      "outputs": [
        {
          "data": {
            "text/plain": [
              "tensor([3, 3, 3, 3, 3, 3, 3, 3, 3, 3, 3, 3, 3, 3, 3, 3, 3, 3, 3, 3, 3, 3, 3, 3,\n",
              "        3, 3, 3, 3, 3, 3, 3, 3, 3, 3, 3, 3, 3, 3, 3, 3, 3, 3, 3, 3, 3, 3, 3, 3,\n",
              "        3, 3, 3, 3, 3, 3, 3, 3, 3, 3, 3, 3, 3, 3, 3, 3])"
            ]
          },
          "execution_count": 18,
          "metadata": {},
          "output_type": "execute_result"
        }
      ],
      "source": [
        "torch.argmax(out, -1)"
      ]
    },
    {
      "cell_type": "code",
      "execution_count": 19,
      "metadata": {
        "id": "qu0xf25aUckF"
      },
      "outputs": [],
      "source": [
        "from torchmetrics.classification import F1Score\n",
        "\n",
        "f1 = F1Score(task=\"multiclass\", num_classes=emotion_num)\n",
        "\n",
        "\n",
        "class LitModel(pl.LightningModule):\n",
        "    def __init__(self, input_shape, classes_num, learning_rate=1e-4, transfer=False):\n",
        "        super().__init__()\n",
        "\n",
        "        # log hyperparameters\n",
        "        self.save_hyperparameters()\n",
        "        self.learning_rate = learning_rate\n",
        "        self.dim = input_shape\n",
        "        self.step = 0\n",
        "\n",
        "        # transfer learning if pretrained=True\n",
        "        self.neural_net = models.resnet50(pretrained=transfer)\n",
        "        self.neural_net.fc = nn.Linear(2048, classes_num)\n",
        "\n",
        "        self.criterion = nn.functional.cross_entropy\n",
        "        # self.metric = f1\n",
        "\n",
        "    # will be used during inference\n",
        "    def forward(self, x):\n",
        "        return self.neural_net(x)\n",
        "\n",
        "    # def training_step(self, batch):\n",
        "    #     batch, gt = batch[0], batch[1]\n",
        "    #     out = self.forward(batch)\n",
        "    #     out, gt = torch.argmax(out, dim=1).float(), torch.flatten(gt).float()\n",
        "\n",
        "    #     # Write-Overwrites\n",
        "    #     # file1 = open(\"myfile.txt\", \"w\")  # write mode\n",
        "    #     # file1.write(f\"{out} \\n\")\n",
        "    #     # file1.write(f\"{gt} \\n\")\n",
        "    #     # file1.close()\n",
        "\n",
        "    #     loss = self.criterion(out, gt)\n",
        "\n",
        "    #     # metric_value = self.metric(out, gt)\n",
        "\n",
        "    #     self.step += 1\n",
        "\n",
        "    #     self.log(\"train_loss\", loss)\n",
        "    #     # self.log(\"train_f1\", metric_value)\n",
        "    #     self.log(\"train_step\", self.step)\n",
        "\n",
        "    #     return loss\n",
        "\n",
        "    def training_step(self, batch, batch_idx):\n",
        "        x, y = batch\n",
        "        y_pred = self(x)\n",
        "        \n",
        "        # Write-Overwrites\n",
        "        file1 = open(\"myfile.txt\", \"w\")  # write mode\n",
        "        file1.write(f\"{y_pred} \\n\")\n",
        "        file1.write(f\"{y} \\n\")\n",
        "        file1.close()\n",
        "        \n",
        "        loss = self.criterion(y_pred, y)\n",
        "        self.log(\"train_loss\", loss)\n",
        "\n",
        "        return loss\n",
        "\n",
        "    # def validation_step(self, batch, batch_idx):\n",
        "    #     batch, gt = batch[0], batch[1]\n",
        "    #     out = self.forward(batch)\n",
        "    #     out, gt = torch.argmax(out, dim=1).float(), torch.flatten(gt).float()\n",
        "\n",
        "    #     # Write-Overwrites\n",
        "    #     # file1 = open(\"myfile.txt\", \"w\")  # write mode\n",
        "    #     # file1.write(f\"{out} \\n\")\n",
        "    #     # file1.write(f\"{gt} \\n\")\n",
        "    #     # file1.close()\n",
        "\n",
        "    #     loss = self.criterion(out, gt)\n",
        "\n",
        "    #     self.log(\"val_loss\", loss)\n",
        "\n",
        "    #     # metric_value = self.metric(out, gt)\n",
        "    #     # self.log(\"val_f1\", metric_value)\n",
        "\n",
        "    #     return loss\n",
        "\n",
        "    def validation_step(self, batch, batch_idx):\n",
        "        x, y = batch\n",
        "        y_pred = self(x)\n",
        "        \n",
        "        # Write-Overwrites\n",
        "        file1 = open(\"myfile.txt\", \"w\")  # write mode\n",
        "        file1.write(f\"{y_pred} \\n\")\n",
        "        file1.write(f\"{y} \\n\")\n",
        "        file1.close()\n",
        "        \n",
        "        loss = self.criterion(y_pred, y)\n",
        "        self.log(\"val_loss\", loss)\n",
        "\n",
        "        return loss\n",
        "\n",
        "    # def predict_step(self, batch, batch_idx):\n",
        "    #     return self(batch).tolist()\n",
        "\n",
        "    # def test_step(self, batch, batch_idx):\n",
        "    #     batch, gt = batch[0], batch[1]\n",
        "    #     out = self.forward(batch)\n",
        "    #     out, gt = torch.argmax(out, dim=1).float(), torch.flatten(gt).float()\n",
        "\n",
        "    #     # Write-Overwrites\n",
        "    #     # file1 = open(\"myfile.txt\", \"w\")  # write mode\n",
        "    #     # file1.write(f\"{out} \\n\")\n",
        "    #     # file1.write(f\"{gt} \\n\")\n",
        "    #     # file1.close()\n",
        "\n",
        "    #     loss = self.criterion(out, gt)\n",
        "\n",
        "    #     return loss  # {\"loss\": loss, \"outputs\": out, \"gt\": gt}\n",
        "\n",
        "    def test_step(self, batch, batch_idx):\n",
        "        x, y = batch\n",
        "        y_pred = self(x)\n",
        "        \n",
        "        # Write-Overwrites\n",
        "        file1 = open(\"myfile.txt\", \"w\")  # write mode\n",
        "        file1.write(f\"{y_pred} \\n\")\n",
        "        file1.write(f\"{y} \\n\")\n",
        "        file1.close()\n",
        "        \n",
        "        loss = self.criterion(y_pred, y)\n",
        "        self.log(\"test_loss : \", loss)\n",
        "\n",
        "        return loss\n",
        "\n",
        "    # def test_epoch_end(self, outputs):\n",
        "    #     loss = torch.stack([x['loss'].float() for x in outputs]).mean()\n",
        "    #     output = torch.cat([x['outputs'].float() for x in outputs], dim=0)\n",
        "\n",
        "    #     gts = torch.cat([x['gt'].float() for x in outputs], dim=0)\n",
        "\n",
        "    #     self.log(\"test_loss\", loss)\n",
        "    #     # metric_value = self.metric(output, gts)\n",
        "    #     # self.log(\"test_f1\", metric_value)\n",
        "\n",
        "    #     self.test_gts = gts\n",
        "    #     self.test_output = output\n",
        "\n",
        "    def configure_optimizers(self):\n",
        "        return torch.optim.Adam(self.parameters(), lr=self.learning_rate)\n"
      ]
    },
    {
      "cell_type": "markdown",
      "metadata": {
        "id": "PCGQbJq7Wx6o"
      },
      "source": [
        "## Train your Model 🏋️‍♂️"
      ]
    },
    {
      "cell_type": "markdown",
      "metadata": {},
      "source": [
        "### Вначале определим оптимальный learning rate для нашей модели!"
      ]
    },
    {
      "cell_type": "code",
      "execution_count": 20,
      "metadata": {},
      "outputs": [],
      "source": [
        "transfer_flag=False"
      ]
    },
    {
      "cell_type": "code",
      "execution_count": 21,
      "metadata": {},
      "outputs": [],
      "source": [
        "# создаем загрузчик данных\n",
        "dm = ClassificationDataModule(df_train_all=train_all,\n",
        "                          img_path_col='image_path',\n",
        "                          target_col='emotion_class',\n",
        "                          df_test=test,\n",
        "                          val_size=0.2,\n",
        "                          rescale_size=(224, 224),\n",
        "                          batch_size=64,\n",
        "                          num_workers=12)"
      ]
    },
    {
      "attachments": {},
      "cell_type": "markdown",
      "metadata": {},
      "source": [
        "# Небольшая проверка работы загрузчика данных"
      ]
    },
    {
      "cell_type": "code",
      "execution_count": 22,
      "metadata": {},
      "outputs": [],
      "source": [
        "data_loader = dm.train_dataloader()\n",
        "image , label = next(iter(data_loader))"
      ]
    },
    {
      "cell_type": "code",
      "execution_count": 23,
      "metadata": {},
      "outputs": [
        {
          "data": {
            "text/plain": [
              "torch.Size([64, 3, 224, 224])"
            ]
          },
          "execution_count": 23,
          "metadata": {},
          "output_type": "execute_result"
        }
      ],
      "source": [
        "image.shape"
      ]
    },
    {
      "cell_type": "code",
      "execution_count": 24,
      "metadata": {},
      "outputs": [
        {
          "data": {
            "text/plain": [
              "tensor([3, 7, 1, 5, 1, 3, 3, 3, 2, 3, 3, 2, 1, 4, 4, 0, 4, 3, 4, 1, 1, 4, 4, 2,\n",
              "        4, 2, 6, 5, 2, 2, 3, 0, 4, 2, 3, 3, 4, 1, 2, 1, 7, 3, 1, 3, 5, 1, 3, 1,\n",
              "        3, 5, 4, 4, 5, 0, 1, 3, 4, 1, 0, 1, 6, 1, 2, 7])"
            ]
          },
          "execution_count": 24,
          "metadata": {},
          "output_type": "execute_result"
        }
      ],
      "source": [
        "label"
      ]
    },
    {
      "attachments": {},
      "cell_type": "markdown",
      "metadata": {},
      "source": [
        "# Обучение"
      ]
    },
    {
      "cell_type": "code",
      "execution_count": 25,
      "metadata": {
        "colab": {
          "base_uri": "https://localhost:8080/"
        },
        "id": "Oq4R84NbWcH6",
        "outputId": "99ac3372-630a-4321-a881-1a7148d5a35b"
      },
      "outputs": [
        {
          "name": "stderr",
          "output_type": "stream",
          "text": [
            "/home/admin-gpu/miniconda3/envs/detectron2/lib/python3.10/site-packages/torchvision/models/_utils.py:208: UserWarning: The parameter 'pretrained' is deprecated since 0.13 and may be removed in the future, please use 'weights' instead.\n",
            "  warnings.warn(\n",
            "/home/admin-gpu/miniconda3/envs/detectron2/lib/python3.10/site-packages/torchvision/models/_utils.py:223: UserWarning: Arguments other than a weight enum or `None` for 'weights' are deprecated since 0.13 and may be removed in the future. The current behavior is equivalent to passing `weights=None`.\n",
            "  warnings.warn(msg)\n",
            "GPU available: True (cuda), used: True\n",
            "TPU available: False, using: 0 TPU cores\n",
            "IPU available: False, using: 0 IPUs\n",
            "HPU available: False, using: 0 HPUs\n"
          ]
        }
      ],
      "source": [
        "model = LitModel((3, 224, 224), emotion_num, transfer=transfer_flag)\n",
        "trainer = pl.Trainer(accelerator=\"gpu\", log_every_n_steps=10)\n"
      ]
    },
    {
      "cell_type": "code",
      "execution_count": 26,
      "metadata": {},
      "outputs": [
        {
          "name": "stderr",
          "output_type": "stream",
          "text": [
            "/home/admin-gpu/miniconda3/envs/detectron2/lib/python3.10/site-packages/pytorch_lightning/loops/utilities.py:94: PossibleUserWarning: `max_epochs` was not set. Setting it to 1000 epochs. To train without an epoch limit, set `max_epochs=-1`.\n",
            "  rank_zero_warn(\n",
            "You are using a CUDA device ('NVIDIA A10') that has Tensor Cores. To properly utilize them, you should set `torch.set_float32_matmul_precision('medium' | 'high')` which will trade-off precision for performance. For more details, read https://pytorch.org/docs/stable/generated/torch.set_float32_matmul_precision.html#torch.set_float32_matmul_precision\n",
            "LOCAL_RANK: 0 - CUDA_VISIBLE_DEVICES: [0]\n"
          ]
        },
        {
          "data": {
            "application/vnd.jupyter.widget-view+json": {
              "model_id": "a1bcc4f90ff24ceca37d64e8f9b7f992",
              "version_major": 2,
              "version_minor": 0
            },
            "text/plain": [
              "Finding best initial lr:   0%|          | 0/100 [00:00<?, ?it/s]"
            ]
          },
          "metadata": {},
          "output_type": "display_data"
        },
        {
          "name": "stderr",
          "output_type": "stream",
          "text": [
            "`Trainer.fit` stopped: `max_steps=100` reached.\n",
            "Restoring states from the checkpoint path at /home/admin-gpu/Downloads/datasets/emotion_rec/.lr_find_a23438d2-3071-4d91-943d-09a7a980eab5.ckpt\n",
            "Restored all states from the checkpoint file at /home/admin-gpu/Downloads/datasets/emotion_rec/.lr_find_a23438d2-3071-4d91-943d-09a7a980eab5.ckpt\n"
          ]
        }
      ],
      "source": [
        "# запустим процесс подбора learning rate\n",
        "lr_finder = trainer.tuner.lr_find(model, dm)"
      ]
    },
    {
      "cell_type": "code",
      "execution_count": 27,
      "metadata": {},
      "outputs": [
        {
          "data": {
            "text/plain": [
              "{'lr': [1e-08,\n",
              "  1.4454397707459274e-08,\n",
              "  1.7378008287493753e-08,\n",
              "  2.0892961308540398e-08,\n",
              "  2.51188643150958e-08,\n",
              "  3.019951720402016e-08,\n",
              "  3.630780547701014e-08,\n",
              "  4.36515832240166e-08,\n",
              "  5.248074602497726e-08,\n",
              "  6.309573444801934e-08,\n",
              "  7.585775750291837e-08,\n",
              "  9.120108393559096e-08,\n",
              "  1.0964781961431852e-07,\n",
              "  1.3182567385564074e-07,\n",
              "  1.5848931924611133e-07,\n",
              "  1.9054607179632475e-07,\n",
              "  2.2908676527677735e-07,\n",
              "  2.7542287033381663e-07,\n",
              "  3.311311214825911e-07,\n",
              "  3.9810717055349735e-07,\n",
              "  4.786300923226383e-07,\n",
              "  5.75439937337157e-07,\n",
              "  6.918309709189366e-07,\n",
              "  8.317637711026709e-07,\n",
              "  1e-06,\n",
              "  1.2022644346174132e-06,\n",
              "  1.445439770745928e-06,\n",
              "  1.7378008287493761e-06,\n",
              "  2.089296130854039e-06,\n",
              "  2.5118864315095797e-06,\n",
              "  3.0199517204020163e-06,\n",
              "  3.630780547701014e-06,\n",
              "  4.365158322401661e-06,\n",
              "  5.248074602497728e-06,\n",
              "  6.3095734448019305e-06,\n",
              "  7.585775750291836e-06,\n",
              "  9.120108393559096e-06,\n",
              "  1.0964781961431852e-05,\n",
              "  1.3182567385564076e-05,\n",
              "  1.584893192461114e-05,\n",
              "  1.9054607179632464e-05,\n",
              "  2.2908676527677725e-05,\n",
              "  2.7542287033381663e-05,\n",
              "  3.311311214825911e-05,\n",
              "  3.9810717055349735e-05,\n",
              "  4.786300923226385e-05,\n",
              "  5.7543993733715664e-05,\n",
              "  6.918309709189363e-05,\n",
              "  8.317637711026709e-05,\n",
              "  0.0001,\n",
              "  0.00012022644346174131,\n",
              "  0.0001445439770745928,\n",
              "  0.00017378008287493763,\n",
              "  0.0002089296130854041,\n",
              "  0.0002511886431509582,\n",
              "  0.0003019951720402019,\n",
              "  0.000363078054770101,\n",
              "  0.0004365158322401656,\n",
              "  0.0005248074602497723,\n",
              "  0.000630957344480193,\n",
              "  0.0007585775750291836,\n",
              "  0.0009120108393559097,\n",
              "  0.0010964781961431851,\n",
              "  0.0013182567385564075,\n",
              "  0.001584893192461114,\n",
              "  0.0019054607179632484,\n",
              "  0.0022908676527677745,\n",
              "  0.002754228703338169,\n",
              "  0.003311311214825908,\n",
              "  0.003981071705534969,\n",
              "  0.00478630092322638,\n",
              "  0.005754399373371567,\n",
              "  0.006918309709189364,\n",
              "  0.008317637711026709,\n",
              "  0.01,\n",
              "  0.012022644346174132,\n",
              "  0.01445439770745928,\n",
              "  0.017378008287493765,\n",
              "  0.02089296130854041,\n",
              "  0.025118864315095822,\n",
              "  0.030199517204020192,\n",
              "  0.036307805477010104,\n",
              "  0.04365158322401657,\n",
              "  0.05248074602497723,\n",
              "  0.0630957344480193,\n",
              "  0.07585775750291836,\n",
              "  0.09120108393559097,\n",
              "  0.10964781961431852,\n",
              "  0.13182567385564073,\n",
              "  0.15848931924611143,\n",
              "  0.19054607179632482,\n",
              "  0.2290867652767775,\n",
              "  0.2754228703338169,\n",
              "  0.3311311214825908,\n",
              "  0.3981071705534969,\n",
              "  0.47863009232263803,\n",
              "  0.5754399373371567,\n",
              "  0.6918309709189363,\n",
              "  0.8317637711026709,\n",
              "  1.0],\n",
              " 'loss': [1.1838825062067808,\n",
              "  1.5336600003186052,\n",
              "  1.711122184385776,\n",
              "  1.8318605267801356,\n",
              "  1.9116614101493892,\n",
              "  1.970587508524284,\n",
              "  2.017075342006457,\n",
              "  2.0497725887989566,\n",
              "  2.0756763152887303,\n",
              "  2.091261664772307,\n",
              "  2.1029232398071795,\n",
              "  2.1226318109435627,\n",
              "  2.1430297844804223,\n",
              "  2.1648605196071857,\n",
              "  2.1814177999279196,\n",
              "  2.1910420785188225,\n",
              "  2.1981611242625183,\n",
              "  2.207007553344134,\n",
              "  2.205826670092331,\n",
              "  2.207922849403877,\n",
              "  2.208590757077808,\n",
              "  2.2092172285480496,\n",
              "  2.2124160357715135,\n",
              "  2.216036484035824,\n",
              "  2.217430701459315,\n",
              "  2.22517903046978,\n",
              "  2.2241532325126347,\n",
              "  2.2220544808730067,\n",
              "  2.221093097050619,\n",
              "  2.2195155153404844,\n",
              "  2.226604575861217,\n",
              "  2.227608017961121,\n",
              "  2.2248760775906966,\n",
              "  2.2291303579953676,\n",
              "  2.226785562637711,\n",
              "  2.2238151974193223,\n",
              "  2.22256091583361,\n",
              "  2.2214796945087985,\n",
              "  2.2227172339189,\n",
              "  2.2225754241354245,\n",
              "  2.2210216894236767,\n",
              "  2.2201538271236716,\n",
              "  2.2168636265853014,\n",
              "  2.2106625219380027,\n",
              "  2.2058166265336028,\n",
              "  2.2004171315799743,\n",
              "  2.191740040627283,\n",
              "  2.18496718150183,\n",
              "  2.1813975559490437,\n",
              "  2.1799416098921456,\n",
              "  2.172828492564316,\n",
              "  2.165572738128517,\n",
              "  2.1600766266698797,\n",
              "  2.154418457949597,\n",
              "  2.147454238713488,\n",
              "  2.1466915495630867,\n",
              "  2.1442962473348537,\n",
              "  2.1402350026726595,\n",
              "  2.1392237583108313,\n",
              "  2.1323641201841452,\n",
              "  2.1344479863444916,\n",
              "  2.132728906103832,\n",
              "  2.133199552154296,\n",
              "  2.1292552671960507,\n",
              "  2.1334117875562213,\n",
              "  2.1397038598696625,\n",
              "  2.1438997273431015,\n",
              "  2.1473463894364677,\n",
              "  2.150191914232468,\n",
              "  2.163494946154845,\n",
              "  2.1718856351108005,\n",
              "  2.185190734971468,\n",
              "  2.2155357874377204,\n",
              "  2.2509258927227562,\n",
              "  2.278094579128493,\n",
              "  2.3085458160862236,\n",
              "  2.324335952277496,\n",
              "  2.32724564092116,\n",
              "  2.355648036711147,\n",
              "  2.3569338776450426,\n",
              "  2.353989848395593,\n",
              "  2.360696484661236,\n",
              "  2.3651653557264942,\n",
              "  2.3639740868611527,\n",
              "  2.356600199477985,\n",
              "  2.3529060710532756,\n",
              "  2.3636726102156724,\n",
              "  2.3564801970079183,\n",
              "  2.3767046757379497,\n",
              "  2.374531521512271,\n",
              "  2.383906462406875,\n",
              "  2.3833190828322843,\n",
              "  2.376527519984643,\n",
              "  2.372410477818852,\n",
              "  2.3658854410557595,\n",
              "  2.362750822685507,\n",
              "  2.361150548863489,\n",
              "  2.3538725646579093,\n",
              "  2.3494682958143644,\n",
              "  2.345814856581643]}"
            ]
          },
          "execution_count": 27,
          "metadata": {},
          "output_type": "execute_result"
        }
      ],
      "source": [
        "# Results can be found in\n",
        "lr_finder.results"
      ]
    },
    {
      "cell_type": "code",
      "execution_count": 28,
      "metadata": {},
      "outputs": [
        {
          "data": {
            "text/plain": [
              "5.7543993733715664e-05"
            ]
          },
          "execution_count": 28,
          "metadata": {},
          "output_type": "execute_result"
        },
        {
          "data": {
            "image/png": "[encoded data removed]",
            "text/plain": [
              "<Figure size 640x480 with 1 Axes>"
            ]
          },
          "metadata": {},
          "output_type": "display_data"
        }
      ],
      "source": [
        "# Plot with\n",
        "fig = lr_finder.plot(suggest=True)\n",
        "fig.show()\n",
        "\n",
        "# Pick point based on plot, or get suggestion\n",
        "new_lr = lr_finder.suggestion()\n",
        "new_lr"
      ]
    },
    {
      "cell_type": "code",
      "execution_count": 29,
      "metadata": {},
      "outputs": [
        {
          "data": {
            "text/plain": [
              "5.7543993733715664e-05"
            ]
          },
          "execution_count": 29,
          "metadata": {},
          "output_type": "execute_result"
        }
      ],
      "source": [
        "# зададим новый Lr модели\n",
        "new_lr = 5.7543993733715664e-05\n",
        "new_lr"
      ]
    },
    {
      "cell_type": "markdown",
      "metadata": {},
      "source": [
        "### Можем найти максимально возможный батч который влезет на нашу ГПУ\n",
        "\n",
        "Не оптимальный размер батча для обучения, а именно максимально возможный на нашем оборудовании."
      ]
    },
    {
      "cell_type": "code",
      "execution_count": 19,
      "metadata": {},
      "outputs": [],
      "source": [
        "# model = LitModel((3, 224, 224), transfer=transfer_flag, learning_rate=new_lr)\n",
        "# trainer = pl.Trainer(accelerator=\"gpu\", auto_scale_batch_size=\"binsearch\")"
      ]
    },
    {
      "cell_type": "code",
      "execution_count": 20,
      "metadata": {},
      "outputs": [],
      "source": [
        "# call tune to find the batch size\n",
        "# trainer.tune(model, dm)"
      ]
    },
    {
      "cell_type": "markdown",
      "metadata": {},
      "source": [
        "### Непосредственно обучение модели"
      ]
    },
    {
      "cell_type": "code",
      "execution_count": 30,
      "metadata": {},
      "outputs": [],
      "source": [
        "from pytorch_lightning.callbacks.early_stopping import EarlyStopping\n",
        "from pytorch_lightning.callbacks import ModelCheckpoint\n",
        "\n",
        "# создадим обратный вызов на раннюю остановку обучения\n",
        "early_stop_callback = EarlyStopping(monitor=\"val_loss\", patience=10, verbose=False, mode=\"min\")\n",
        "\n",
        "# создадим обратный вызов на сохранение чекпоинта модели,\n",
        "# по интересующей нас метрике\n",
        "# saves top-K checkpoints based on \"val_loss\" metric\n",
        "checkpoint_callback_val_loss = ModelCheckpoint(\n",
        "    save_top_k=5,\n",
        "    monitor=\"val_loss\",\n",
        "    mode=\"min\",\n",
        "    filename=\"check_point-{epoch:02d}-{val_loss:.2f}\",\n",
        ")\n",
        "\n",
        "# saves last-K checkpoints based on \"global_step\" metric\n",
        "# make sure you log it inside your LightningModule\n",
        "checkpoint_callback_last_step = ModelCheckpoint(\n",
        "    save_top_k=1,\n",
        "    monitor=\"train_step\",\n",
        "    mode=\"max\",\n",
        "    filename=\"check_point-{epoch:02d}-{train_step}\",\n",
        ")\n"
      ]
    },
    {
      "cell_type": "markdown",
      "metadata": {},
      "source": [
        "### Претрейн регрессора"
      ]
    },
    {
      "cell_type": "code",
      "execution_count": 31,
      "metadata": {},
      "outputs": [
        {
          "name": "stderr",
          "output_type": "stream",
          "text": [
            "/home/admin-gpu/miniconda3/envs/detectron2/lib/python3.10/site-packages/torchvision/models/_utils.py:208: UserWarning: The parameter 'pretrained' is deprecated since 0.13 and may be removed in the future, please use 'weights' instead.\n",
            "  warnings.warn(\n",
            "/home/admin-gpu/miniconda3/envs/detectron2/lib/python3.10/site-packages/torchvision/models/_utils.py:223: UserWarning: Arguments other than a weight enum or `None` for 'weights' are deprecated since 0.13 and may be removed in the future. The current behavior is equivalent to passing `weights=ResNet50_Weights.IMAGENET1K_V1`. You can also use `weights=ResNet50_Weights.DEFAULT` to get the most up-to-date weights.\n",
            "  warnings.warn(msg)\n",
            "GPU available: True (cuda), used: True\n",
            "TPU available: False, using: 0 TPU cores\n",
            "IPU available: False, using: 0 IPUs\n",
            "HPU available: False, using: 0 HPUs\n"
          ]
        }
      ],
      "source": [
        "# начинаем обучение модели\n",
        "\n",
        "model = LitModel((3, 224, 224), emotion_num, transfer=True, learning_rate=0.1**3)\n",
        "\n",
        "# добавляем список обратных вызовов в параметр callbacks\n",
        "trainer = pl.Trainer(accelerator=\"gpu\", \n",
        "                     callbacks=[early_stop_callback,\n",
        "                                checkpoint_callback_val_loss,\n",
        "                                checkpoint_callback_last_step],\n",
        "                     max_epochs=15,\n",
        "                     log_every_n_steps=10)"
      ]
    },
    {
      "cell_type": "code",
      "execution_count": 32,
      "metadata": {
        "colab": {
          "base_uri": "https://localhost:8080/",
          "height": 451,
          "referenced_widgets": [
            "9a5e8f6ec24440c9a8e492f0b26dccd7",
            "8748e51758624a65b6d96dbbd0728050",
            "d0d3ba7ca37f45589d5ef19724bfbe0a",
            "f57ba79c60f641ff82e40f3bec1efdb7",
            "bb1ab7bf3cbf4b278714de3b5c7739b4",
            "39b689dfb0704e52ad1240005573472a",
            "a4caa5e80c584c968c27ce610c97d3d3",
            "3d5009901e944003a3e28293dacd0de2",
            "5fdec22f00954727bc192dc49f178405",
            "154936482c374fc681f2acabe79f314b",
            "7e12468c4ae94a6988567e9558ec99e5",
            "564e683c56a941cb9905b9c1e3074a06",
            "afdf53665b7e419c8b915bd3fd6c6774",
            "531ebf5c19d44c96aacef9858ef06951",
            "4f3e6921b8f844f086a139b8c6d9e262",
            "e1c1620e7db944cab1ea607914aff6a7",
            "34903c22094040a69bc25474324cfe4d",
            "ede24ba48b194b388ff612e34cb657e4",
            "98f8ab8723f94885902659b91b56e109",
            "5ba6d4bd534c47b2acc063dbb7a20cae",
            "e0f0c3c13b284d028cab5fe53ab66065",
            "6e6a59a41dde45cbaba2df3eefd4d132",
            "9343e6c0f7ee4e2d9354581401e49627",
            "59ac5410035e4dc3ab724bbc78aab4be",
            "a0c4e0b4bd3d4d2a9b439135cf46efdc",
            "70392f3c19cf419db81adccd7082af90",
            "e3461e501f1344019d44d4e44ff7dae3",
            "d7a299642cd74873b04bfa681c84f580",
            "ea37ade7647c486c852927ea8649e17e",
            "3d389574546243459a762064b947f080",
            "36b583d474f045c38b3dba861ad4eced",
            "5fcb26e15bf94f4693d2f4abf1eb6526",
            "0d2b3f45c7d543cf9f429be1a411a628",
            "f7093acf2c4b4205a1d80215581a0d4f",
            "89f55b38e4384178b4322b2623bd37b7",
            "7ff15c9932e34e6193286580e30554b8",
            "c36687e5c6b74f909dfd5f449b8ce9c9",
            "ade0f4af25d34bfe97d6ae6c2096e355",
            "d2507c5f83f942c38c96e023c6ef7a7f",
            "bea9d3bfe8454f40b5d92fdd277be97f",
            "378bed5985f14fa0a0f2a72ff8be7968",
            "cb4ce143bd074d6982adbacbb56feba4",
            "a97e62a6c02c440ab92da70a350c350b",
            "d35807dfd8224695ad05073b2f8e6f8a",
            "b5c0ee44fef942c28d1fbd937bd5fb94",
            "091b70ddd8694fbab8bcafc3f9533b32",
            "10ab4e6224b6421c8e72bfb19fdf4cf4",
            "d7f62ce60a264c47958c4d389c0f1ff7",
            "3e494051bb564c6495e9a306d24c0d4d",
            "faedf77712344b40a98ae5a544357ee4",
            "c129600b32fb4c32adc1ab864a64f836",
            "ec45568c643e4b259cbfb27d4f31f045",
            "af8a5b4d8db841ad88cafc3c49bb37e6",
            "270993b048bb4b1bbbb948eda1535b60",
            "935153335bc0424491f87ccab31d2e3d",
            "eae674ee2f79467992ba681a0e5cdbe2",
            "2aacbea643f547c7b7e601a534bb2ec7",
            "9c9548f810984a81b01ae248d37f975c",
            "2aaf3a22e6bd40c49b995859462bc801",
            "1b562021f69b4683887d72cadd61441f",
            "147b6f07597c45f9bea8a95b3462da3a",
            "b6e81e9250ff48c7b6d2831a4052ee3e",
            "af38d95133e84e3b80dabc2d1ca4a90b",
            "3e8bd69952f846c79c7ee8dffb99f98c",
            "f7c10594d1664f37b4fbe1d21a8f9f78",
            "af80cc31e97e462a8fd548fa714925eb",
            "506c2ef5d79c498fa70c652266cf2f55",
            "52ee45b62b4641f4b9db158733d3518a",
            "42ce97240c8e47288d6a187b78bc578c",
            "6242c19efe2e4a5dabac4783db8bd685",
            "c9f899a0259a49b2b35ad6a4421e7133",
            "2191f453101d428eaab0f083d96f55eb",
            "5c58a35771e64a58b32044fb5aff7f39",
            "eccc2d7eeb884da8b30024eb87abd2f9",
            "98faee0c48514a7aa6d62d0c01ad0679",
            "0b0d39a3c65949fb9abbd7603180d436",
            "9aef16d4f3494b5aac84d60c2bd06e97",
            "efa2d3cf9c9948b78b2ed987410ff71f",
            "2585d31bcb0b48b0ab71bc14580aa635",
            "4108e507494a4faf964ab2e769af7b49",
            "4732ed1daa0148558d88d7b208ed6381",
            "8674f000797245a1b62fd80d1551f4f7",
            "1b102ec815a64a35b96776bb96ff8f75",
            "cdc2ced225ad471f91a79056074cc07e",
            "d174f8beb5f24bd3ab1ec584f8ccfd8b",
            "e3a775bf3c754d438767bb5f4dafcc84",
            "be3fce310aee48eca9687cddb69621d4",
            "60630c5ad6a34939a665a3049590700c"
          ]
        },
        "id": "InyEyFeqXcck",
        "outputId": "be393d49-04c4-4635-a449-222683dcdedc"
      },
      "outputs": [
        {
          "name": "stderr",
          "output_type": "stream",
          "text": [
            "You are using a CUDA device ('NVIDIA A10') that has Tensor Cores. To properly utilize them, you should set `torch.set_float32_matmul_precision('medium' | 'high')` which will trade-off precision for performance. For more details, read https://pytorch.org/docs/stable/generated/torch.set_float32_matmul_precision.html#torch.set_float32_matmul_precision\n",
            "LOCAL_RANK: 0 - CUDA_VISIBLE_DEVICES: [0]\n",
            "\n",
            "  | Name       | Type   | Params\n",
            "--------------------------------------\n",
            "0 | neural_net | ResNet | 23.5 M\n",
            "--------------------------------------\n",
            "23.5 M    Trainable params\n",
            "0         Non-trainable params\n",
            "23.5 M    Total params\n",
            "94.098    Total estimated model params size (MB)\n"
          ]
        },
        {
          "data": {
            "application/vnd.jupyter.widget-view+json": {
              "model_id": "2211c6025e724d1a8b739bfbb1886865",
              "version_major": 2,
              "version_minor": 0
            },
            "text/plain": [
              "Sanity Checking: 0it [00:00, ?it/s]"
            ]
          },
          "metadata": {},
          "output_type": "display_data"
        },
        {
          "data": {
            "application/vnd.jupyter.widget-view+json": {
              "model_id": "b7c9319a0da64d0c92a6322a49c98d79",
              "version_major": 2,
              "version_minor": 0
            },
            "text/plain": [
              "Training: 0it [00:00, ?it/s]"
            ]
          },
          "metadata": {},
          "output_type": "display_data"
        },
        {
          "name": "stderr",
          "output_type": "stream",
          "text": [
            "/home/admin-gpu/miniconda3/envs/detectron2/lib/python3.10/site-packages/pytorch_lightning/trainer/call.py:48: UserWarning: Detected KeyboardInterrupt, attempting graceful shutdown...\n",
            "  rank_zero_warn(\"Detected KeyboardInterrupt, attempting graceful shutdown...\")\n"
          ]
        }
      ],
      "source": [
        "trainer.fit(model, dm)"
      ]
    },
    {
      "cell_type": "code",
      "execution_count": 25,
      "metadata": {},
      "outputs": [],
      "source": [
        "model = model.load_from_checkpoint(\"models_check/check_point-epoch=14-val_loss=2.05.ckpt\")"
      ]
    },
    {
      "cell_type": "markdown",
      "metadata": {},
      "source": [
        "### Тренеровка всей модели"
      ]
    },
    {
      "cell_type": "code",
      "execution_count": 26,
      "metadata": {},
      "outputs": [],
      "source": [
        "# делаем обучаемой всю модель!\n",
        "model.set_trainable()\n",
        "model.learning_rate = 0.1**5"
      ]
    },
    {
      "cell_type": "code",
      "execution_count": 27,
      "metadata": {},
      "outputs": [
        {
          "data": {
            "text/plain": [
              "1.0000000000000003e-05"
            ]
          },
          "execution_count": 27,
          "metadata": {},
          "output_type": "execute_result"
        }
      ],
      "source": [
        "model.learning_rate"
      ]
    },
    {
      "cell_type": "code",
      "execution_count": 28,
      "metadata": {},
      "outputs": [
        {
          "name": "stderr",
          "output_type": "stream",
          "text": [
            "GPU available: True (cuda), used: True\n",
            "TPU available: False, using: 0 TPU cores\n",
            "IPU available: False, using: 0 IPUs\n",
            "HPU available: False, using: 0 HPUs\n"
          ]
        }
      ],
      "source": [
        "# добавляем список обратных вызовов в параметр callbacks\n",
        "trainer = pl.Trainer(accelerator=\"gpu\", \n",
        "                     callbacks=[early_stop_callback,\n",
        "                                checkpoint_callback_val_loss,\n",
        "                                checkpoint_callback_last_step],\n",
        "                     log_every_n_steps=10)"
      ]
    },
    {
      "cell_type": "code",
      "execution_count": 29,
      "metadata": {},
      "outputs": [
        {
          "name": "stderr",
          "output_type": "stream",
          "text": [
            "/home/admin-gpu/anaconda3/lib/python3.9/site-packages/pytorch_lightning/loops/utilities.py:89: PossibleUserWarning: `max_epochs` was not set. Setting it to 1000 epochs. To train without an epoch limit, set `max_epochs=-1`.\n",
            "  rank_zero_warn(\n",
            "/home/admin-gpu/anaconda3/lib/python3.9/site-packages/pytorch_lightning/callbacks/model_checkpoint.py:616: UserWarning: Checkpoint directory /home/admin-gpu/Downloads/MADE_2022_contest_2/lightning_logs/version_0/checkpoints exists and is not empty.\n",
            "  rank_zero_warn(f\"Checkpoint directory {dirpath} exists and is not empty.\")\n",
            "LOCAL_RANK: 0 - CUDA_VISIBLE_DEVICES: [0]\n",
            "\n",
            "  | Name              | Type   | Params\n",
            "---------------------------------------------\n",
            "0 | feature_extractor | ResNet | 25.6 M\n",
            "1 | regressor         | Linear | 1.0 K \n",
            "---------------------------------------------\n",
            "25.6 M    Trainable params\n",
            "0         Non-trainable params\n",
            "25.6 M    Total params\n",
            "102.232   Total estimated model params size (MB)\n"
          ]
        },
        {
          "data": {
            "application/vnd.jupyter.widget-view+json": {
              "model_id": "f7839c1ac02c4155a9959f33f0c74b93",
              "version_major": 2,
              "version_minor": 0
            },
            "text/plain": [
              "Sanity Checking: 0it [00:00, ?it/s]"
            ]
          },
          "metadata": {},
          "output_type": "display_data"
        },
        {
          "data": {
            "application/vnd.jupyter.widget-view+json": {
              "model_id": "f0a2e364e796492d838974bb8deab331",
              "version_major": 2,
              "version_minor": 0
            },
            "text/plain": [
              "Training: 0it [00:00, ?it/s]"
            ]
          },
          "metadata": {},
          "output_type": "display_data"
        },
        {
          "data": {
            "application/vnd.jupyter.widget-view+json": {
              "model_id": "da8e966ac17343dfadf118b60ddc8922",
              "version_major": 2,
              "version_minor": 0
            },
            "text/plain": [
              "Validation: 0it [00:00, ?it/s]"
            ]
          },
          "metadata": {},
          "output_type": "display_data"
        },
        {
          "data": {
            "application/vnd.jupyter.widget-view+json": {
              "model_id": "c3c3028db1f7421aa1788db4635182c3",
              "version_major": 2,
              "version_minor": 0
            },
            "text/plain": [
              "Validation: 0it [00:00, ?it/s]"
            ]
          },
          "metadata": {},
          "output_type": "display_data"
        },
        {
          "data": {
            "application/vnd.jupyter.widget-view+json": {
              "model_id": "4f8193702cb944f0a97e774869c1a784",
              "version_major": 2,
              "version_minor": 0
            },
            "text/plain": [
              "Validation: 0it [00:00, ?it/s]"
            ]
          },
          "metadata": {},
          "output_type": "display_data"
        },
        {
          "data": {
            "application/vnd.jupyter.widget-view+json": {
              "model_id": "ce56440fdc224deb9feb5e7c6cc6ef93",
              "version_major": 2,
              "version_minor": 0
            },
            "text/plain": [
              "Validation: 0it [00:00, ?it/s]"
            ]
          },
          "metadata": {},
          "output_type": "display_data"
        },
        {
          "data": {
            "application/vnd.jupyter.widget-view+json": {
              "model_id": "8d10f9c1ec8c485eab3583338b3ed422",
              "version_major": 2,
              "version_minor": 0
            },
            "text/plain": [
              "Validation: 0it [00:00, ?it/s]"
            ]
          },
          "metadata": {},
          "output_type": "display_data"
        },
        {
          "data": {
            "application/vnd.jupyter.widget-view+json": {
              "model_id": "039da81fe9cb4772ba5e5e4ac6c2ce2d",
              "version_major": 2,
              "version_minor": 0
            },
            "text/plain": [
              "Validation: 0it [00:00, ?it/s]"
            ]
          },
          "metadata": {},
          "output_type": "display_data"
        },
        {
          "data": {
            "application/vnd.jupyter.widget-view+json": {
              "model_id": "49fe1de0f8d14be3a028e7b408fea65d",
              "version_major": 2,
              "version_minor": 0
            },
            "text/plain": [
              "Validation: 0it [00:00, ?it/s]"
            ]
          },
          "metadata": {},
          "output_type": "display_data"
        },
        {
          "data": {
            "application/vnd.jupyter.widget-view+json": {
              "model_id": "54d60dc0c9c14e85af5a514447f6510c",
              "version_major": 2,
              "version_minor": 0
            },
            "text/plain": [
              "Validation: 0it [00:00, ?it/s]"
            ]
          },
          "metadata": {},
          "output_type": "display_data"
        },
        {
          "data": {
            "application/vnd.jupyter.widget-view+json": {
              "model_id": "6ce2efc096a94ae9bbd8738eba3d0bf7",
              "version_major": 2,
              "version_minor": 0
            },
            "text/plain": [
              "Validation: 0it [00:00, ?it/s]"
            ]
          },
          "metadata": {},
          "output_type": "display_data"
        },
        {
          "data": {
            "application/vnd.jupyter.widget-view+json": {
              "model_id": "e830027a745245ee8459e4ac5f92ffb8",
              "version_major": 2,
              "version_minor": 0
            },
            "text/plain": [
              "Validation: 0it [00:00, ?it/s]"
            ]
          },
          "metadata": {},
          "output_type": "display_data"
        },
        {
          "data": {
            "application/vnd.jupyter.widget-view+json": {
              "model_id": "c05c23703ab34a6a9bfaaaa5a7801685",
              "version_major": 2,
              "version_minor": 0
            },
            "text/plain": [
              "Validation: 0it [00:00, ?it/s]"
            ]
          },
          "metadata": {},
          "output_type": "display_data"
        },
        {
          "data": {
            "application/vnd.jupyter.widget-view+json": {
              "model_id": "d1c5d3cd03f24cc8b5e913dbe9c70ba6",
              "version_major": 2,
              "version_minor": 0
            },
            "text/plain": [
              "Validation: 0it [00:00, ?it/s]"
            ]
          },
          "metadata": {},
          "output_type": "display_data"
        },
        {
          "data": {
            "application/vnd.jupyter.widget-view+json": {
              "model_id": "5fe51c374e444f6b83c4d457a94a34fe",
              "version_major": 2,
              "version_minor": 0
            },
            "text/plain": [
              "Validation: 0it [00:00, ?it/s]"
            ]
          },
          "metadata": {},
          "output_type": "display_data"
        },
        {
          "data": {
            "application/vnd.jupyter.widget-view+json": {
              "model_id": "8503653d1c584924b81182215ba10ab0",
              "version_major": 2,
              "version_minor": 0
            },
            "text/plain": [
              "Validation: 0it [00:00, ?it/s]"
            ]
          },
          "metadata": {},
          "output_type": "display_data"
        },
        {
          "data": {
            "application/vnd.jupyter.widget-view+json": {
              "model_id": "74c5ef1dca4f49e0bba41a4c125ae5e3",
              "version_major": 2,
              "version_minor": 0
            },
            "text/plain": [
              "Validation: 0it [00:00, ?it/s]"
            ]
          },
          "metadata": {},
          "output_type": "display_data"
        },
        {
          "data": {
            "application/vnd.jupyter.widget-view+json": {
              "model_id": "ab90ff5e969d45c390ab11f394319c38",
              "version_major": 2,
              "version_minor": 0
            },
            "text/plain": [
              "Validation: 0it [00:00, ?it/s]"
            ]
          },
          "metadata": {},
          "output_type": "display_data"
        },
        {
          "data": {
            "application/vnd.jupyter.widget-view+json": {
              "model_id": "ae99cb194ebc4a8a8b6660b050dc11bf",
              "version_major": 2,
              "version_minor": 0
            },
            "text/plain": [
              "Validation: 0it [00:00, ?it/s]"
            ]
          },
          "metadata": {},
          "output_type": "display_data"
        },
        {
          "data": {
            "application/vnd.jupyter.widget-view+json": {
              "model_id": "800b9689864646ba82b26fb6c88e27f6",
              "version_major": 2,
              "version_minor": 0
            },
            "text/plain": [
              "Validation: 0it [00:00, ?it/s]"
            ]
          },
          "metadata": {},
          "output_type": "display_data"
        },
        {
          "data": {
            "application/vnd.jupyter.widget-view+json": {
              "model_id": "4369822f8fda4517963c83de71ba77d2",
              "version_major": 2,
              "version_minor": 0
            },
            "text/plain": [
              "Validation: 0it [00:00, ?it/s]"
            ]
          },
          "metadata": {},
          "output_type": "display_data"
        },
        {
          "data": {
            "application/vnd.jupyter.widget-view+json": {
              "model_id": "e70a21c26ac0427f8a9304c16c9f0257",
              "version_major": 2,
              "version_minor": 0
            },
            "text/plain": [
              "Validation: 0it [00:00, ?it/s]"
            ]
          },
          "metadata": {},
          "output_type": "display_data"
        },
        {
          "data": {
            "application/vnd.jupyter.widget-view+json": {
              "model_id": "c2158412afcc448e802a949b7f5e35b3",
              "version_major": 2,
              "version_minor": 0
            },
            "text/plain": [
              "Validation: 0it [00:00, ?it/s]"
            ]
          },
          "metadata": {},
          "output_type": "display_data"
        },
        {
          "data": {
            "application/vnd.jupyter.widget-view+json": {
              "model_id": "2570d729be974483a9f8ac0aa84dbc7b",
              "version_major": 2,
              "version_minor": 0
            },
            "text/plain": [
              "Validation: 0it [00:00, ?it/s]"
            ]
          },
          "metadata": {},
          "output_type": "display_data"
        },
        {
          "data": {
            "application/vnd.jupyter.widget-view+json": {
              "model_id": "6a4d7fbae7834118959d0b120c128281",
              "version_major": 2,
              "version_minor": 0
            },
            "text/plain": [
              "Validation: 0it [00:00, ?it/s]"
            ]
          },
          "metadata": {},
          "output_type": "display_data"
        },
        {
          "data": {
            "application/vnd.jupyter.widget-view+json": {
              "model_id": "5ba70b107fc2451b9594739f0f0047c5",
              "version_major": 2,
              "version_minor": 0
            },
            "text/plain": [
              "Validation: 0it [00:00, ?it/s]"
            ]
          },
          "metadata": {},
          "output_type": "display_data"
        },
        {
          "data": {
            "application/vnd.jupyter.widget-view+json": {
              "model_id": "bdfac74c1ebb4f459ddf07e2908fe75d",
              "version_major": 2,
              "version_minor": 0
            },
            "text/plain": [
              "Validation: 0it [00:00, ?it/s]"
            ]
          },
          "metadata": {},
          "output_type": "display_data"
        },
        {
          "data": {
            "application/vnd.jupyter.widget-view+json": {
              "model_id": "14f1755ed967460abb9443f82ccd0d1f",
              "version_major": 2,
              "version_minor": 0
            },
            "text/plain": [
              "Validation: 0it [00:00, ?it/s]"
            ]
          },
          "metadata": {},
          "output_type": "display_data"
        },
        {
          "data": {
            "application/vnd.jupyter.widget-view+json": {
              "model_id": "192e6ae11dee4a82bd01b8d152ffa567",
              "version_major": 2,
              "version_minor": 0
            },
            "text/plain": [
              "Validation: 0it [00:00, ?it/s]"
            ]
          },
          "metadata": {},
          "output_type": "display_data"
        },
        {
          "data": {
            "application/vnd.jupyter.widget-view+json": {
              "model_id": "bebe8b7f7abd4e71b5a9d28f39e78002",
              "version_major": 2,
              "version_minor": 0
            },
            "text/plain": [
              "Validation: 0it [00:00, ?it/s]"
            ]
          },
          "metadata": {},
          "output_type": "display_data"
        },
        {
          "data": {
            "application/vnd.jupyter.widget-view+json": {
              "model_id": "6f5c734943304bb08704f3ba83247291",
              "version_major": 2,
              "version_minor": 0
            },
            "text/plain": [
              "Validation: 0it [00:00, ?it/s]"
            ]
          },
          "metadata": {},
          "output_type": "display_data"
        },
        {
          "data": {
            "application/vnd.jupyter.widget-view+json": {
              "model_id": "5b90cf2edaf34d76a80c325c3f0879d3",
              "version_major": 2,
              "version_minor": 0
            },
            "text/plain": [
              "Validation: 0it [00:00, ?it/s]"
            ]
          },
          "metadata": {},
          "output_type": "display_data"
        },
        {
          "data": {
            "application/vnd.jupyter.widget-view+json": {
              "model_id": "197e04028cc543beb17b7cb977a6cf43",
              "version_major": 2,
              "version_minor": 0
            },
            "text/plain": [
              "Validation: 0it [00:00, ?it/s]"
            ]
          },
          "metadata": {},
          "output_type": "display_data"
        },
        {
          "data": {
            "application/vnd.jupyter.widget-view+json": {
              "model_id": "d918518daa7d4c93955bfc4d91935efc",
              "version_major": 2,
              "version_minor": 0
            },
            "text/plain": [
              "Validation: 0it [00:00, ?it/s]"
            ]
          },
          "metadata": {},
          "output_type": "display_data"
        },
        {
          "data": {
            "application/vnd.jupyter.widget-view+json": {
              "model_id": "4705afdc50444c0dac48ec259ce2c5cd",
              "version_major": 2,
              "version_minor": 0
            },
            "text/plain": [
              "Validation: 0it [00:00, ?it/s]"
            ]
          },
          "metadata": {},
          "output_type": "display_data"
        },
        {
          "data": {
            "application/vnd.jupyter.widget-view+json": {
              "model_id": "a0e7330a50e44f85a3c3517382caf20f",
              "version_major": 2,
              "version_minor": 0
            },
            "text/plain": [
              "Validation: 0it [00:00, ?it/s]"
            ]
          },
          "metadata": {},
          "output_type": "display_data"
        },
        {
          "data": {
            "application/vnd.jupyter.widget-view+json": {
              "model_id": "83c1834d5b2d4e5fa77acf57a7ff531a",
              "version_major": 2,
              "version_minor": 0
            },
            "text/plain": [
              "Validation: 0it [00:00, ?it/s]"
            ]
          },
          "metadata": {},
          "output_type": "display_data"
        },
        {
          "data": {
            "application/vnd.jupyter.widget-view+json": {
              "model_id": "2f2ba4ee0f1e47798be176034d5d504c",
              "version_major": 2,
              "version_minor": 0
            },
            "text/plain": [
              "Validation: 0it [00:00, ?it/s]"
            ]
          },
          "metadata": {},
          "output_type": "display_data"
        },
        {
          "data": {
            "application/vnd.jupyter.widget-view+json": {
              "model_id": "43a6a4c6d12242f79436a8eb35effbfa",
              "version_major": 2,
              "version_minor": 0
            },
            "text/plain": [
              "Validation: 0it [00:00, ?it/s]"
            ]
          },
          "metadata": {},
          "output_type": "display_data"
        },
        {
          "data": {
            "application/vnd.jupyter.widget-view+json": {
              "model_id": "cf8825af56784f7f9cd3f3fd578ebdea",
              "version_major": 2,
              "version_minor": 0
            },
            "text/plain": [
              "Validation: 0it [00:00, ?it/s]"
            ]
          },
          "metadata": {},
          "output_type": "display_data"
        },
        {
          "data": {
            "application/vnd.jupyter.widget-view+json": {
              "model_id": "1eae46c9d6bd401686980add2aae3f90",
              "version_major": 2,
              "version_minor": 0
            },
            "text/plain": [
              "Validation: 0it [00:00, ?it/s]"
            ]
          },
          "metadata": {},
          "output_type": "display_data"
        },
        {
          "data": {
            "application/vnd.jupyter.widget-view+json": {
              "model_id": "6d53ab9a20b7428499e3844826de80a3",
              "version_major": 2,
              "version_minor": 0
            },
            "text/plain": [
              "Validation: 0it [00:00, ?it/s]"
            ]
          },
          "metadata": {},
          "output_type": "display_data"
        },
        {
          "data": {
            "application/vnd.jupyter.widget-view+json": {
              "model_id": "2afb7786a79a4b6f8070a05dbeb6fd2c",
              "version_major": 2,
              "version_minor": 0
            },
            "text/plain": [
              "Validation: 0it [00:00, ?it/s]"
            ]
          },
          "metadata": {},
          "output_type": "display_data"
        },
        {
          "data": {
            "application/vnd.jupyter.widget-view+json": {
              "model_id": "96ffae4724f74c66aa0b98b49cd8b6e4",
              "version_major": 2,
              "version_minor": 0
            },
            "text/plain": [
              "Validation: 0it [00:00, ?it/s]"
            ]
          },
          "metadata": {},
          "output_type": "display_data"
        },
        {
          "data": {
            "application/vnd.jupyter.widget-view+json": {
              "model_id": "08cf695cb801483b932b7ac132095233",
              "version_major": 2,
              "version_minor": 0
            },
            "text/plain": [
              "Validation: 0it [00:00, ?it/s]"
            ]
          },
          "metadata": {},
          "output_type": "display_data"
        },
        {
          "data": {
            "application/vnd.jupyter.widget-view+json": {
              "model_id": "3bfd4e10183a4843acfb5754576d6985",
              "version_major": 2,
              "version_minor": 0
            },
            "text/plain": [
              "Validation: 0it [00:00, ?it/s]"
            ]
          },
          "metadata": {},
          "output_type": "display_data"
        },
        {
          "data": {
            "application/vnd.jupyter.widget-view+json": {
              "model_id": "e09496c2cef248489c50956ec16ba56e",
              "version_major": 2,
              "version_minor": 0
            },
            "text/plain": [
              "Validation: 0it [00:00, ?it/s]"
            ]
          },
          "metadata": {},
          "output_type": "display_data"
        },
        {
          "data": {
            "application/vnd.jupyter.widget-view+json": {
              "model_id": "cd573c9b8f31487a89789b6b89c980c2",
              "version_major": 2,
              "version_minor": 0
            },
            "text/plain": [
              "Validation: 0it [00:00, ?it/s]"
            ]
          },
          "metadata": {},
          "output_type": "display_data"
        },
        {
          "data": {
            "application/vnd.jupyter.widget-view+json": {
              "model_id": "59f02ee2e5634365b0744c97a1c0f5d6",
              "version_major": 2,
              "version_minor": 0
            },
            "text/plain": [
              "Validation: 0it [00:00, ?it/s]"
            ]
          },
          "metadata": {},
          "output_type": "display_data"
        },
        {
          "data": {
            "application/vnd.jupyter.widget-view+json": {
              "model_id": "79d7a4c9721f43a2abbb1958aad38b01",
              "version_major": 2,
              "version_minor": 0
            },
            "text/plain": [
              "Validation: 0it [00:00, ?it/s]"
            ]
          },
          "metadata": {},
          "output_type": "display_data"
        },
        {
          "data": {
            "application/vnd.jupyter.widget-view+json": {
              "model_id": "d3ad56a30cc54a23b63b9e9c3a0251dc",
              "version_major": 2,
              "version_minor": 0
            },
            "text/plain": [
              "Validation: 0it [00:00, ?it/s]"
            ]
          },
          "metadata": {},
          "output_type": "display_data"
        },
        {
          "data": {
            "application/vnd.jupyter.widget-view+json": {
              "model_id": "7d59c45227ee4495b4ca26259c5a969e",
              "version_major": 2,
              "version_minor": 0
            },
            "text/plain": [
              "Validation: 0it [00:00, ?it/s]"
            ]
          },
          "metadata": {},
          "output_type": "display_data"
        },
        {
          "data": {
            "application/vnd.jupyter.widget-view+json": {
              "model_id": "2125d97946cc45e9a61bc4a032b5ea38",
              "version_major": 2,
              "version_minor": 0
            },
            "text/plain": [
              "Validation: 0it [00:00, ?it/s]"
            ]
          },
          "metadata": {},
          "output_type": "display_data"
        },
        {
          "data": {
            "application/vnd.jupyter.widget-view+json": {
              "model_id": "ff08cb7a5a49428bb8cfaae20edd0a7a",
              "version_major": 2,
              "version_minor": 0
            },
            "text/plain": [
              "Validation: 0it [00:00, ?it/s]"
            ]
          },
          "metadata": {},
          "output_type": "display_data"
        },
        {
          "name": "stderr",
          "output_type": "stream",
          "text": [
            "/home/admin-gpu/anaconda3/lib/python3.9/site-packages/pytorch_lightning/trainer/trainer.py:653: UserWarning: Detected KeyboardInterrupt, attempting graceful shutdown...\n",
            "  rank_zero_warn(\"Detected KeyboardInterrupt, attempting graceful shutdown...\")\n"
          ]
        }
      ],
      "source": [
        "trainer.fit(model, dm)"
      ]
    },
    {
      "cell_type": "code",
      "execution_count": 30,
      "metadata": {},
      "outputs": [],
      "source": [
        "model = model.load_from_checkpoint(\"models_check/check_point-epoch=50-val_loss=1.06.ckpt\")"
      ]
    },
    {
      "cell_type": "markdown",
      "metadata": {
        "id": "TncKz6NkYZfk"
      },
      "source": [
        "Протестируем полученную модель"
      ]
    },
    {
      "cell_type": "code",
      "execution_count": null,
      "metadata": {
        "colab": {
          "base_uri": "https://localhost:8080/",
          "height": 34,
          "referenced_widgets": [
            "881c4a0a45e441e3868a2d84b788ab73",
            "b5b69f2117b7414b9dd0a7de87a10d16",
            "33071ac6084b416496c2491387274faf",
            "b3e5c4bded4c45098beff64fe08cef27",
            "cdb275d88a5444318018febfaa2c873f",
            "d49c3d232c5949fc96b57166247efb7e",
            "8fdbe505d13e49189f604b7ebd6dbd8a",
            "7838aa50467a4842ba33878b0c0c9c91",
            "bb08a16e08d9408387c11289aecab93e",
            "80b7521cf51a44db86f7d7c789e52d19",
            "60f8216648c84dcdbb79465cebe08098"
          ]
        },
        "id": "EO6mVfIeYdiW",
        "outputId": "3e7efbae-0472-445b-a67d-3dfd601c3dfc"
      },
      "outputs": [],
      "source": [
        "# можем проверить на тестовой части (подсунув вместо теста val)\n",
        "# trainer.test(model, dm.val_dataloader())"
      ]
    },
    {
      "cell_type": "code",
      "execution_count": 31,
      "metadata": {},
      "outputs": [
        {
          "name": "stderr",
          "output_type": "stream",
          "text": [
            "LOCAL_RANK: 0 - CUDA_VISIBLE_DEVICES: [0]\n"
          ]
        },
        {
          "data": {
            "application/vnd.jupyter.widget-view+json": {
              "model_id": "9ab8d145556e4b2f8ca153e2f4a6cb64",
              "version_major": 2,
              "version_minor": 0
            },
            "text/plain": [
              "Validation: 0it [00:00, ?it/s]"
            ]
          },
          "metadata": {},
          "output_type": "display_data"
        },
        {
          "name": "stdout",
          "output_type": "stream",
          "text": [
            "────────────────────────────────────────────────────────────────────────────────────────────────────────────────────────\n",
            "     Validate metric           DataLoader 0\n",
            "────────────────────────────────────────────────────────────────────────────────────────────────────────────────────────\n",
            "        val_loss            1.0648345947265625\n",
            "         val_mse            1.0648345947265625\n",
            "────────────────────────────────────────────────────────────────────────────────────────────────────────────────────────\n"
          ]
        },
        {
          "data": {
            "text/plain": [
              "[{'val_loss': 1.0648345947265625, 'val_mse': 1.0648345947265625}]"
            ]
          },
          "execution_count": 31,
          "metadata": {},
          "output_type": "execute_result"
        }
      ],
      "source": [
        "# можем проверить на val части датасета\n",
        "trainer.validate(model, dm)"
      ]
    },
    {
      "cell_type": "markdown",
      "metadata": {},
      "source": [
        "## Загрузим желаемый чекпоинт"
      ]
    },
    {
      "cell_type": "code",
      "execution_count": 32,
      "metadata": {},
      "outputs": [],
      "source": [
        "# disable randomness, dropout, etc...\n",
        "model.eval();"
      ]
    },
    {
      "cell_type": "markdown",
      "metadata": {},
      "source": [
        "## Сделаем предсказание"
      ]
    },
    {
      "cell_type": "markdown",
      "metadata": {},
      "source": [
        "### Сделаем предсказание на val\n",
        "\n",
        "Проверим, что функции предсказания работаю корректно.\n",
        "И что мы получаем тот же самый результат по метрике MSE, что и раньше."
      ]
    },
    {
      "cell_type": "code",
      "execution_count": 33,
      "metadata": {},
      "outputs": [
        {
          "name": "stderr",
          "output_type": "stream",
          "text": [
            "LOCAL_RANK: 0 - CUDA_VISIBLE_DEVICES: [0]\n"
          ]
        },
        {
          "data": {
            "application/vnd.jupyter.widget-view+json": {
              "model_id": "33ef593daa0c4f74980e228c12f29ea5",
              "version_major": 2,
              "version_minor": 0
            },
            "text/plain": [
              "Predicting: 14it [00:00, ?it/s]"
            ]
          },
          "metadata": {},
          "output_type": "display_data"
        }
      ],
      "source": [
        "# predict with the model\n",
        "preds = trainer.predict(model, dm.test_by_val_dataloader())\n"
      ]
    },
    {
      "cell_type": "code",
      "execution_count": 34,
      "metadata": {},
      "outputs": [],
      "source": [
        "y_preds = []\n",
        "for sublist in preds:\n",
        "    for item in sublist:\n",
        "        y_preds.append(item[0])\n",
        "        \n",
        "y_preds = np.array(y_preds)"
      ]
    },
    {
      "cell_type": "code",
      "execution_count": 35,
      "metadata": {},
      "outputs": [],
      "source": [
        "y_true = dm.val_target"
      ]
    },
    {
      "cell_type": "code",
      "execution_count": 36,
      "metadata": {},
      "outputs": [],
      "source": [
        "# Введем метрики оценки качества модели\n",
        "def mse(y_true, y_pred):\n",
        "    return ((y_true - y_pred)**2).mean()\n",
        "\n",
        "def mae(y_true, y_pred):\n",
        "    return (np.abs(y_true - y_pred)).mean()"
      ]
    },
    {
      "cell_type": "code",
      "execution_count": 37,
      "metadata": {},
      "outputs": [
        {
          "name": "stdout",
          "output_type": "stream",
          "text": [
            "MSE = 1.064834620515355\n",
            "MAE = 0.7869153105964263\n"
          ]
        }
      ],
      "source": [
        "# Оценим нашу модель на валидационной выборке:\n",
        "print(f\"MSE = {mse(y_true, y_preds)}\")\n",
        "print(f\"MAE = {mae(y_true, y_preds)}\")"
      ]
    },
    {
      "cell_type": "markdown",
      "metadata": {},
      "source": [
        "### Сделаем предсказание непосредственно на тесте"
      ]
    },
    {
      "cell_type": "code",
      "execution_count": 38,
      "metadata": {},
      "outputs": [
        {
          "name": "stderr",
          "output_type": "stream",
          "text": [
            "LOCAL_RANK: 0 - CUDA_VISIBLE_DEVICES: [0]\n"
          ]
        },
        {
          "data": {
            "application/vnd.jupyter.widget-view+json": {
              "model_id": "ec8338866af64e01b2221cd56e01c7c1",
              "version_major": 2,
              "version_minor": 0
            },
            "text/plain": [
              "Predicting: 14it [00:00, ?it/s]"
            ]
          },
          "metadata": {},
          "output_type": "display_data"
        }
      ],
      "source": [
        "# predict with the model\n",
        "preds = trainer.predict(model, dm.test_dataloader())"
      ]
    },
    {
      "cell_type": "code",
      "execution_count": 39,
      "metadata": {},
      "outputs": [],
      "source": [
        "y_preds = []\n",
        "for sublist in preds:\n",
        "    for item in sublist:\n",
        "        y_preds.append(item[0])\n",
        "        \n",
        "y_preds = np.array(y_preds)"
      ]
    },
    {
      "cell_type": "code",
      "execution_count": 40,
      "metadata": {},
      "outputs": [
        {
          "data": {
            "text/plain": [
              "array([ 7.32678032, 11.18929768,  1.44223154, ..., 11.48866272,\n",
              "        6.14334536,  2.86557984])"
            ]
          },
          "execution_count": 40,
          "metadata": {},
          "output_type": "execute_result"
        }
      ],
      "source": [
        "y_preds"
      ]
    },
    {
      "cell_type": "markdown",
      "metadata": {},
      "source": [
        "# публикуем сабмит"
      ]
    },
    {
      "cell_type": "code",
      "execution_count": 41,
      "metadata": {},
      "outputs": [],
      "source": [
        "submission = pd.read_csv('data/sample_submission.csv')"
      ]
    },
    {
      "cell_type": "code",
      "execution_count": 42,
      "metadata": {},
      "outputs": [
        {
          "data": {
            "text/html": [
              "<div>\n",
              "<style scoped>\n",
              "    .dataframe tbody tr th:only-of-type {\n",
              "        vertical-align: middle;\n",
              "    }\n",
              "\n",
              "    .dataframe tbody tr th {\n",
              "        vertical-align: top;\n",
              "    }\n",
              "\n",
              "    .dataframe thead th {\n",
              "        text-align: right;\n",
              "    }\n",
              "</style>\n",
              "<table border=\"1\" class=\"dataframe\">\n",
              "  <thead>\n",
              "    <tr style=\"text-align: right;\">\n",
              "      <th></th>\n",
              "      <th>label</th>\n",
              "    </tr>\n",
              "  </thead>\n",
              "  <tbody>\n",
              "    <tr>\n",
              "      <th>0</th>\n",
              "      <td>0</td>\n",
              "    </tr>\n",
              "    <tr>\n",
              "      <th>1</th>\n",
              "      <td>0</td>\n",
              "    </tr>\n",
              "    <tr>\n",
              "      <th>2</th>\n",
              "      <td>0</td>\n",
              "    </tr>\n",
              "    <tr>\n",
              "      <th>3</th>\n",
              "      <td>0</td>\n",
              "    </tr>\n",
              "    <tr>\n",
              "      <th>4</th>\n",
              "      <td>0</td>\n",
              "    </tr>\n",
              "    <tr>\n",
              "      <th>...</th>\n",
              "      <td>...</td>\n",
              "    </tr>\n",
              "    <tr>\n",
              "      <th>5995</th>\n",
              "      <td>0</td>\n",
              "    </tr>\n",
              "    <tr>\n",
              "      <th>5996</th>\n",
              "      <td>0</td>\n",
              "    </tr>\n",
              "    <tr>\n",
              "      <th>5997</th>\n",
              "      <td>0</td>\n",
              "    </tr>\n",
              "    <tr>\n",
              "      <th>5998</th>\n",
              "      <td>0</td>\n",
              "    </tr>\n",
              "    <tr>\n",
              "      <th>5999</th>\n",
              "      <td>0</td>\n",
              "    </tr>\n",
              "  </tbody>\n",
              "</table>\n",
              "<p>6000 rows × 1 columns</p>\n",
              "</div>"
            ],
            "text/plain": [
              "      label\n",
              "0         0\n",
              "1         0\n",
              "2         0\n",
              "3         0\n",
              "4         0\n",
              "...     ...\n",
              "5995      0\n",
              "5996      0\n",
              "5997      0\n",
              "5998      0\n",
              "5999      0\n",
              "\n",
              "[6000 rows x 1 columns]"
            ]
          },
          "execution_count": 42,
          "metadata": {},
          "output_type": "execute_result"
        }
      ],
      "source": [
        "submission"
      ]
    },
    {
      "cell_type": "code",
      "execution_count": 43,
      "metadata": {},
      "outputs": [],
      "source": [
        "submission['label'] = y_preds\n"
      ]
    },
    {
      "cell_type": "code",
      "execution_count": 44,
      "metadata": {},
      "outputs": [
        {
          "data": {
            "text/html": [
              "<div>\n",
              "<style scoped>\n",
              "    .dataframe tbody tr th:only-of-type {\n",
              "        vertical-align: middle;\n",
              "    }\n",
              "\n",
              "    .dataframe tbody tr th {\n",
              "        vertical-align: top;\n",
              "    }\n",
              "\n",
              "    .dataframe thead th {\n",
              "        text-align: right;\n",
              "    }\n",
              "</style>\n",
              "<table border=\"1\" class=\"dataframe\">\n",
              "  <thead>\n",
              "    <tr style=\"text-align: right;\">\n",
              "      <th></th>\n",
              "      <th>label</th>\n",
              "    </tr>\n",
              "  </thead>\n",
              "  <tbody>\n",
              "    <tr>\n",
              "      <th>0</th>\n",
              "      <td>7.326780</td>\n",
              "    </tr>\n",
              "    <tr>\n",
              "      <th>1</th>\n",
              "      <td>11.189298</td>\n",
              "    </tr>\n",
              "    <tr>\n",
              "      <th>2</th>\n",
              "      <td>1.442232</td>\n",
              "    </tr>\n",
              "    <tr>\n",
              "      <th>3</th>\n",
              "      <td>6.111101</td>\n",
              "    </tr>\n",
              "    <tr>\n",
              "      <th>4</th>\n",
              "      <td>8.025280</td>\n",
              "    </tr>\n",
              "    <tr>\n",
              "      <th>...</th>\n",
              "      <td>...</td>\n",
              "    </tr>\n",
              "    <tr>\n",
              "      <th>5995</th>\n",
              "      <td>12.518585</td>\n",
              "    </tr>\n",
              "    <tr>\n",
              "      <th>5996</th>\n",
              "      <td>9.975379</td>\n",
              "    </tr>\n",
              "    <tr>\n",
              "      <th>5997</th>\n",
              "      <td>11.488663</td>\n",
              "    </tr>\n",
              "    <tr>\n",
              "      <th>5998</th>\n",
              "      <td>6.143345</td>\n",
              "    </tr>\n",
              "    <tr>\n",
              "      <th>5999</th>\n",
              "      <td>2.865580</td>\n",
              "    </tr>\n",
              "  </tbody>\n",
              "</table>\n",
              "<p>6000 rows × 1 columns</p>\n",
              "</div>"
            ],
            "text/plain": [
              "          label\n",
              "0      7.326780\n",
              "1     11.189298\n",
              "2      1.442232\n",
              "3      6.111101\n",
              "4      8.025280\n",
              "...         ...\n",
              "5995  12.518585\n",
              "5996   9.975379\n",
              "5997  11.488663\n",
              "5998   6.143345\n",
              "5999   2.865580\n",
              "\n",
              "[6000 rows x 1 columns]"
            ]
          },
          "execution_count": 44,
          "metadata": {},
          "output_type": "execute_result"
        }
      ],
      "source": [
        "submission"
      ]
    },
    {
      "cell_type": "code",
      "execution_count": 45,
      "metadata": {},
      "outputs": [],
      "source": [
        "submission_path = 'submission/PyTorchLighnting_Resnet50.csv'"
      ]
    },
    {
      "cell_type": "code",
      "execution_count": 46,
      "metadata": {},
      "outputs": [],
      "source": [
        "submission.to_csv(submission_path, index=False)"
      ]
    },
    {
      "cell_type": "markdown",
      "metadata": {
        "id": "UR4XUHNZY-si"
      },
      "source": [
        "## Conclusion\n",
        "\n",
        "I will encourage you to play with the code and train an image classifier with a dataset of your choice from scratch and using transfer learning. \n"
      ]
    },
    {
      "cell_type": "markdown",
      "metadata": {
        "id": "T9xNuqshZMzD"
      },
      "source": [
        "To learn more about transfer learning check out these resources:\n",
        "- [Gotchas of transfer learning for image classification](https://docs.google.com/presentation/d/1s29WOQoQvBD5KoPUzE5TPcavjqno8ZgnZaSljHGGHVU/edit?usp=sharing) by Sayak Paul.\n",
        "- [Transfer Learning with Keras and Deep Learning by PyImageSearch.](https://www.pyimagesearch.com/2019/05/20/transfer-learning-with-keras-and-deep-learning/)\n",
        "- [Transfer Learning - Machine Learning's Next Frontier](https://ruder.io/transfer-learning/) by Sebastian Ruder.\n",
        "\n",
        "\n",
        "\n",
        "\n",
        "\n"
      ]
    }
  ],
  "metadata": {
    "accelerator": "GPU",
    "colab": {
      "collapsed_sections": [],
      "name": "Transfer Learning Using PyTorch Lightning",
      "provenance": []
    },
    "gpuClass": "standard",
    "kernelspec": {
      "display_name": "Python 3.9.7 ('base')",
      "language": "python",
      "name": "python3"
    },
    "language_info": {
      "codemirror_mode": {
        "name": "ipython",
        "version": 3
      },
      "file_extension": ".py",
      "mimetype": "text/x-python",
      "name": "python",
      "nbconvert_exporter": "python",
      "pygments_lexer": "ipython3",
      "version": "3.10.11"
    },
    "vscode": {
      "interpreter": {
        "hash": "17bf46a4ecda34e1131740dd195e4c781905831ae3bb756aa86fad45ee2affd7"
      }
    },
    "widgets": {
      "application/vnd.jupyter.widget-state+json": {
        "091b70ddd8694fbab8bcafc3f9533b32": {
          "model_module": "@jupyter-widgets/controls",
          "model_module_version": "2.0.0",
          "model_name": "HTMLModel",
          "state": {
            "_dom_classes": [],
            "_model_module": "@jupyter-widgets/controls",
            "_model_module_version": "2.0.0",
            "_model_name": "HTMLModel",
            "_view_count": null,
            "_view_module": "@jupyter-widgets/controls",
            "_view_module_version": "2.0.0",
            "_view_name": "HTMLView",
            "description": "",
            "description_allow_html": false,
            "layout": "IPY_MODEL_faedf77712344b40a98ae5a544357ee4",
            "placeholder": "​",
            "style": "IPY_MODEL_c129600b32fb4c32adc1ab864a64f836",
            "tabbable": null,
            "tooltip": null,
            "value": "Sanity Checking DataLoader 0: 100%"
          }
        },
        "0b0d39a3c65949fb9abbd7603180d436": {
          "model_module": "@jupyter-widgets/base",
          "model_module_version": "2.0.0",
          "model_name": "LayoutModel",
          "state": {
            "_model_module": "@jupyter-widgets/base",
            "_model_module_version": "2.0.0",
            "_model_name": "LayoutModel",
            "_view_count": null,
            "_view_module": "@jupyter-widgets/base",
            "_view_module_version": "2.0.0",
            "_view_name": "LayoutView",
            "align_content": null,
            "align_items": null,
            "align_self": null,
            "border_bottom": null,
            "border_left": null,
            "border_right": null,
            "border_top": null,
            "bottom": null,
            "display": null,
            "flex": null,
            "flex_flow": null,
            "grid_area": null,
            "grid_auto_columns": null,
            "grid_auto_flow": null,
            "grid_auto_rows": null,
            "grid_column": null,
            "grid_gap": null,
            "grid_row": null,
            "grid_template_areas": null,
            "grid_template_columns": null,
            "grid_template_rows": null,
            "height": null,
            "justify_content": null,
            "justify_items": null,
            "left": null,
            "margin": null,
            "max_height": null,
            "max_width": null,
            "min_height": null,
            "min_width": null,
            "object_fit": null,
            "object_position": null,
            "order": null,
            "overflow": null,
            "padding": null,
            "right": null,
            "top": null,
            "visibility": null,
            "width": null
          }
        },
        "0d2b3f45c7d543cf9f429be1a411a628": {
          "model_module": "@jupyter-widgets/controls",
          "model_module_version": "2.0.0",
          "model_name": "HTMLStyleModel",
          "state": {
            "_model_module": "@jupyter-widgets/controls",
            "_model_module_version": "2.0.0",
            "_model_name": "HTMLStyleModel",
            "_view_count": null,
            "_view_module": "@jupyter-widgets/base",
            "_view_module_version": "2.0.0",
            "_view_name": "StyleView",
            "background": null,
            "description_width": "",
            "font_size": null,
            "text_color": null
          }
        },
        "10ab4e6224b6421c8e72bfb19fdf4cf4": {
          "model_module": "@jupyter-widgets/controls",
          "model_module_version": "2.0.0",
          "model_name": "FloatProgressModel",
          "state": {
            "_dom_classes": [],
            "_model_module": "@jupyter-widgets/controls",
            "_model_module_version": "2.0.0",
            "_model_name": "FloatProgressModel",
            "_view_count": null,
            "_view_module": "@jupyter-widgets/controls",
            "_view_module_version": "2.0.0",
            "_view_name": "ProgressView",
            "bar_style": "",
            "description": "",
            "description_allow_html": false,
            "layout": "IPY_MODEL_ec45568c643e4b259cbfb27d4f31f045",
            "max": 2,
            "min": 0,
            "orientation": "horizontal",
            "style": "IPY_MODEL_af8a5b4d8db841ad88cafc3c49bb37e6",
            "tabbable": null,
            "tooltip": null,
            "value": 2
          }
        },
        "147b6f07597c45f9bea8a95b3462da3a": {
          "model_module": "@jupyter-widgets/base",
          "model_module_version": "2.0.0",
          "model_name": "LayoutModel",
          "state": {
            "_model_module": "@jupyter-widgets/base",
            "_model_module_version": "2.0.0",
            "_model_name": "LayoutModel",
            "_view_count": null,
            "_view_module": "@jupyter-widgets/base",
            "_view_module_version": "2.0.0",
            "_view_name": "LayoutView",
            "align_content": null,
            "align_items": null,
            "align_self": null,
            "border_bottom": null,
            "border_left": null,
            "border_right": null,
            "border_top": null,
            "bottom": null,
            "display": null,
            "flex": null,
            "flex_flow": null,
            "grid_area": null,
            "grid_auto_columns": null,
            "grid_auto_flow": null,
            "grid_auto_rows": null,
            "grid_column": null,
            "grid_gap": null,
            "grid_row": null,
            "grid_template_areas": null,
            "grid_template_columns": null,
            "grid_template_rows": null,
            "height": null,
            "justify_content": null,
            "justify_items": null,
            "left": null,
            "margin": null,
            "max_height": null,
            "max_width": null,
            "min_height": null,
            "min_width": null,
            "object_fit": null,
            "object_position": null,
            "order": null,
            "overflow": null,
            "padding": null,
            "right": null,
            "top": null,
            "visibility": null,
            "width": null
          }
        },
        "154936482c374fc681f2acabe79f314b": {
          "model_module": "@jupyter-widgets/base",
          "model_module_version": "2.0.0",
          "model_name": "LayoutModel",
          "state": {
            "_model_module": "@jupyter-widgets/base",
            "_model_module_version": "2.0.0",
            "_model_name": "LayoutModel",
            "_view_count": null,
            "_view_module": "@jupyter-widgets/base",
            "_view_module_version": "2.0.0",
            "_view_name": "LayoutView",
            "align_content": null,
            "align_items": null,
            "align_self": null,
            "border_bottom": null,
            "border_left": null,
            "border_right": null,
            "border_top": null,
            "bottom": null,
            "display": null,
            "flex": null,
            "flex_flow": null,
            "grid_area": null,
            "grid_auto_columns": null,
            "grid_auto_flow": null,
            "grid_auto_rows": null,
            "grid_column": null,
            "grid_gap": null,
            "grid_row": null,
            "grid_template_areas": null,
            "grid_template_columns": null,
            "grid_template_rows": null,
            "height": null,
            "justify_content": null,
            "justify_items": null,
            "left": null,
            "margin": null,
            "max_height": null,
            "max_width": null,
            "min_height": null,
            "min_width": null,
            "object_fit": null,
            "object_position": null,
            "order": null,
            "overflow": null,
            "padding": null,
            "right": null,
            "top": null,
            "visibility": null,
            "width": null
          }
        },
        "1b102ec815a64a35b96776bb96ff8f75": {
          "model_module": "@jupyter-widgets/base",
          "model_module_version": "2.0.0",
          "model_name": "LayoutModel",
          "state": {
            "_model_module": "@jupyter-widgets/base",
            "_model_module_version": "2.0.0",
            "_model_name": "LayoutModel",
            "_view_count": null,
            "_view_module": "@jupyter-widgets/base",
            "_view_module_version": "2.0.0",
            "_view_name": "LayoutView",
            "align_content": null,
            "align_items": null,
            "align_self": null,
            "border_bottom": null,
            "border_left": null,
            "border_right": null,
            "border_top": null,
            "bottom": null,
            "display": null,
            "flex": null,
            "flex_flow": null,
            "grid_area": null,
            "grid_auto_columns": null,
            "grid_auto_flow": null,
            "grid_auto_rows": null,
            "grid_column": null,
            "grid_gap": null,
            "grid_row": null,
            "grid_template_areas": null,
            "grid_template_columns": null,
            "grid_template_rows": null,
            "height": null,
            "justify_content": null,
            "justify_items": null,
            "left": null,
            "margin": null,
            "max_height": null,
            "max_width": null,
            "min_height": null,
            "min_width": null,
            "object_fit": null,
            "object_position": null,
            "order": null,
            "overflow": null,
            "padding": null,
            "right": null,
            "top": null,
            "visibility": null,
            "width": null
          }
        },
        "1b562021f69b4683887d72cadd61441f": {
          "model_module": "@jupyter-widgets/base",
          "model_module_version": "2.0.0",
          "model_name": "LayoutModel",
          "state": {
            "_model_module": "@jupyter-widgets/base",
            "_model_module_version": "2.0.0",
            "_model_name": "LayoutModel",
            "_view_count": null,
            "_view_module": "@jupyter-widgets/base",
            "_view_module_version": "2.0.0",
            "_view_name": "LayoutView",
            "align_content": null,
            "align_items": null,
            "align_self": null,
            "border_bottom": null,
            "border_left": null,
            "border_right": null,
            "border_top": null,
            "bottom": null,
            "display": "inline-flex",
            "flex": null,
            "flex_flow": "row wrap",
            "grid_area": null,
            "grid_auto_columns": null,
            "grid_auto_flow": null,
            "grid_auto_rows": null,
            "grid_column": null,
            "grid_gap": null,
            "grid_row": null,
            "grid_template_areas": null,
            "grid_template_columns": null,
            "grid_template_rows": null,
            "height": null,
            "justify_content": null,
            "justify_items": null,
            "left": null,
            "margin": null,
            "max_height": null,
            "max_width": null,
            "min_height": null,
            "min_width": null,
            "object_fit": null,
            "object_position": null,
            "order": null,
            "overflow": null,
            "padding": null,
            "right": null,
            "top": null,
            "visibility": null,
            "width": "100%"
          }
        },
        "2191f453101d428eaab0f083d96f55eb": {
          "model_module": "@jupyter-widgets/base",
          "model_module_version": "2.0.0",
          "model_name": "LayoutModel",
          "state": {
            "_model_module": "@jupyter-widgets/base",
            "_model_module_version": "2.0.0",
            "_model_name": "LayoutModel",
            "_view_count": null,
            "_view_module": "@jupyter-widgets/base",
            "_view_module_version": "2.0.0",
            "_view_name": "LayoutView",
            "align_content": null,
            "align_items": null,
            "align_self": null,
            "border_bottom": null,
            "border_left": null,
            "border_right": null,
            "border_top": null,
            "bottom": null,
            "display": null,
            "flex": null,
            "flex_flow": null,
            "grid_area": null,
            "grid_auto_columns": null,
            "grid_auto_flow": null,
            "grid_auto_rows": null,
            "grid_column": null,
            "grid_gap": null,
            "grid_row": null,
            "grid_template_areas": null,
            "grid_template_columns": null,
            "grid_template_rows": null,
            "height": null,
            "justify_content": null,
            "justify_items": null,
            "left": null,
            "margin": null,
            "max_height": null,
            "max_width": null,
            "min_height": null,
            "min_width": null,
            "object_fit": null,
            "object_position": null,
            "order": null,
            "overflow": null,
            "padding": null,
            "right": null,
            "top": null,
            "visibility": null,
            "width": null
          }
        },
        "2585d31bcb0b48b0ab71bc14580aa635": {
          "model_module": "@jupyter-widgets/controls",
          "model_module_version": "2.0.0",
          "model_name": "HTMLModel",
          "state": {
            "_dom_classes": [],
            "_model_module": "@jupyter-widgets/controls",
            "_model_module_version": "2.0.0",
            "_model_name": "HTMLModel",
            "_view_count": null,
            "_view_module": "@jupyter-widgets/controls",
            "_view_module_version": "2.0.0",
            "_view_name": "HTMLView",
            "description": "",
            "description_allow_html": false,
            "layout": "IPY_MODEL_1b102ec815a64a35b96776bb96ff8f75",
            "placeholder": "​",
            "style": "IPY_MODEL_cdc2ced225ad471f91a79056074cc07e",
            "tabbable": null,
            "tooltip": null,
            "value": "Validation DataLoader 0:  38%"
          }
        },
        "270993b048bb4b1bbbb948eda1535b60": {
          "model_module": "@jupyter-widgets/base",
          "model_module_version": "2.0.0",
          "model_name": "LayoutModel",
          "state": {
            "_model_module": "@jupyter-widgets/base",
            "_model_module_version": "2.0.0",
            "_model_name": "LayoutModel",
            "_view_count": null,
            "_view_module": "@jupyter-widgets/base",
            "_view_module_version": "2.0.0",
            "_view_name": "LayoutView",
            "align_content": null,
            "align_items": null,
            "align_self": null,
            "border_bottom": null,
            "border_left": null,
            "border_right": null,
            "border_top": null,
            "bottom": null,
            "display": null,
            "flex": null,
            "flex_flow": null,
            "grid_area": null,
            "grid_auto_columns": null,
            "grid_auto_flow": null,
            "grid_auto_rows": null,
            "grid_column": null,
            "grid_gap": null,
            "grid_row": null,
            "grid_template_areas": null,
            "grid_template_columns": null,
            "grid_template_rows": null,
            "height": null,
            "justify_content": null,
            "justify_items": null,
            "left": null,
            "margin": null,
            "max_height": null,
            "max_width": null,
            "min_height": null,
            "min_width": null,
            "object_fit": null,
            "object_position": null,
            "order": null,
            "overflow": null,
            "padding": null,
            "right": null,
            "top": null,
            "visibility": null,
            "width": null
          }
        },
        "2aacbea643f547c7b7e601a534bb2ec7": {
          "model_module": "@jupyter-widgets/controls",
          "model_module_version": "2.0.0",
          "model_name": "HTMLModel",
          "state": {
            "_dom_classes": [],
            "_model_module": "@jupyter-widgets/controls",
            "_model_module_version": "2.0.0",
            "_model_name": "HTMLModel",
            "_view_count": null,
            "_view_module": "@jupyter-widgets/controls",
            "_view_module_version": "2.0.0",
            "_view_name": "HTMLView",
            "description": "",
            "description_allow_html": false,
            "layout": "IPY_MODEL_147b6f07597c45f9bea8a95b3462da3a",
            "placeholder": "​",
            "style": "IPY_MODEL_b6e81e9250ff48c7b6d2831a4052ee3e",
            "tabbable": null,
            "tooltip": null,
            "value": "Epoch 1:  86%"
          }
        },
        "2aaf3a22e6bd40c49b995859462bc801": {
          "model_module": "@jupyter-widgets/controls",
          "model_module_version": "2.0.0",
          "model_name": "HTMLModel",
          "state": {
            "_dom_classes": [],
            "_model_module": "@jupyter-widgets/controls",
            "_model_module_version": "2.0.0",
            "_model_name": "HTMLModel",
            "_view_count": null,
            "_view_module": "@jupyter-widgets/controls",
            "_view_module_version": "2.0.0",
            "_view_name": "HTMLView",
            "description": "",
            "description_allow_html": false,
            "layout": "IPY_MODEL_f7c10594d1664f37b4fbe1d21a8f9f78",
            "placeholder": "​",
            "style": "IPY_MODEL_af80cc31e97e462a8fd548fa714925eb",
            "tabbable": null,
            "tooltip": null,
            "value": " 220/256 [01:13&lt;00:12,  3.00it/s, loss=3.55, v_num=0]"
          }
        },
        "33071ac6084b416496c2491387274faf": {
          "model_module": "@jupyter-widgets/controls",
          "model_module_version": "2.0.0",
          "model_name": "FloatProgressModel",
          "state": {
            "_dom_classes": [],
            "_model_module": "@jupyter-widgets/controls",
            "_model_module_version": "2.0.0",
            "_model_name": "FloatProgressModel",
            "_view_count": null,
            "_view_module": "@jupyter-widgets/controls",
            "_view_module_version": "2.0.0",
            "_view_name": "ProgressView",
            "bar_style": "info",
            "description": "",
            "description_allow_html": false,
            "layout": "IPY_MODEL_7838aa50467a4842ba33878b0c0c9c91",
            "max": 1,
            "min": 0,
            "orientation": "horizontal",
            "style": "IPY_MODEL_bb08a16e08d9408387c11289aecab93e",
            "tabbable": null,
            "tooltip": null,
            "value": 0
          }
        },
        "34903c22094040a69bc25474324cfe4d": {
          "model_module": "@jupyter-widgets/base",
          "model_module_version": "2.0.0",
          "model_name": "LayoutModel",
          "state": {
            "_model_module": "@jupyter-widgets/base",
            "_model_module_version": "2.0.0",
            "_model_name": "LayoutModel",
            "_view_count": null,
            "_view_module": "@jupyter-widgets/base",
            "_view_module_version": "2.0.0",
            "_view_name": "LayoutView",
            "align_content": null,
            "align_items": null,
            "align_self": null,
            "border_bottom": null,
            "border_left": null,
            "border_right": null,
            "border_top": null,
            "bottom": null,
            "display": null,
            "flex": null,
            "flex_flow": null,
            "grid_area": null,
            "grid_auto_columns": null,
            "grid_auto_flow": null,
            "grid_auto_rows": null,
            "grid_column": null,
            "grid_gap": null,
            "grid_row": null,
            "grid_template_areas": null,
            "grid_template_columns": null,
            "grid_template_rows": null,
            "height": null,
            "justify_content": null,
            "justify_items": null,
            "left": null,
            "margin": null,
            "max_height": null,
            "max_width": null,
            "min_height": null,
            "min_width": null,
            "object_fit": null,
            "object_position": null,
            "order": null,
            "overflow": null,
            "padding": null,
            "right": null,
            "top": null,
            "visibility": null,
            "width": null
          }
        },
        "36b583d474f045c38b3dba861ad4eced": {
          "model_module": "@jupyter-widgets/controls",
          "model_module_version": "2.0.0",
          "model_name": "ProgressStyleModel",
          "state": {
            "_model_module": "@jupyter-widgets/controls",
            "_model_module_version": "2.0.0",
            "_model_name": "ProgressStyleModel",
            "_view_count": null,
            "_view_module": "@jupyter-widgets/base",
            "_view_module_version": "2.0.0",
            "_view_name": "StyleView",
            "bar_color": null,
            "description_width": ""
          }
        },
        "378bed5985f14fa0a0f2a72ff8be7968": {
          "model_module": "@jupyter-widgets/base",
          "model_module_version": "2.0.0",
          "model_name": "LayoutModel",
          "state": {
            "_model_module": "@jupyter-widgets/base",
            "_model_module_version": "2.0.0",
            "_model_name": "LayoutModel",
            "_view_count": null,
            "_view_module": "@jupyter-widgets/base",
            "_view_module_version": "2.0.0",
            "_view_name": "LayoutView",
            "align_content": null,
            "align_items": null,
            "align_self": null,
            "border_bottom": null,
            "border_left": null,
            "border_right": null,
            "border_top": null,
            "bottom": null,
            "display": null,
            "flex": null,
            "flex_flow": null,
            "grid_area": null,
            "grid_auto_columns": null,
            "grid_auto_flow": null,
            "grid_auto_rows": null,
            "grid_column": null,
            "grid_gap": null,
            "grid_row": null,
            "grid_template_areas": null,
            "grid_template_columns": null,
            "grid_template_rows": null,
            "height": null,
            "justify_content": null,
            "justify_items": null,
            "left": null,
            "margin": null,
            "max_height": null,
            "max_width": null,
            "min_height": null,
            "min_width": null,
            "object_fit": null,
            "object_position": null,
            "order": null,
            "overflow": null,
            "padding": null,
            "right": null,
            "top": null,
            "visibility": null,
            "width": null
          }
        },
        "39b689dfb0704e52ad1240005573472a": {
          "model_module": "@jupyter-widgets/base",
          "model_module_version": "2.0.0",
          "model_name": "LayoutModel",
          "state": {
            "_model_module": "@jupyter-widgets/base",
            "_model_module_version": "2.0.0",
            "_model_name": "LayoutModel",
            "_view_count": null,
            "_view_module": "@jupyter-widgets/base",
            "_view_module_version": "2.0.0",
            "_view_name": "LayoutView",
            "align_content": null,
            "align_items": null,
            "align_self": null,
            "border_bottom": null,
            "border_left": null,
            "border_right": null,
            "border_top": null,
            "bottom": null,
            "display": null,
            "flex": null,
            "flex_flow": null,
            "grid_area": null,
            "grid_auto_columns": null,
            "grid_auto_flow": null,
            "grid_auto_rows": null,
            "grid_column": null,
            "grid_gap": null,
            "grid_row": null,
            "grid_template_areas": null,
            "grid_template_columns": null,
            "grid_template_rows": null,
            "height": null,
            "justify_content": null,
            "justify_items": null,
            "left": null,
            "margin": null,
            "max_height": null,
            "max_width": null,
            "min_height": null,
            "min_width": null,
            "object_fit": null,
            "object_position": null,
            "order": null,
            "overflow": null,
            "padding": null,
            "right": null,
            "top": null,
            "visibility": null,
            "width": null
          }
        },
        "3d389574546243459a762064b947f080": {
          "model_module": "@jupyter-widgets/base",
          "model_module_version": "2.0.0",
          "model_name": "LayoutModel",
          "state": {
            "_model_module": "@jupyter-widgets/base",
            "_model_module_version": "2.0.0",
            "_model_name": "LayoutModel",
            "_view_count": null,
            "_view_module": "@jupyter-widgets/base",
            "_view_module_version": "2.0.0",
            "_view_name": "LayoutView",
            "align_content": null,
            "align_items": null,
            "align_self": null,
            "border_bottom": null,
            "border_left": null,
            "border_right": null,
            "border_top": null,
            "bottom": null,
            "display": null,
            "flex": null,
            "flex_flow": null,
            "grid_area": null,
            "grid_auto_columns": null,
            "grid_auto_flow": null,
            "grid_auto_rows": null,
            "grid_column": null,
            "grid_gap": null,
            "grid_row": null,
            "grid_template_areas": null,
            "grid_template_columns": null,
            "grid_template_rows": null,
            "height": null,
            "justify_content": null,
            "justify_items": null,
            "left": null,
            "margin": null,
            "max_height": null,
            "max_width": null,
            "min_height": null,
            "min_width": null,
            "object_fit": null,
            "object_position": null,
            "order": null,
            "overflow": null,
            "padding": null,
            "right": null,
            "top": null,
            "visibility": null,
            "width": null
          }
        },
        "3d5009901e944003a3e28293dacd0de2": {
          "model_module": "@jupyter-widgets/base",
          "model_module_version": "2.0.0",
          "model_name": "LayoutModel",
          "state": {
            "_model_module": "@jupyter-widgets/base",
            "_model_module_version": "2.0.0",
            "_model_name": "LayoutModel",
            "_view_count": null,
            "_view_module": "@jupyter-widgets/base",
            "_view_module_version": "2.0.0",
            "_view_name": "LayoutView",
            "align_content": null,
            "align_items": null,
            "align_self": null,
            "border_bottom": null,
            "border_left": null,
            "border_right": null,
            "border_top": null,
            "bottom": null,
            "display": null,
            "flex": null,
            "flex_flow": null,
            "grid_area": null,
            "grid_auto_columns": null,
            "grid_auto_flow": null,
            "grid_auto_rows": null,
            "grid_column": null,
            "grid_gap": null,
            "grid_row": null,
            "grid_template_areas": null,
            "grid_template_columns": null,
            "grid_template_rows": null,
            "height": null,
            "justify_content": null,
            "justify_items": null,
            "left": null,
            "margin": null,
            "max_height": null,
            "max_width": null,
            "min_height": null,
            "min_width": null,
            "object_fit": null,
            "object_position": null,
            "order": null,
            "overflow": null,
            "padding": null,
            "right": null,
            "top": null,
            "visibility": null,
            "width": null
          }
        },
        "3e494051bb564c6495e9a306d24c0d4d": {
          "model_module": "@jupyter-widgets/base",
          "model_module_version": "2.0.0",
          "model_name": "LayoutModel",
          "state": {
            "_model_module": "@jupyter-widgets/base",
            "_model_module_version": "2.0.0",
            "_model_name": "LayoutModel",
            "_view_count": null,
            "_view_module": "@jupyter-widgets/base",
            "_view_module_version": "2.0.0",
            "_view_name": "LayoutView",
            "align_content": null,
            "align_items": null,
            "align_self": null,
            "border_bottom": null,
            "border_left": null,
            "border_right": null,
            "border_top": null,
            "bottom": null,
            "display": "inline-flex",
            "flex": null,
            "flex_flow": "row wrap",
            "grid_area": null,
            "grid_auto_columns": null,
            "grid_auto_flow": null,
            "grid_auto_rows": null,
            "grid_column": null,
            "grid_gap": null,
            "grid_row": null,
            "grid_template_areas": null,
            "grid_template_columns": null,
            "grid_template_rows": null,
            "height": null,
            "justify_content": null,
            "justify_items": null,
            "left": null,
            "margin": null,
            "max_height": null,
            "max_width": null,
            "min_height": null,
            "min_width": null,
            "object_fit": null,
            "object_position": null,
            "order": null,
            "overflow": null,
            "padding": null,
            "right": null,
            "top": null,
            "visibility": null,
            "width": "100%"
          }
        },
        "3e8bd69952f846c79c7ee8dffb99f98c": {
          "model_module": "@jupyter-widgets/controls",
          "model_module_version": "2.0.0",
          "model_name": "ProgressStyleModel",
          "state": {
            "_model_module": "@jupyter-widgets/controls",
            "_model_module_version": "2.0.0",
            "_model_name": "ProgressStyleModel",
            "_view_count": null,
            "_view_module": "@jupyter-widgets/base",
            "_view_module_version": "2.0.0",
            "_view_name": "StyleView",
            "bar_color": null,
            "description_width": ""
          }
        },
        "4108e507494a4faf964ab2e769af7b49": {
          "model_module": "@jupyter-widgets/controls",
          "model_module_version": "2.0.0",
          "model_name": "FloatProgressModel",
          "state": {
            "_dom_classes": [],
            "_model_module": "@jupyter-widgets/controls",
            "_model_module_version": "2.0.0",
            "_model_name": "FloatProgressModel",
            "_view_count": null,
            "_view_module": "@jupyter-widgets/controls",
            "_view_module_version": "2.0.0",
            "_view_name": "ProgressView",
            "bar_style": "",
            "description": "",
            "description_allow_html": false,
            "layout": "IPY_MODEL_d174f8beb5f24bd3ab1ec584f8ccfd8b",
            "max": 52,
            "min": 0,
            "orientation": "horizontal",
            "style": "IPY_MODEL_e3a775bf3c754d438767bb5f4dafcc84",
            "tabbable": null,
            "tooltip": null,
            "value": 20
          }
        },
        "42ce97240c8e47288d6a187b78bc578c": {
          "model_module": "@jupyter-widgets/controls",
          "model_module_version": "2.0.0",
          "model_name": "FloatProgressModel",
          "state": {
            "_dom_classes": [],
            "_model_module": "@jupyter-widgets/controls",
            "_model_module_version": "2.0.0",
            "_model_name": "FloatProgressModel",
            "_view_count": null,
            "_view_module": "@jupyter-widgets/controls",
            "_view_module_version": "2.0.0",
            "_view_name": "ProgressView",
            "bar_style": "",
            "description": "",
            "description_allow_html": false,
            "layout": "IPY_MODEL_eccc2d7eeb884da8b30024eb87abd2f9",
            "max": 52,
            "min": 0,
            "orientation": "horizontal",
            "style": "IPY_MODEL_98faee0c48514a7aa6d62d0c01ad0679",
            "tabbable": null,
            "tooltip": null,
            "value": 52
          }
        },
        "4732ed1daa0148558d88d7b208ed6381": {
          "model_module": "@jupyter-widgets/controls",
          "model_module_version": "2.0.0",
          "model_name": "HTMLModel",
          "state": {
            "_dom_classes": [],
            "_model_module": "@jupyter-widgets/controls",
            "_model_module_version": "2.0.0",
            "_model_name": "HTMLModel",
            "_view_count": null,
            "_view_module": "@jupyter-widgets/controls",
            "_view_module_version": "2.0.0",
            "_view_name": "HTMLView",
            "description": "",
            "description_allow_html": false,
            "layout": "IPY_MODEL_be3fce310aee48eca9687cddb69621d4",
            "placeholder": "​",
            "style": "IPY_MODEL_60630c5ad6a34939a665a3049590700c",
            "tabbable": null,
            "tooltip": null,
            "value": " 20/52 [00:06&lt;00:11,  2.86it/s]"
          }
        },
        "4f3e6921b8f844f086a139b8c6d9e262": {
          "model_module": "@jupyter-widgets/controls",
          "model_module_version": "2.0.0",
          "model_name": "HTMLModel",
          "state": {
            "_dom_classes": [],
            "_model_module": "@jupyter-widgets/controls",
            "_model_module_version": "2.0.0",
            "_model_name": "HTMLModel",
            "_view_count": null,
            "_view_module": "@jupyter-widgets/controls",
            "_view_module_version": "2.0.0",
            "_view_name": "HTMLView",
            "description": "",
            "description_allow_html": false,
            "layout": "IPY_MODEL_e0f0c3c13b284d028cab5fe53ab66065",
            "placeholder": "​",
            "style": "IPY_MODEL_6e6a59a41dde45cbaba2df3eefd4d132",
            "tabbable": null,
            "tooltip": null,
            "value": " 979269282/979269282 [00:24&lt;00:00, 44927393.01it/s]"
          }
        },
        "506c2ef5d79c498fa70c652266cf2f55": {
          "model_module": "@jupyter-widgets/controls",
          "model_module_version": "2.0.0",
          "model_name": "HBoxModel",
          "state": {
            "_dom_classes": [],
            "_model_module": "@jupyter-widgets/controls",
            "_model_module_version": "2.0.0",
            "_model_name": "HBoxModel",
            "_view_count": null,
            "_view_module": "@jupyter-widgets/controls",
            "_view_module_version": "2.0.0",
            "_view_name": "HBoxView",
            "box_style": "",
            "children": [
              "IPY_MODEL_52ee45b62b4641f4b9db158733d3518a",
              "IPY_MODEL_42ce97240c8e47288d6a187b78bc578c",
              "IPY_MODEL_6242c19efe2e4a5dabac4783db8bd685"
            ],
            "layout": "IPY_MODEL_c9f899a0259a49b2b35ad6a4421e7133",
            "tabbable": null,
            "tooltip": null
          }
        },
        "52ee45b62b4641f4b9db158733d3518a": {
          "model_module": "@jupyter-widgets/controls",
          "model_module_version": "2.0.0",
          "model_name": "HTMLModel",
          "state": {
            "_dom_classes": [],
            "_model_module": "@jupyter-widgets/controls",
            "_model_module_version": "2.0.0",
            "_model_name": "HTMLModel",
            "_view_count": null,
            "_view_module": "@jupyter-widgets/controls",
            "_view_module_version": "2.0.0",
            "_view_name": "HTMLView",
            "description": "",
            "description_allow_html": false,
            "layout": "IPY_MODEL_2191f453101d428eaab0f083d96f55eb",
            "placeholder": "​",
            "style": "IPY_MODEL_5c58a35771e64a58b32044fb5aff7f39",
            "tabbable": null,
            "tooltip": null,
            "value": "Validation DataLoader 0: 100%"
          }
        },
        "531ebf5c19d44c96aacef9858ef06951": {
          "model_module": "@jupyter-widgets/controls",
          "model_module_version": "2.0.0",
          "model_name": "FloatProgressModel",
          "state": {
            "_dom_classes": [],
            "_model_module": "@jupyter-widgets/controls",
            "_model_module_version": "2.0.0",
            "_model_name": "FloatProgressModel",
            "_view_count": null,
            "_view_module": "@jupyter-widgets/controls",
            "_view_module_version": "2.0.0",
            "_view_name": "ProgressView",
            "bar_style": "success",
            "description": "",
            "description_allow_html": false,
            "layout": "IPY_MODEL_98f8ab8723f94885902659b91b56e109",
            "max": 979269282,
            "min": 0,
            "orientation": "horizontal",
            "style": "IPY_MODEL_5ba6d4bd534c47b2acc063dbb7a20cae",
            "tabbable": null,
            "tooltip": null,
            "value": 979269282
          }
        },
        "564e683c56a941cb9905b9c1e3074a06": {
          "model_module": "@jupyter-widgets/controls",
          "model_module_version": "2.0.0",
          "model_name": "HBoxModel",
          "state": {
            "_dom_classes": [],
            "_model_module": "@jupyter-widgets/controls",
            "_model_module_version": "2.0.0",
            "_model_name": "HBoxModel",
            "_view_count": null,
            "_view_module": "@jupyter-widgets/controls",
            "_view_module_version": "2.0.0",
            "_view_name": "HBoxView",
            "box_style": "",
            "children": [
              "IPY_MODEL_afdf53665b7e419c8b915bd3fd6c6774",
              "IPY_MODEL_531ebf5c19d44c96aacef9858ef06951",
              "IPY_MODEL_4f3e6921b8f844f086a139b8c6d9e262"
            ],
            "layout": "IPY_MODEL_e1c1620e7db944cab1ea607914aff6a7",
            "tabbable": null,
            "tooltip": null
          }
        },
        "59ac5410035e4dc3ab724bbc78aab4be": {
          "model_module": "@jupyter-widgets/controls",
          "model_module_version": "2.0.0",
          "model_name": "HTMLModel",
          "state": {
            "_dom_classes": [],
            "_model_module": "@jupyter-widgets/controls",
            "_model_module_version": "2.0.0",
            "_model_name": "HTMLModel",
            "_view_count": null,
            "_view_module": "@jupyter-widgets/controls",
            "_view_module_version": "2.0.0",
            "_view_name": "HTMLView",
            "description": "",
            "description_allow_html": false,
            "layout": "IPY_MODEL_d7a299642cd74873b04bfa681c84f580",
            "placeholder": "​",
            "style": "IPY_MODEL_ea37ade7647c486c852927ea8649e17e",
            "tabbable": null,
            "tooltip": null,
            "value": "100%"
          }
        },
        "5ba6d4bd534c47b2acc063dbb7a20cae": {
          "model_module": "@jupyter-widgets/controls",
          "model_module_version": "2.0.0",
          "model_name": "ProgressStyleModel",
          "state": {
            "_model_module": "@jupyter-widgets/controls",
            "_model_module_version": "2.0.0",
            "_model_name": "ProgressStyleModel",
            "_view_count": null,
            "_view_module": "@jupyter-widgets/base",
            "_view_module_version": "2.0.0",
            "_view_name": "StyleView",
            "bar_color": null,
            "description_width": ""
          }
        },
        "5c58a35771e64a58b32044fb5aff7f39": {
          "model_module": "@jupyter-widgets/controls",
          "model_module_version": "2.0.0",
          "model_name": "HTMLStyleModel",
          "state": {
            "_model_module": "@jupyter-widgets/controls",
            "_model_module_version": "2.0.0",
            "_model_name": "HTMLStyleModel",
            "_view_count": null,
            "_view_module": "@jupyter-widgets/base",
            "_view_module_version": "2.0.0",
            "_view_name": "StyleView",
            "background": null,
            "description_width": "",
            "font_size": null,
            "text_color": null
          }
        },
        "5fcb26e15bf94f4693d2f4abf1eb6526": {
          "model_module": "@jupyter-widgets/base",
          "model_module_version": "2.0.0",
          "model_name": "LayoutModel",
          "state": {
            "_model_module": "@jupyter-widgets/base",
            "_model_module_version": "2.0.0",
            "_model_name": "LayoutModel",
            "_view_count": null,
            "_view_module": "@jupyter-widgets/base",
            "_view_module_version": "2.0.0",
            "_view_name": "LayoutView",
            "align_content": null,
            "align_items": null,
            "align_self": null,
            "border_bottom": null,
            "border_left": null,
            "border_right": null,
            "border_top": null,
            "bottom": null,
            "display": null,
            "flex": null,
            "flex_flow": null,
            "grid_area": null,
            "grid_auto_columns": null,
            "grid_auto_flow": null,
            "grid_auto_rows": null,
            "grid_column": null,
            "grid_gap": null,
            "grid_row": null,
            "grid_template_areas": null,
            "grid_template_columns": null,
            "grid_template_rows": null,
            "height": null,
            "justify_content": null,
            "justify_items": null,
            "left": null,
            "margin": null,
            "max_height": null,
            "max_width": null,
            "min_height": null,
            "min_width": null,
            "object_fit": null,
            "object_position": null,
            "order": null,
            "overflow": null,
            "padding": null,
            "right": null,
            "top": null,
            "visibility": null,
            "width": null
          }
        },
        "5fdec22f00954727bc192dc49f178405": {
          "model_module": "@jupyter-widgets/controls",
          "model_module_version": "2.0.0",
          "model_name": "ProgressStyleModel",
          "state": {
            "_model_module": "@jupyter-widgets/controls",
            "_model_module_version": "2.0.0",
            "_model_name": "ProgressStyleModel",
            "_view_count": null,
            "_view_module": "@jupyter-widgets/base",
            "_view_module_version": "2.0.0",
            "_view_name": "StyleView",
            "bar_color": null,
            "description_width": ""
          }
        },
        "60630c5ad6a34939a665a3049590700c": {
          "model_module": "@jupyter-widgets/controls",
          "model_module_version": "2.0.0",
          "model_name": "HTMLStyleModel",
          "state": {
            "_model_module": "@jupyter-widgets/controls",
            "_model_module_version": "2.0.0",
            "_model_name": "HTMLStyleModel",
            "_view_count": null,
            "_view_module": "@jupyter-widgets/base",
            "_view_module_version": "2.0.0",
            "_view_name": "StyleView",
            "background": null,
            "description_width": "",
            "font_size": null,
            "text_color": null
          }
        },
        "60f8216648c84dcdbb79465cebe08098": {
          "model_module": "@jupyter-widgets/controls",
          "model_module_version": "2.0.0",
          "model_name": "HTMLStyleModel",
          "state": {
            "_model_module": "@jupyter-widgets/controls",
            "_model_module_version": "2.0.0",
            "_model_name": "HTMLStyleModel",
            "_view_count": null,
            "_view_module": "@jupyter-widgets/base",
            "_view_module_version": "2.0.0",
            "_view_name": "StyleView",
            "background": null,
            "description_width": "",
            "font_size": null,
            "text_color": null
          }
        },
        "6242c19efe2e4a5dabac4783db8bd685": {
          "model_module": "@jupyter-widgets/controls",
          "model_module_version": "2.0.0",
          "model_name": "HTMLModel",
          "state": {
            "_dom_classes": [],
            "_model_module": "@jupyter-widgets/controls",
            "_model_module_version": "2.0.0",
            "_model_name": "HTMLModel",
            "_view_count": null,
            "_view_module": "@jupyter-widgets/controls",
            "_view_module_version": "2.0.0",
            "_view_name": "HTMLView",
            "description": "",
            "description_allow_html": false,
            "layout": "IPY_MODEL_0b0d39a3c65949fb9abbd7603180d436",
            "placeholder": "​",
            "style": "IPY_MODEL_9aef16d4f3494b5aac84d60c2bd06e97",
            "tabbable": null,
            "tooltip": null,
            "value": " 52/52 [00:17&lt;00:00,  2.91it/s]"
          }
        },
        "6e6a59a41dde45cbaba2df3eefd4d132": {
          "model_module": "@jupyter-widgets/controls",
          "model_module_version": "2.0.0",
          "model_name": "HTMLStyleModel",
          "state": {
            "_model_module": "@jupyter-widgets/controls",
            "_model_module_version": "2.0.0",
            "_model_name": "HTMLStyleModel",
            "_view_count": null,
            "_view_module": "@jupyter-widgets/base",
            "_view_module_version": "2.0.0",
            "_view_name": "StyleView",
            "background": null,
            "description_width": "",
            "font_size": null,
            "text_color": null
          }
        },
        "70392f3c19cf419db81adccd7082af90": {
          "model_module": "@jupyter-widgets/controls",
          "model_module_version": "2.0.0",
          "model_name": "HTMLModel",
          "state": {
            "_dom_classes": [],
            "_model_module": "@jupyter-widgets/controls",
            "_model_module_version": "2.0.0",
            "_model_name": "HTMLModel",
            "_view_count": null,
            "_view_module": "@jupyter-widgets/controls",
            "_view_module_version": "2.0.0",
            "_view_name": "HTMLView",
            "description": "",
            "description_allow_html": false,
            "layout": "IPY_MODEL_5fcb26e15bf94f4693d2f4abf1eb6526",
            "placeholder": "​",
            "style": "IPY_MODEL_0d2b3f45c7d543cf9f429be1a411a628",
            "tabbable": null,
            "tooltip": null,
            "value": " 977350468/977350468 [00:23&lt;00:00, 44975316.89it/s]"
          }
        },
        "7838aa50467a4842ba33878b0c0c9c91": {
          "model_module": "@jupyter-widgets/base",
          "model_module_version": "2.0.0",
          "model_name": "LayoutModel",
          "state": {
            "_model_module": "@jupyter-widgets/base",
            "_model_module_version": "2.0.0",
            "_model_name": "LayoutModel",
            "_view_count": null,
            "_view_module": "@jupyter-widgets/base",
            "_view_module_version": "2.0.0",
            "_view_name": "LayoutView",
            "align_content": null,
            "align_items": null,
            "align_self": null,
            "border_bottom": null,
            "border_left": null,
            "border_right": null,
            "border_top": null,
            "bottom": null,
            "display": null,
            "flex": "2",
            "flex_flow": null,
            "grid_area": null,
            "grid_auto_columns": null,
            "grid_auto_flow": null,
            "grid_auto_rows": null,
            "grid_column": null,
            "grid_gap": null,
            "grid_row": null,
            "grid_template_areas": null,
            "grid_template_columns": null,
            "grid_template_rows": null,
            "height": null,
            "justify_content": null,
            "justify_items": null,
            "left": null,
            "margin": null,
            "max_height": null,
            "max_width": null,
            "min_height": null,
            "min_width": null,
            "object_fit": null,
            "object_position": null,
            "order": null,
            "overflow": null,
            "padding": null,
            "right": null,
            "top": null,
            "visibility": null,
            "width": null
          }
        },
        "7e12468c4ae94a6988567e9558ec99e5": {
          "model_module": "@jupyter-widgets/controls",
          "model_module_version": "2.0.0",
          "model_name": "HTMLStyleModel",
          "state": {
            "_model_module": "@jupyter-widgets/controls",
            "_model_module_version": "2.0.0",
            "_model_name": "HTMLStyleModel",
            "_view_count": null,
            "_view_module": "@jupyter-widgets/base",
            "_view_module_version": "2.0.0",
            "_view_name": "StyleView",
            "background": null,
            "description_width": "",
            "font_size": null,
            "text_color": null
          }
        },
        "7ff15c9932e34e6193286580e30554b8": {
          "model_module": "@jupyter-widgets/controls",
          "model_module_version": "2.0.0",
          "model_name": "FloatProgressModel",
          "state": {
            "_dom_classes": [],
            "_model_module": "@jupyter-widgets/controls",
            "_model_module_version": "2.0.0",
            "_model_name": "FloatProgressModel",
            "_view_count": null,
            "_view_module": "@jupyter-widgets/controls",
            "_view_module_version": "2.0.0",
            "_view_name": "ProgressView",
            "bar_style": "success",
            "description": "",
            "description_allow_html": false,
            "layout": "IPY_MODEL_378bed5985f14fa0a0f2a72ff8be7968",
            "max": 185758,
            "min": 0,
            "orientation": "horizontal",
            "style": "IPY_MODEL_cb4ce143bd074d6982adbacbb56feba4",
            "tabbable": null,
            "tooltip": null,
            "value": 185758
          }
        },
        "80b7521cf51a44db86f7d7c789e52d19": {
          "model_module": "@jupyter-widgets/base",
          "model_module_version": "2.0.0",
          "model_name": "LayoutModel",
          "state": {
            "_model_module": "@jupyter-widgets/base",
            "_model_module_version": "2.0.0",
            "_model_name": "LayoutModel",
            "_view_count": null,
            "_view_module": "@jupyter-widgets/base",
            "_view_module_version": "2.0.0",
            "_view_name": "LayoutView",
            "align_content": null,
            "align_items": null,
            "align_self": null,
            "border_bottom": null,
            "border_left": null,
            "border_right": null,
            "border_top": null,
            "bottom": null,
            "display": null,
            "flex": null,
            "flex_flow": null,
            "grid_area": null,
            "grid_auto_columns": null,
            "grid_auto_flow": null,
            "grid_auto_rows": null,
            "grid_column": null,
            "grid_gap": null,
            "grid_row": null,
            "grid_template_areas": null,
            "grid_template_columns": null,
            "grid_template_rows": null,
            "height": null,
            "justify_content": null,
            "justify_items": null,
            "left": null,
            "margin": null,
            "max_height": null,
            "max_width": null,
            "min_height": null,
            "min_width": null,
            "object_fit": null,
            "object_position": null,
            "order": null,
            "overflow": null,
            "padding": null,
            "right": null,
            "top": null,
            "visibility": null,
            "width": null
          }
        },
        "8674f000797245a1b62fd80d1551f4f7": {
          "model_module": "@jupyter-widgets/base",
          "model_module_version": "2.0.0",
          "model_name": "LayoutModel",
          "state": {
            "_model_module": "@jupyter-widgets/base",
            "_model_module_version": "2.0.0",
            "_model_name": "LayoutModel",
            "_view_count": null,
            "_view_module": "@jupyter-widgets/base",
            "_view_module_version": "2.0.0",
            "_view_name": "LayoutView",
            "align_content": null,
            "align_items": null,
            "align_self": null,
            "border_bottom": null,
            "border_left": null,
            "border_right": null,
            "border_top": null,
            "bottom": null,
            "display": "inline-flex",
            "flex": null,
            "flex_flow": "row wrap",
            "grid_area": null,
            "grid_auto_columns": null,
            "grid_auto_flow": null,
            "grid_auto_rows": null,
            "grid_column": null,
            "grid_gap": null,
            "grid_row": null,
            "grid_template_areas": null,
            "grid_template_columns": null,
            "grid_template_rows": null,
            "height": null,
            "justify_content": null,
            "justify_items": null,
            "left": null,
            "margin": null,
            "max_height": null,
            "max_width": null,
            "min_height": null,
            "min_width": null,
            "object_fit": null,
            "object_position": null,
            "order": null,
            "overflow": null,
            "padding": null,
            "right": null,
            "top": null,
            "visibility": null,
            "width": "100%"
          }
        },
        "8748e51758624a65b6d96dbbd0728050": {
          "model_module": "@jupyter-widgets/controls",
          "model_module_version": "2.0.0",
          "model_name": "HTMLModel",
          "state": {
            "_dom_classes": [],
            "_model_module": "@jupyter-widgets/controls",
            "_model_module_version": "2.0.0",
            "_model_name": "HTMLModel",
            "_view_count": null,
            "_view_module": "@jupyter-widgets/controls",
            "_view_module_version": "2.0.0",
            "_view_name": "HTMLView",
            "description": "",
            "description_allow_html": false,
            "layout": "IPY_MODEL_39b689dfb0704e52ad1240005573472a",
            "placeholder": "​",
            "style": "IPY_MODEL_a4caa5e80c584c968c27ce610c97d3d3",
            "tabbable": null,
            "tooltip": null,
            "value": "100%"
          }
        },
        "881c4a0a45e441e3868a2d84b788ab73": {
          "model_module": "@jupyter-widgets/controls",
          "model_module_version": "2.0.0",
          "model_name": "HBoxModel",
          "state": {
            "_dom_classes": [],
            "_model_module": "@jupyter-widgets/controls",
            "_model_module_version": "2.0.0",
            "_model_name": "HBoxModel",
            "_view_count": null,
            "_view_module": "@jupyter-widgets/controls",
            "_view_module_version": "2.0.0",
            "_view_name": "HBoxView",
            "box_style": "",
            "children": [
              "IPY_MODEL_b5b69f2117b7414b9dd0a7de87a10d16",
              "IPY_MODEL_33071ac6084b416496c2491387274faf",
              "IPY_MODEL_b3e5c4bded4c45098beff64fe08cef27"
            ],
            "layout": "IPY_MODEL_cdb275d88a5444318018febfaa2c873f",
            "tabbable": null,
            "tooltip": null
          }
        },
        "89f55b38e4384178b4322b2623bd37b7": {
          "model_module": "@jupyter-widgets/controls",
          "model_module_version": "2.0.0",
          "model_name": "HTMLModel",
          "state": {
            "_dom_classes": [],
            "_model_module": "@jupyter-widgets/controls",
            "_model_module_version": "2.0.0",
            "_model_name": "HTMLModel",
            "_view_count": null,
            "_view_module": "@jupyter-widgets/controls",
            "_view_module_version": "2.0.0",
            "_view_name": "HTMLView",
            "description": "",
            "description_allow_html": false,
            "layout": "IPY_MODEL_d2507c5f83f942c38c96e023c6ef7a7f",
            "placeholder": "​",
            "style": "IPY_MODEL_bea9d3bfe8454f40b5d92fdd277be97f",
            "tabbable": null,
            "tooltip": null,
            "value": "100%"
          }
        },
        "8fdbe505d13e49189f604b7ebd6dbd8a": {
          "model_module": "@jupyter-widgets/controls",
          "model_module_version": "2.0.0",
          "model_name": "HTMLStyleModel",
          "state": {
            "_model_module": "@jupyter-widgets/controls",
            "_model_module_version": "2.0.0",
            "_model_name": "HTMLStyleModel",
            "_view_count": null,
            "_view_module": "@jupyter-widgets/base",
            "_view_module_version": "2.0.0",
            "_view_name": "StyleView",
            "background": null,
            "description_width": "",
            "font_size": null,
            "text_color": null
          }
        },
        "9343e6c0f7ee4e2d9354581401e49627": {
          "model_module": "@jupyter-widgets/controls",
          "model_module_version": "2.0.0",
          "model_name": "HBoxModel",
          "state": {
            "_dom_classes": [],
            "_model_module": "@jupyter-widgets/controls",
            "_model_module_version": "2.0.0",
            "_model_name": "HBoxModel",
            "_view_count": null,
            "_view_module": "@jupyter-widgets/controls",
            "_view_module_version": "2.0.0",
            "_view_name": "HBoxView",
            "box_style": "",
            "children": [
              "IPY_MODEL_59ac5410035e4dc3ab724bbc78aab4be",
              "IPY_MODEL_a0c4e0b4bd3d4d2a9b439135cf46efdc",
              "IPY_MODEL_70392f3c19cf419db81adccd7082af90"
            ],
            "layout": "IPY_MODEL_e3461e501f1344019d44d4e44ff7dae3",
            "tabbable": null,
            "tooltip": null
          }
        },
        "935153335bc0424491f87ccab31d2e3d": {
          "model_module": "@jupyter-widgets/controls",
          "model_module_version": "2.0.0",
          "model_name": "HTMLStyleModel",
          "state": {
            "_model_module": "@jupyter-widgets/controls",
            "_model_module_version": "2.0.0",
            "_model_name": "HTMLStyleModel",
            "_view_count": null,
            "_view_module": "@jupyter-widgets/base",
            "_view_module_version": "2.0.0",
            "_view_name": "StyleView",
            "background": null,
            "description_width": "",
            "font_size": null,
            "text_color": null
          }
        },
        "98f8ab8723f94885902659b91b56e109": {
          "model_module": "@jupyter-widgets/base",
          "model_module_version": "2.0.0",
          "model_name": "LayoutModel",
          "state": {
            "_model_module": "@jupyter-widgets/base",
            "_model_module_version": "2.0.0",
            "_model_name": "LayoutModel",
            "_view_count": null,
            "_view_module": "@jupyter-widgets/base",
            "_view_module_version": "2.0.0",
            "_view_name": "LayoutView",
            "align_content": null,
            "align_items": null,
            "align_self": null,
            "border_bottom": null,
            "border_left": null,
            "border_right": null,
            "border_top": null,
            "bottom": null,
            "display": null,
            "flex": null,
            "flex_flow": null,
            "grid_area": null,
            "grid_auto_columns": null,
            "grid_auto_flow": null,
            "grid_auto_rows": null,
            "grid_column": null,
            "grid_gap": null,
            "grid_row": null,
            "grid_template_areas": null,
            "grid_template_columns": null,
            "grid_template_rows": null,
            "height": null,
            "justify_content": null,
            "justify_items": null,
            "left": null,
            "margin": null,
            "max_height": null,
            "max_width": null,
            "min_height": null,
            "min_width": null,
            "object_fit": null,
            "object_position": null,
            "order": null,
            "overflow": null,
            "padding": null,
            "right": null,
            "top": null,
            "visibility": null,
            "width": null
          }
        },
        "98faee0c48514a7aa6d62d0c01ad0679": {
          "model_module": "@jupyter-widgets/controls",
          "model_module_version": "2.0.0",
          "model_name": "ProgressStyleModel",
          "state": {
            "_model_module": "@jupyter-widgets/controls",
            "_model_module_version": "2.0.0",
            "_model_name": "ProgressStyleModel",
            "_view_count": null,
            "_view_module": "@jupyter-widgets/base",
            "_view_module_version": "2.0.0",
            "_view_name": "StyleView",
            "bar_color": null,
            "description_width": ""
          }
        },
        "9a5e8f6ec24440c9a8e492f0b26dccd7": {
          "model_module": "@jupyter-widgets/controls",
          "model_module_version": "2.0.0",
          "model_name": "HBoxModel",
          "state": {
            "_dom_classes": [],
            "_model_module": "@jupyter-widgets/controls",
            "_model_module_version": "2.0.0",
            "_model_name": "HBoxModel",
            "_view_count": null,
            "_view_module": "@jupyter-widgets/controls",
            "_view_module_version": "2.0.0",
            "_view_name": "HBoxView",
            "box_style": "",
            "children": [
              "IPY_MODEL_8748e51758624a65b6d96dbbd0728050",
              "IPY_MODEL_d0d3ba7ca37f45589d5ef19724bfbe0a",
              "IPY_MODEL_f57ba79c60f641ff82e40f3bec1efdb7"
            ],
            "layout": "IPY_MODEL_bb1ab7bf3cbf4b278714de3b5c7739b4",
            "tabbable": null,
            "tooltip": null
          }
        },
        "9aef16d4f3494b5aac84d60c2bd06e97": {
          "model_module": "@jupyter-widgets/controls",
          "model_module_version": "2.0.0",
          "model_name": "HTMLStyleModel",
          "state": {
            "_model_module": "@jupyter-widgets/controls",
            "_model_module_version": "2.0.0",
            "_model_name": "HTMLStyleModel",
            "_view_count": null,
            "_view_module": "@jupyter-widgets/base",
            "_view_module_version": "2.0.0",
            "_view_name": "StyleView",
            "background": null,
            "description_width": "",
            "font_size": null,
            "text_color": null
          }
        },
        "9c9548f810984a81b01ae248d37f975c": {
          "model_module": "@jupyter-widgets/controls",
          "model_module_version": "2.0.0",
          "model_name": "FloatProgressModel",
          "state": {
            "_dom_classes": [],
            "_model_module": "@jupyter-widgets/controls",
            "_model_module_version": "2.0.0",
            "_model_name": "FloatProgressModel",
            "_view_count": null,
            "_view_module": "@jupyter-widgets/controls",
            "_view_module_version": "2.0.0",
            "_view_name": "ProgressView",
            "bar_style": "",
            "description": "",
            "description_allow_html": false,
            "layout": "IPY_MODEL_af38d95133e84e3b80dabc2d1ca4a90b",
            "max": 256,
            "min": 0,
            "orientation": "horizontal",
            "style": "IPY_MODEL_3e8bd69952f846c79c7ee8dffb99f98c",
            "tabbable": null,
            "tooltip": null,
            "value": 220
          }
        },
        "a0c4e0b4bd3d4d2a9b439135cf46efdc": {
          "model_module": "@jupyter-widgets/controls",
          "model_module_version": "2.0.0",
          "model_name": "FloatProgressModel",
          "state": {
            "_dom_classes": [],
            "_model_module": "@jupyter-widgets/controls",
            "_model_module_version": "2.0.0",
            "_model_name": "FloatProgressModel",
            "_view_count": null,
            "_view_module": "@jupyter-widgets/controls",
            "_view_module_version": "2.0.0",
            "_view_name": "ProgressView",
            "bar_style": "success",
            "description": "",
            "description_allow_html": false,
            "layout": "IPY_MODEL_3d389574546243459a762064b947f080",
            "max": 977350468,
            "min": 0,
            "orientation": "horizontal",
            "style": "IPY_MODEL_36b583d474f045c38b3dba861ad4eced",
            "tabbable": null,
            "tooltip": null,
            "value": 977350468
          }
        },
        "a4caa5e80c584c968c27ce610c97d3d3": {
          "model_module": "@jupyter-widgets/controls",
          "model_module_version": "2.0.0",
          "model_name": "HTMLStyleModel",
          "state": {
            "_model_module": "@jupyter-widgets/controls",
            "_model_module_version": "2.0.0",
            "_model_name": "HTMLStyleModel",
            "_view_count": null,
            "_view_module": "@jupyter-widgets/base",
            "_view_module_version": "2.0.0",
            "_view_name": "StyleView",
            "background": null,
            "description_width": "",
            "font_size": null,
            "text_color": null
          }
        },
        "a97e62a6c02c440ab92da70a350c350b": {
          "model_module": "@jupyter-widgets/base",
          "model_module_version": "2.0.0",
          "model_name": "LayoutModel",
          "state": {
            "_model_module": "@jupyter-widgets/base",
            "_model_module_version": "2.0.0",
            "_model_name": "LayoutModel",
            "_view_count": null,
            "_view_module": "@jupyter-widgets/base",
            "_view_module_version": "2.0.0",
            "_view_name": "LayoutView",
            "align_content": null,
            "align_items": null,
            "align_self": null,
            "border_bottom": null,
            "border_left": null,
            "border_right": null,
            "border_top": null,
            "bottom": null,
            "display": null,
            "flex": null,
            "flex_flow": null,
            "grid_area": null,
            "grid_auto_columns": null,
            "grid_auto_flow": null,
            "grid_auto_rows": null,
            "grid_column": null,
            "grid_gap": null,
            "grid_row": null,
            "grid_template_areas": null,
            "grid_template_columns": null,
            "grid_template_rows": null,
            "height": null,
            "justify_content": null,
            "justify_items": null,
            "left": null,
            "margin": null,
            "max_height": null,
            "max_width": null,
            "min_height": null,
            "min_width": null,
            "object_fit": null,
            "object_position": null,
            "order": null,
            "overflow": null,
            "padding": null,
            "right": null,
            "top": null,
            "visibility": null,
            "width": null
          }
        },
        "ade0f4af25d34bfe97d6ae6c2096e355": {
          "model_module": "@jupyter-widgets/base",
          "model_module_version": "2.0.0",
          "model_name": "LayoutModel",
          "state": {
            "_model_module": "@jupyter-widgets/base",
            "_model_module_version": "2.0.0",
            "_model_name": "LayoutModel",
            "_view_count": null,
            "_view_module": "@jupyter-widgets/base",
            "_view_module_version": "2.0.0",
            "_view_name": "LayoutView",
            "align_content": null,
            "align_items": null,
            "align_self": null,
            "border_bottom": null,
            "border_left": null,
            "border_right": null,
            "border_top": null,
            "bottom": null,
            "display": null,
            "flex": null,
            "flex_flow": null,
            "grid_area": null,
            "grid_auto_columns": null,
            "grid_auto_flow": null,
            "grid_auto_rows": null,
            "grid_column": null,
            "grid_gap": null,
            "grid_row": null,
            "grid_template_areas": null,
            "grid_template_columns": null,
            "grid_template_rows": null,
            "height": null,
            "justify_content": null,
            "justify_items": null,
            "left": null,
            "margin": null,
            "max_height": null,
            "max_width": null,
            "min_height": null,
            "min_width": null,
            "object_fit": null,
            "object_position": null,
            "order": null,
            "overflow": null,
            "padding": null,
            "right": null,
            "top": null,
            "visibility": null,
            "width": null
          }
        },
        "af38d95133e84e3b80dabc2d1ca4a90b": {
          "model_module": "@jupyter-widgets/base",
          "model_module_version": "2.0.0",
          "model_name": "LayoutModel",
          "state": {
            "_model_module": "@jupyter-widgets/base",
            "_model_module_version": "2.0.0",
            "_model_name": "LayoutModel",
            "_view_count": null,
            "_view_module": "@jupyter-widgets/base",
            "_view_module_version": "2.0.0",
            "_view_name": "LayoutView",
            "align_content": null,
            "align_items": null,
            "align_self": null,
            "border_bottom": null,
            "border_left": null,
            "border_right": null,
            "border_top": null,
            "bottom": null,
            "display": null,
            "flex": "2",
            "flex_flow": null,
            "grid_area": null,
            "grid_auto_columns": null,
            "grid_auto_flow": null,
            "grid_auto_rows": null,
            "grid_column": null,
            "grid_gap": null,
            "grid_row": null,
            "grid_template_areas": null,
            "grid_template_columns": null,
            "grid_template_rows": null,
            "height": null,
            "justify_content": null,
            "justify_items": null,
            "left": null,
            "margin": null,
            "max_height": null,
            "max_width": null,
            "min_height": null,
            "min_width": null,
            "object_fit": null,
            "object_position": null,
            "order": null,
            "overflow": null,
            "padding": null,
            "right": null,
            "top": null,
            "visibility": null,
            "width": null
          }
        },
        "af80cc31e97e462a8fd548fa714925eb": {
          "model_module": "@jupyter-widgets/controls",
          "model_module_version": "2.0.0",
          "model_name": "HTMLStyleModel",
          "state": {
            "_model_module": "@jupyter-widgets/controls",
            "_model_module_version": "2.0.0",
            "_model_name": "HTMLStyleModel",
            "_view_count": null,
            "_view_module": "@jupyter-widgets/base",
            "_view_module_version": "2.0.0",
            "_view_name": "StyleView",
            "background": null,
            "description_width": "",
            "font_size": null,
            "text_color": null
          }
        },
        "af8a5b4d8db841ad88cafc3c49bb37e6": {
          "model_module": "@jupyter-widgets/controls",
          "model_module_version": "2.0.0",
          "model_name": "ProgressStyleModel",
          "state": {
            "_model_module": "@jupyter-widgets/controls",
            "_model_module_version": "2.0.0",
            "_model_name": "ProgressStyleModel",
            "_view_count": null,
            "_view_module": "@jupyter-widgets/base",
            "_view_module_version": "2.0.0",
            "_view_name": "StyleView",
            "bar_color": null,
            "description_width": ""
          }
        },
        "afdf53665b7e419c8b915bd3fd6c6774": {
          "model_module": "@jupyter-widgets/controls",
          "model_module_version": "2.0.0",
          "model_name": "HTMLModel",
          "state": {
            "_dom_classes": [],
            "_model_module": "@jupyter-widgets/controls",
            "_model_module_version": "2.0.0",
            "_model_name": "HTMLModel",
            "_view_count": null,
            "_view_module": "@jupyter-widgets/controls",
            "_view_module_version": "2.0.0",
            "_view_name": "HTMLView",
            "description": "",
            "description_allow_html": false,
            "layout": "IPY_MODEL_34903c22094040a69bc25474324cfe4d",
            "placeholder": "​",
            "style": "IPY_MODEL_ede24ba48b194b388ff612e34cb657e4",
            "tabbable": null,
            "tooltip": null,
            "value": "100%"
          }
        },
        "b3e5c4bded4c45098beff64fe08cef27": {
          "model_module": "@jupyter-widgets/controls",
          "model_module_version": "2.0.0",
          "model_name": "HTMLModel",
          "state": {
            "_dom_classes": [],
            "_model_module": "@jupyter-widgets/controls",
            "_model_module_version": "2.0.0",
            "_model_name": "HTMLModel",
            "_view_count": null,
            "_view_module": "@jupyter-widgets/controls",
            "_view_module_version": "2.0.0",
            "_view_name": "HTMLView",
            "description": "",
            "description_allow_html": false,
            "layout": "IPY_MODEL_80b7521cf51a44db86f7d7c789e52d19",
            "placeholder": "​",
            "style": "IPY_MODEL_60f8216648c84dcdbb79465cebe08098",
            "tabbable": null,
            "tooltip": null,
            "value": " 0/? [00:00&lt;?, ?it/s]"
          }
        },
        "b5b69f2117b7414b9dd0a7de87a10d16": {
          "model_module": "@jupyter-widgets/controls",
          "model_module_version": "2.0.0",
          "model_name": "HTMLModel",
          "state": {
            "_dom_classes": [],
            "_model_module": "@jupyter-widgets/controls",
            "_model_module_version": "2.0.0",
            "_model_name": "HTMLModel",
            "_view_count": null,
            "_view_module": "@jupyter-widgets/controls",
            "_view_module_version": "2.0.0",
            "_view_name": "HTMLView",
            "description": "",
            "description_allow_html": false,
            "layout": "IPY_MODEL_d49c3d232c5949fc96b57166247efb7e",
            "placeholder": "​",
            "style": "IPY_MODEL_8fdbe505d13e49189f604b7ebd6dbd8a",
            "tabbable": null,
            "tooltip": null,
            "value": "Testing: "
          }
        },
        "b5c0ee44fef942c28d1fbd937bd5fb94": {
          "model_module": "@jupyter-widgets/controls",
          "model_module_version": "2.0.0",
          "model_name": "HBoxModel",
          "state": {
            "_dom_classes": [],
            "_model_module": "@jupyter-widgets/controls",
            "_model_module_version": "2.0.0",
            "_model_name": "HBoxModel",
            "_view_count": null,
            "_view_module": "@jupyter-widgets/controls",
            "_view_module_version": "2.0.0",
            "_view_name": "HBoxView",
            "box_style": "",
            "children": [
              "IPY_MODEL_091b70ddd8694fbab8bcafc3f9533b32",
              "IPY_MODEL_10ab4e6224b6421c8e72bfb19fdf4cf4",
              "IPY_MODEL_d7f62ce60a264c47958c4d389c0f1ff7"
            ],
            "layout": "IPY_MODEL_3e494051bb564c6495e9a306d24c0d4d",
            "tabbable": null,
            "tooltip": null
          }
        },
        "b6e81e9250ff48c7b6d2831a4052ee3e": {
          "model_module": "@jupyter-widgets/controls",
          "model_module_version": "2.0.0",
          "model_name": "HTMLStyleModel",
          "state": {
            "_model_module": "@jupyter-widgets/controls",
            "_model_module_version": "2.0.0",
            "_model_name": "HTMLStyleModel",
            "_view_count": null,
            "_view_module": "@jupyter-widgets/base",
            "_view_module_version": "2.0.0",
            "_view_name": "StyleView",
            "background": null,
            "description_width": "",
            "font_size": null,
            "text_color": null
          }
        },
        "bb08a16e08d9408387c11289aecab93e": {
          "model_module": "@jupyter-widgets/controls",
          "model_module_version": "2.0.0",
          "model_name": "ProgressStyleModel",
          "state": {
            "_model_module": "@jupyter-widgets/controls",
            "_model_module_version": "2.0.0",
            "_model_name": "ProgressStyleModel",
            "_view_count": null,
            "_view_module": "@jupyter-widgets/base",
            "_view_module_version": "2.0.0",
            "_view_name": "StyleView",
            "bar_color": null,
            "description_width": ""
          }
        },
        "bb1ab7bf3cbf4b278714de3b5c7739b4": {
          "model_module": "@jupyter-widgets/base",
          "model_module_version": "2.0.0",
          "model_name": "LayoutModel",
          "state": {
            "_model_module": "@jupyter-widgets/base",
            "_model_module_version": "2.0.0",
            "_model_name": "LayoutModel",
            "_view_count": null,
            "_view_module": "@jupyter-widgets/base",
            "_view_module_version": "2.0.0",
            "_view_name": "LayoutView",
            "align_content": null,
            "align_items": null,
            "align_self": null,
            "border_bottom": null,
            "border_left": null,
            "border_right": null,
            "border_top": null,
            "bottom": null,
            "display": null,
            "flex": null,
            "flex_flow": null,
            "grid_area": null,
            "grid_auto_columns": null,
            "grid_auto_flow": null,
            "grid_auto_rows": null,
            "grid_column": null,
            "grid_gap": null,
            "grid_row": null,
            "grid_template_areas": null,
            "grid_template_columns": null,
            "grid_template_rows": null,
            "height": null,
            "justify_content": null,
            "justify_items": null,
            "left": null,
            "margin": null,
            "max_height": null,
            "max_width": null,
            "min_height": null,
            "min_width": null,
            "object_fit": null,
            "object_position": null,
            "order": null,
            "overflow": null,
            "padding": null,
            "right": null,
            "top": null,
            "visibility": null,
            "width": null
          }
        },
        "be3fce310aee48eca9687cddb69621d4": {
          "model_module": "@jupyter-widgets/base",
          "model_module_version": "2.0.0",
          "model_name": "LayoutModel",
          "state": {
            "_model_module": "@jupyter-widgets/base",
            "_model_module_version": "2.0.0",
            "_model_name": "LayoutModel",
            "_view_count": null,
            "_view_module": "@jupyter-widgets/base",
            "_view_module_version": "2.0.0",
            "_view_name": "LayoutView",
            "align_content": null,
            "align_items": null,
            "align_self": null,
            "border_bottom": null,
            "border_left": null,
            "border_right": null,
            "border_top": null,
            "bottom": null,
            "display": null,
            "flex": null,
            "flex_flow": null,
            "grid_area": null,
            "grid_auto_columns": null,
            "grid_auto_flow": null,
            "grid_auto_rows": null,
            "grid_column": null,
            "grid_gap": null,
            "grid_row": null,
            "grid_template_areas": null,
            "grid_template_columns": null,
            "grid_template_rows": null,
            "height": null,
            "justify_content": null,
            "justify_items": null,
            "left": null,
            "margin": null,
            "max_height": null,
            "max_width": null,
            "min_height": null,
            "min_width": null,
            "object_fit": null,
            "object_position": null,
            "order": null,
            "overflow": null,
            "padding": null,
            "right": null,
            "top": null,
            "visibility": null,
            "width": null
          }
        },
        "bea9d3bfe8454f40b5d92fdd277be97f": {
          "model_module": "@jupyter-widgets/controls",
          "model_module_version": "2.0.0",
          "model_name": "HTMLStyleModel",
          "state": {
            "_model_module": "@jupyter-widgets/controls",
            "_model_module_version": "2.0.0",
            "_model_name": "HTMLStyleModel",
            "_view_count": null,
            "_view_module": "@jupyter-widgets/base",
            "_view_module_version": "2.0.0",
            "_view_name": "StyleView",
            "background": null,
            "description_width": "",
            "font_size": null,
            "text_color": null
          }
        },
        "c129600b32fb4c32adc1ab864a64f836": {
          "model_module": "@jupyter-widgets/controls",
          "model_module_version": "2.0.0",
          "model_name": "HTMLStyleModel",
          "state": {
            "_model_module": "@jupyter-widgets/controls",
            "_model_module_version": "2.0.0",
            "_model_name": "HTMLStyleModel",
            "_view_count": null,
            "_view_module": "@jupyter-widgets/base",
            "_view_module_version": "2.0.0",
            "_view_name": "StyleView",
            "background": null,
            "description_width": "",
            "font_size": null,
            "text_color": null
          }
        },
        "c36687e5c6b74f909dfd5f449b8ce9c9": {
          "model_module": "@jupyter-widgets/controls",
          "model_module_version": "2.0.0",
          "model_name": "HTMLModel",
          "state": {
            "_dom_classes": [],
            "_model_module": "@jupyter-widgets/controls",
            "_model_module_version": "2.0.0",
            "_model_name": "HTMLModel",
            "_view_count": null,
            "_view_module": "@jupyter-widgets/controls",
            "_view_module_version": "2.0.0",
            "_view_name": "HTMLView",
            "description": "",
            "description_allow_html": false,
            "layout": "IPY_MODEL_a97e62a6c02c440ab92da70a350c350b",
            "placeholder": "​",
            "style": "IPY_MODEL_d35807dfd8224695ad05073b2f8e6f8a",
            "tabbable": null,
            "tooltip": null,
            "value": " 185758/185758 [00:00&lt;00:00, 491500.69it/s]"
          }
        },
        "c9f899a0259a49b2b35ad6a4421e7133": {
          "model_module": "@jupyter-widgets/base",
          "model_module_version": "2.0.0",
          "model_name": "LayoutModel",
          "state": {
            "_model_module": "@jupyter-widgets/base",
            "_model_module_version": "2.0.0",
            "_model_name": "LayoutModel",
            "_view_count": null,
            "_view_module": "@jupyter-widgets/base",
            "_view_module_version": "2.0.0",
            "_view_name": "LayoutView",
            "align_content": null,
            "align_items": null,
            "align_self": null,
            "border_bottom": null,
            "border_left": null,
            "border_right": null,
            "border_top": null,
            "bottom": null,
            "display": "inline-flex",
            "flex": null,
            "flex_flow": "row wrap",
            "grid_area": null,
            "grid_auto_columns": null,
            "grid_auto_flow": null,
            "grid_auto_rows": null,
            "grid_column": null,
            "grid_gap": null,
            "grid_row": null,
            "grid_template_areas": null,
            "grid_template_columns": null,
            "grid_template_rows": null,
            "height": null,
            "justify_content": null,
            "justify_items": null,
            "left": null,
            "margin": null,
            "max_height": null,
            "max_width": null,
            "min_height": null,
            "min_width": null,
            "object_fit": null,
            "object_position": null,
            "order": null,
            "overflow": null,
            "padding": null,
            "right": null,
            "top": null,
            "visibility": null,
            "width": "100%"
          }
        },
        "cb4ce143bd074d6982adbacbb56feba4": {
          "model_module": "@jupyter-widgets/controls",
          "model_module_version": "2.0.0",
          "model_name": "ProgressStyleModel",
          "state": {
            "_model_module": "@jupyter-widgets/controls",
            "_model_module_version": "2.0.0",
            "_model_name": "ProgressStyleModel",
            "_view_count": null,
            "_view_module": "@jupyter-widgets/base",
            "_view_module_version": "2.0.0",
            "_view_name": "StyleView",
            "bar_color": null,
            "description_width": ""
          }
        },
        "cdb275d88a5444318018febfaa2c873f": {
          "model_module": "@jupyter-widgets/base",
          "model_module_version": "2.0.0",
          "model_name": "LayoutModel",
          "state": {
            "_model_module": "@jupyter-widgets/base",
            "_model_module_version": "2.0.0",
            "_model_name": "LayoutModel",
            "_view_count": null,
            "_view_module": "@jupyter-widgets/base",
            "_view_module_version": "2.0.0",
            "_view_name": "LayoutView",
            "align_content": null,
            "align_items": null,
            "align_self": null,
            "border_bottom": null,
            "border_left": null,
            "border_right": null,
            "border_top": null,
            "bottom": null,
            "display": "inline-flex",
            "flex": null,
            "flex_flow": "row wrap",
            "grid_area": null,
            "grid_auto_columns": null,
            "grid_auto_flow": null,
            "grid_auto_rows": null,
            "grid_column": null,
            "grid_gap": null,
            "grid_row": null,
            "grid_template_areas": null,
            "grid_template_columns": null,
            "grid_template_rows": null,
            "height": null,
            "justify_content": null,
            "justify_items": null,
            "left": null,
            "margin": null,
            "max_height": null,
            "max_width": null,
            "min_height": null,
            "min_width": null,
            "object_fit": null,
            "object_position": null,
            "order": null,
            "overflow": null,
            "padding": null,
            "right": null,
            "top": null,
            "visibility": null,
            "width": "100%"
          }
        },
        "cdc2ced225ad471f91a79056074cc07e": {
          "model_module": "@jupyter-widgets/controls",
          "model_module_version": "2.0.0",
          "model_name": "HTMLStyleModel",
          "state": {
            "_model_module": "@jupyter-widgets/controls",
            "_model_module_version": "2.0.0",
            "_model_name": "HTMLStyleModel",
            "_view_count": null,
            "_view_module": "@jupyter-widgets/base",
            "_view_module_version": "2.0.0",
            "_view_name": "StyleView",
            "background": null,
            "description_width": "",
            "font_size": null,
            "text_color": null
          }
        },
        "d0d3ba7ca37f45589d5ef19724bfbe0a": {
          "model_module": "@jupyter-widgets/controls",
          "model_module_version": "2.0.0",
          "model_name": "FloatProgressModel",
          "state": {
            "_dom_classes": [],
            "_model_module": "@jupyter-widgets/controls",
            "_model_module_version": "2.0.0",
            "_model_name": "FloatProgressModel",
            "_view_count": null,
            "_view_module": "@jupyter-widgets/controls",
            "_view_module_version": "2.0.0",
            "_view_name": "ProgressView",
            "bar_style": "success",
            "description": "",
            "description_allow_html": false,
            "layout": "IPY_MODEL_3d5009901e944003a3e28293dacd0de2",
            "max": 330960,
            "min": 0,
            "orientation": "horizontal",
            "style": "IPY_MODEL_5fdec22f00954727bc192dc49f178405",
            "tabbable": null,
            "tooltip": null,
            "value": 330960
          }
        },
        "d174f8beb5f24bd3ab1ec584f8ccfd8b": {
          "model_module": "@jupyter-widgets/base",
          "model_module_version": "2.0.0",
          "model_name": "LayoutModel",
          "state": {
            "_model_module": "@jupyter-widgets/base",
            "_model_module_version": "2.0.0",
            "_model_name": "LayoutModel",
            "_view_count": null,
            "_view_module": "@jupyter-widgets/base",
            "_view_module_version": "2.0.0",
            "_view_name": "LayoutView",
            "align_content": null,
            "align_items": null,
            "align_self": null,
            "border_bottom": null,
            "border_left": null,
            "border_right": null,
            "border_top": null,
            "bottom": null,
            "display": null,
            "flex": "2",
            "flex_flow": null,
            "grid_area": null,
            "grid_auto_columns": null,
            "grid_auto_flow": null,
            "grid_auto_rows": null,
            "grid_column": null,
            "grid_gap": null,
            "grid_row": null,
            "grid_template_areas": null,
            "grid_template_columns": null,
            "grid_template_rows": null,
            "height": null,
            "justify_content": null,
            "justify_items": null,
            "left": null,
            "margin": null,
            "max_height": null,
            "max_width": null,
            "min_height": null,
            "min_width": null,
            "object_fit": null,
            "object_position": null,
            "order": null,
            "overflow": null,
            "padding": null,
            "right": null,
            "top": null,
            "visibility": null,
            "width": null
          }
        },
        "d2507c5f83f942c38c96e023c6ef7a7f": {
          "model_module": "@jupyter-widgets/base",
          "model_module_version": "2.0.0",
          "model_name": "LayoutModel",
          "state": {
            "_model_module": "@jupyter-widgets/base",
            "_model_module_version": "2.0.0",
            "_model_name": "LayoutModel",
            "_view_count": null,
            "_view_module": "@jupyter-widgets/base",
            "_view_module_version": "2.0.0",
            "_view_name": "LayoutView",
            "align_content": null,
            "align_items": null,
            "align_self": null,
            "border_bottom": null,
            "border_left": null,
            "border_right": null,
            "border_top": null,
            "bottom": null,
            "display": null,
            "flex": null,
            "flex_flow": null,
            "grid_area": null,
            "grid_auto_columns": null,
            "grid_auto_flow": null,
            "grid_auto_rows": null,
            "grid_column": null,
            "grid_gap": null,
            "grid_row": null,
            "grid_template_areas": null,
            "grid_template_columns": null,
            "grid_template_rows": null,
            "height": null,
            "justify_content": null,
            "justify_items": null,
            "left": null,
            "margin": null,
            "max_height": null,
            "max_width": null,
            "min_height": null,
            "min_width": null,
            "object_fit": null,
            "object_position": null,
            "order": null,
            "overflow": null,
            "padding": null,
            "right": null,
            "top": null,
            "visibility": null,
            "width": null
          }
        },
        "d35807dfd8224695ad05073b2f8e6f8a": {
          "model_module": "@jupyter-widgets/controls",
          "model_module_version": "2.0.0",
          "model_name": "HTMLStyleModel",
          "state": {
            "_model_module": "@jupyter-widgets/controls",
            "_model_module_version": "2.0.0",
            "_model_name": "HTMLStyleModel",
            "_view_count": null,
            "_view_module": "@jupyter-widgets/base",
            "_view_module_version": "2.0.0",
            "_view_name": "StyleView",
            "background": null,
            "description_width": "",
            "font_size": null,
            "text_color": null
          }
        },
        "d49c3d232c5949fc96b57166247efb7e": {
          "model_module": "@jupyter-widgets/base",
          "model_module_version": "2.0.0",
          "model_name": "LayoutModel",
          "state": {
            "_model_module": "@jupyter-widgets/base",
            "_model_module_version": "2.0.0",
            "_model_name": "LayoutModel",
            "_view_count": null,
            "_view_module": "@jupyter-widgets/base",
            "_view_module_version": "2.0.0",
            "_view_name": "LayoutView",
            "align_content": null,
            "align_items": null,
            "align_self": null,
            "border_bottom": null,
            "border_left": null,
            "border_right": null,
            "border_top": null,
            "bottom": null,
            "display": null,
            "flex": null,
            "flex_flow": null,
            "grid_area": null,
            "grid_auto_columns": null,
            "grid_auto_flow": null,
            "grid_auto_rows": null,
            "grid_column": null,
            "grid_gap": null,
            "grid_row": null,
            "grid_template_areas": null,
            "grid_template_columns": null,
            "grid_template_rows": null,
            "height": null,
            "justify_content": null,
            "justify_items": null,
            "left": null,
            "margin": null,
            "max_height": null,
            "max_width": null,
            "min_height": null,
            "min_width": null,
            "object_fit": null,
            "object_position": null,
            "order": null,
            "overflow": null,
            "padding": null,
            "right": null,
            "top": null,
            "visibility": null,
            "width": null
          }
        },
        "d7a299642cd74873b04bfa681c84f580": {
          "model_module": "@jupyter-widgets/base",
          "model_module_version": "2.0.0",
          "model_name": "LayoutModel",
          "state": {
            "_model_module": "@jupyter-widgets/base",
            "_model_module_version": "2.0.0",
            "_model_name": "LayoutModel",
            "_view_count": null,
            "_view_module": "@jupyter-widgets/base",
            "_view_module_version": "2.0.0",
            "_view_name": "LayoutView",
            "align_content": null,
            "align_items": null,
            "align_self": null,
            "border_bottom": null,
            "border_left": null,
            "border_right": null,
            "border_top": null,
            "bottom": null,
            "display": null,
            "flex": null,
            "flex_flow": null,
            "grid_area": null,
            "grid_auto_columns": null,
            "grid_auto_flow": null,
            "grid_auto_rows": null,
            "grid_column": null,
            "grid_gap": null,
            "grid_row": null,
            "grid_template_areas": null,
            "grid_template_columns": null,
            "grid_template_rows": null,
            "height": null,
            "justify_content": null,
            "justify_items": null,
            "left": null,
            "margin": null,
            "max_height": null,
            "max_width": null,
            "min_height": null,
            "min_width": null,
            "object_fit": null,
            "object_position": null,
            "order": null,
            "overflow": null,
            "padding": null,
            "right": null,
            "top": null,
            "visibility": null,
            "width": null
          }
        },
        "d7f62ce60a264c47958c4d389c0f1ff7": {
          "model_module": "@jupyter-widgets/controls",
          "model_module_version": "2.0.0",
          "model_name": "HTMLModel",
          "state": {
            "_dom_classes": [],
            "_model_module": "@jupyter-widgets/controls",
            "_model_module_version": "2.0.0",
            "_model_name": "HTMLModel",
            "_view_count": null,
            "_view_module": "@jupyter-widgets/controls",
            "_view_module_version": "2.0.0",
            "_view_name": "HTMLView",
            "description": "",
            "description_allow_html": false,
            "layout": "IPY_MODEL_270993b048bb4b1bbbb948eda1535b60",
            "placeholder": "​",
            "style": "IPY_MODEL_935153335bc0424491f87ccab31d2e3d",
            "tabbable": null,
            "tooltip": null,
            "value": " 2/2 [00:06&lt;00:00,  3.43s/it]"
          }
        },
        "e0f0c3c13b284d028cab5fe53ab66065": {
          "model_module": "@jupyter-widgets/base",
          "model_module_version": "2.0.0",
          "model_name": "LayoutModel",
          "state": {
            "_model_module": "@jupyter-widgets/base",
            "_model_module_version": "2.0.0",
            "_model_name": "LayoutModel",
            "_view_count": null,
            "_view_module": "@jupyter-widgets/base",
            "_view_module_version": "2.0.0",
            "_view_name": "LayoutView",
            "align_content": null,
            "align_items": null,
            "align_self": null,
            "border_bottom": null,
            "border_left": null,
            "border_right": null,
            "border_top": null,
            "bottom": null,
            "display": null,
            "flex": null,
            "flex_flow": null,
            "grid_area": null,
            "grid_auto_columns": null,
            "grid_auto_flow": null,
            "grid_auto_rows": null,
            "grid_column": null,
            "grid_gap": null,
            "grid_row": null,
            "grid_template_areas": null,
            "grid_template_columns": null,
            "grid_template_rows": null,
            "height": null,
            "justify_content": null,
            "justify_items": null,
            "left": null,
            "margin": null,
            "max_height": null,
            "max_width": null,
            "min_height": null,
            "min_width": null,
            "object_fit": null,
            "object_position": null,
            "order": null,
            "overflow": null,
            "padding": null,
            "right": null,
            "top": null,
            "visibility": null,
            "width": null
          }
        },
        "e1c1620e7db944cab1ea607914aff6a7": {
          "model_module": "@jupyter-widgets/base",
          "model_module_version": "2.0.0",
          "model_name": "LayoutModel",
          "state": {
            "_model_module": "@jupyter-widgets/base",
            "_model_module_version": "2.0.0",
            "_model_name": "LayoutModel",
            "_view_count": null,
            "_view_module": "@jupyter-widgets/base",
            "_view_module_version": "2.0.0",
            "_view_name": "LayoutView",
            "align_content": null,
            "align_items": null,
            "align_self": null,
            "border_bottom": null,
            "border_left": null,
            "border_right": null,
            "border_top": null,
            "bottom": null,
            "display": null,
            "flex": null,
            "flex_flow": null,
            "grid_area": null,
            "grid_auto_columns": null,
            "grid_auto_flow": null,
            "grid_auto_rows": null,
            "grid_column": null,
            "grid_gap": null,
            "grid_row": null,
            "grid_template_areas": null,
            "grid_template_columns": null,
            "grid_template_rows": null,
            "height": null,
            "justify_content": null,
            "justify_items": null,
            "left": null,
            "margin": null,
            "max_height": null,
            "max_width": null,
            "min_height": null,
            "min_width": null,
            "object_fit": null,
            "object_position": null,
            "order": null,
            "overflow": null,
            "padding": null,
            "right": null,
            "top": null,
            "visibility": null,
            "width": null
          }
        },
        "e3461e501f1344019d44d4e44ff7dae3": {
          "model_module": "@jupyter-widgets/base",
          "model_module_version": "2.0.0",
          "model_name": "LayoutModel",
          "state": {
            "_model_module": "@jupyter-widgets/base",
            "_model_module_version": "2.0.0",
            "_model_name": "LayoutModel",
            "_view_count": null,
            "_view_module": "@jupyter-widgets/base",
            "_view_module_version": "2.0.0",
            "_view_name": "LayoutView",
            "align_content": null,
            "align_items": null,
            "align_self": null,
            "border_bottom": null,
            "border_left": null,
            "border_right": null,
            "border_top": null,
            "bottom": null,
            "display": null,
            "flex": null,
            "flex_flow": null,
            "grid_area": null,
            "grid_auto_columns": null,
            "grid_auto_flow": null,
            "grid_auto_rows": null,
            "grid_column": null,
            "grid_gap": null,
            "grid_row": null,
            "grid_template_areas": null,
            "grid_template_columns": null,
            "grid_template_rows": null,
            "height": null,
            "justify_content": null,
            "justify_items": null,
            "left": null,
            "margin": null,
            "max_height": null,
            "max_width": null,
            "min_height": null,
            "min_width": null,
            "object_fit": null,
            "object_position": null,
            "order": null,
            "overflow": null,
            "padding": null,
            "right": null,
            "top": null,
            "visibility": null,
            "width": null
          }
        },
        "e3a775bf3c754d438767bb5f4dafcc84": {
          "model_module": "@jupyter-widgets/controls",
          "model_module_version": "2.0.0",
          "model_name": "ProgressStyleModel",
          "state": {
            "_model_module": "@jupyter-widgets/controls",
            "_model_module_version": "2.0.0",
            "_model_name": "ProgressStyleModel",
            "_view_count": null,
            "_view_module": "@jupyter-widgets/base",
            "_view_module_version": "2.0.0",
            "_view_name": "StyleView",
            "bar_color": null,
            "description_width": ""
          }
        },
        "ea37ade7647c486c852927ea8649e17e": {
          "model_module": "@jupyter-widgets/controls",
          "model_module_version": "2.0.0",
          "model_name": "HTMLStyleModel",
          "state": {
            "_model_module": "@jupyter-widgets/controls",
            "_model_module_version": "2.0.0",
            "_model_name": "HTMLStyleModel",
            "_view_count": null,
            "_view_module": "@jupyter-widgets/base",
            "_view_module_version": "2.0.0",
            "_view_name": "StyleView",
            "background": null,
            "description_width": "",
            "font_size": null,
            "text_color": null
          }
        },
        "eae674ee2f79467992ba681a0e5cdbe2": {
          "model_module": "@jupyter-widgets/controls",
          "model_module_version": "2.0.0",
          "model_name": "HBoxModel",
          "state": {
            "_dom_classes": [],
            "_model_module": "@jupyter-widgets/controls",
            "_model_module_version": "2.0.0",
            "_model_name": "HBoxModel",
            "_view_count": null,
            "_view_module": "@jupyter-widgets/controls",
            "_view_module_version": "2.0.0",
            "_view_name": "HBoxView",
            "box_style": "",
            "children": [
              "IPY_MODEL_2aacbea643f547c7b7e601a534bb2ec7",
              "IPY_MODEL_9c9548f810984a81b01ae248d37f975c",
              "IPY_MODEL_2aaf3a22e6bd40c49b995859462bc801"
            ],
            "layout": "IPY_MODEL_1b562021f69b4683887d72cadd61441f",
            "tabbable": null,
            "tooltip": null
          }
        },
        "ec45568c643e4b259cbfb27d4f31f045": {
          "model_module": "@jupyter-widgets/base",
          "model_module_version": "2.0.0",
          "model_name": "LayoutModel",
          "state": {
            "_model_module": "@jupyter-widgets/base",
            "_model_module_version": "2.0.0",
            "_model_name": "LayoutModel",
            "_view_count": null,
            "_view_module": "@jupyter-widgets/base",
            "_view_module_version": "2.0.0",
            "_view_name": "LayoutView",
            "align_content": null,
            "align_items": null,
            "align_self": null,
            "border_bottom": null,
            "border_left": null,
            "border_right": null,
            "border_top": null,
            "bottom": null,
            "display": null,
            "flex": "2",
            "flex_flow": null,
            "grid_area": null,
            "grid_auto_columns": null,
            "grid_auto_flow": null,
            "grid_auto_rows": null,
            "grid_column": null,
            "grid_gap": null,
            "grid_row": null,
            "grid_template_areas": null,
            "grid_template_columns": null,
            "grid_template_rows": null,
            "height": null,
            "justify_content": null,
            "justify_items": null,
            "left": null,
            "margin": null,
            "max_height": null,
            "max_width": null,
            "min_height": null,
            "min_width": null,
            "object_fit": null,
            "object_position": null,
            "order": null,
            "overflow": null,
            "padding": null,
            "right": null,
            "top": null,
            "visibility": null,
            "width": null
          }
        },
        "eccc2d7eeb884da8b30024eb87abd2f9": {
          "model_module": "@jupyter-widgets/base",
          "model_module_version": "2.0.0",
          "model_name": "LayoutModel",
          "state": {
            "_model_module": "@jupyter-widgets/base",
            "_model_module_version": "2.0.0",
            "_model_name": "LayoutModel",
            "_view_count": null,
            "_view_module": "@jupyter-widgets/base",
            "_view_module_version": "2.0.0",
            "_view_name": "LayoutView",
            "align_content": null,
            "align_items": null,
            "align_self": null,
            "border_bottom": null,
            "border_left": null,
            "border_right": null,
            "border_top": null,
            "bottom": null,
            "display": null,
            "flex": "2",
            "flex_flow": null,
            "grid_area": null,
            "grid_auto_columns": null,
            "grid_auto_flow": null,
            "grid_auto_rows": null,
            "grid_column": null,
            "grid_gap": null,
            "grid_row": null,
            "grid_template_areas": null,
            "grid_template_columns": null,
            "grid_template_rows": null,
            "height": null,
            "justify_content": null,
            "justify_items": null,
            "left": null,
            "margin": null,
            "max_height": null,
            "max_width": null,
            "min_height": null,
            "min_width": null,
            "object_fit": null,
            "object_position": null,
            "order": null,
            "overflow": null,
            "padding": null,
            "right": null,
            "top": null,
            "visibility": null,
            "width": null
          }
        },
        "ede24ba48b194b388ff612e34cb657e4": {
          "model_module": "@jupyter-widgets/controls",
          "model_module_version": "2.0.0",
          "model_name": "HTMLStyleModel",
          "state": {
            "_model_module": "@jupyter-widgets/controls",
            "_model_module_version": "2.0.0",
            "_model_name": "HTMLStyleModel",
            "_view_count": null,
            "_view_module": "@jupyter-widgets/base",
            "_view_module_version": "2.0.0",
            "_view_name": "StyleView",
            "background": null,
            "description_width": "",
            "font_size": null,
            "text_color": null
          }
        },
        "efa2d3cf9c9948b78b2ed987410ff71f": {
          "model_module": "@jupyter-widgets/controls",
          "model_module_version": "2.0.0",
          "model_name": "HBoxModel",
          "state": {
            "_dom_classes": [],
            "_model_module": "@jupyter-widgets/controls",
            "_model_module_version": "2.0.0",
            "_model_name": "HBoxModel",
            "_view_count": null,
            "_view_module": "@jupyter-widgets/controls",
            "_view_module_version": "2.0.0",
            "_view_name": "HBoxView",
            "box_style": "",
            "children": [
              "IPY_MODEL_2585d31bcb0b48b0ab71bc14580aa635",
              "IPY_MODEL_4108e507494a4faf964ab2e769af7b49",
              "IPY_MODEL_4732ed1daa0148558d88d7b208ed6381"
            ],
            "layout": "IPY_MODEL_8674f000797245a1b62fd80d1551f4f7",
            "tabbable": null,
            "tooltip": null
          }
        },
        "f57ba79c60f641ff82e40f3bec1efdb7": {
          "model_module": "@jupyter-widgets/controls",
          "model_module_version": "2.0.0",
          "model_name": "HTMLModel",
          "state": {
            "_dom_classes": [],
            "_model_module": "@jupyter-widgets/controls",
            "_model_module_version": "2.0.0",
            "_model_name": "HTMLModel",
            "_view_count": null,
            "_view_module": "@jupyter-widgets/controls",
            "_view_module_version": "2.0.0",
            "_view_name": "HTMLView",
            "description": "",
            "description_allow_html": false,
            "layout": "IPY_MODEL_154936482c374fc681f2acabe79f314b",
            "placeholder": "​",
            "style": "IPY_MODEL_7e12468c4ae94a6988567e9558ec99e5",
            "tabbable": null,
            "tooltip": null,
            "value": " 330960/330960 [00:00&lt;00:00, 532474.48it/s]"
          }
        },
        "f7093acf2c4b4205a1d80215581a0d4f": {
          "model_module": "@jupyter-widgets/controls",
          "model_module_version": "2.0.0",
          "model_name": "HBoxModel",
          "state": {
            "_dom_classes": [],
            "_model_module": "@jupyter-widgets/controls",
            "_model_module_version": "2.0.0",
            "_model_name": "HBoxModel",
            "_view_count": null,
            "_view_module": "@jupyter-widgets/controls",
            "_view_module_version": "2.0.0",
            "_view_name": "HBoxView",
            "box_style": "",
            "children": [
              "IPY_MODEL_89f55b38e4384178b4322b2623bd37b7",
              "IPY_MODEL_7ff15c9932e34e6193286580e30554b8",
              "IPY_MODEL_c36687e5c6b74f909dfd5f449b8ce9c9"
            ],
            "layout": "IPY_MODEL_ade0f4af25d34bfe97d6ae6c2096e355",
            "tabbable": null,
            "tooltip": null
          }
        },
        "f7c10594d1664f37b4fbe1d21a8f9f78": {
          "model_module": "@jupyter-widgets/base",
          "model_module_version": "2.0.0",
          "model_name": "LayoutModel",
          "state": {
            "_model_module": "@jupyter-widgets/base",
            "_model_module_version": "2.0.0",
            "_model_name": "LayoutModel",
            "_view_count": null,
            "_view_module": "@jupyter-widgets/base",
            "_view_module_version": "2.0.0",
            "_view_name": "LayoutView",
            "align_content": null,
            "align_items": null,
            "align_self": null,
            "border_bottom": null,
            "border_left": null,
            "border_right": null,
            "border_top": null,
            "bottom": null,
            "display": null,
            "flex": null,
            "flex_flow": null,
            "grid_area": null,
            "grid_auto_columns": null,
            "grid_auto_flow": null,
            "grid_auto_rows": null,
            "grid_column": null,
            "grid_gap": null,
            "grid_row": null,
            "grid_template_areas": null,
            "grid_template_columns": null,
            "grid_template_rows": null,
            "height": null,
            "justify_content": null,
            "justify_items": null,
            "left": null,
            "margin": null,
            "max_height": null,
            "max_width": null,
            "min_height": null,
            "min_width": null,
            "object_fit": null,
            "object_position": null,
            "order": null,
            "overflow": null,
            "padding": null,
            "right": null,
            "top": null,
            "visibility": null,
            "width": null
          }
        },
        "faedf77712344b40a98ae5a544357ee4": {
          "model_module": "@jupyter-widgets/base",
          "model_module_version": "2.0.0",
          "model_name": "LayoutModel",
          "state": {
            "_model_module": "@jupyter-widgets/base",
            "_model_module_version": "2.0.0",
            "_model_name": "LayoutModel",
            "_view_count": null,
            "_view_module": "@jupyter-widgets/base",
            "_view_module_version": "2.0.0",
            "_view_name": "LayoutView",
            "align_content": null,
            "align_items": null,
            "align_self": null,
            "border_bottom": null,
            "border_left": null,
            "border_right": null,
            "border_top": null,
            "bottom": null,
            "display": null,
            "flex": null,
            "flex_flow": null,
            "grid_area": null,
            "grid_auto_columns": null,
            "grid_auto_flow": null,
            "grid_auto_rows": null,
            "grid_column": null,
            "grid_gap": null,
            "grid_row": null,
            "grid_template_areas": null,
            "grid_template_columns": null,
            "grid_template_rows": null,
            "height": null,
            "justify_content": null,
            "justify_items": null,
            "left": null,
            "margin": null,
            "max_height": null,
            "max_width": null,
            "min_height": null,
            "min_width": null,
            "object_fit": null,
            "object_position": null,
            "order": null,
            "overflow": null,
            "padding": null,
            "right": null,
            "top": null,
            "visibility": null,
            "width": null
          }
        }
      }
    }
  },
  "nbformat": 4,
  "nbformat_minor": 0
}
